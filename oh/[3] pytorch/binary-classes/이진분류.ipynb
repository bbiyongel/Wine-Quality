{
 "cells": [
  {
   "cell_type": "markdown",
   "metadata": {},
   "source": [
    "# 라이브러리"
   ]
  },
  {
   "cell_type": "code",
   "execution_count": 1,
   "metadata": {},
   "outputs": [],
   "source": [
    "import torch\n",
    "import torch.nn as nn\n",
    "import torch.nn.functional as F\n",
    "import torch.optim as optim\n",
    "from torch.autograd import Variable\n",
    "import matplotlib.pyplot as plt\n",
    "import pandas as pd\n",
    "import numpy as np\n",
    "import torch.nn.init as init\n",
    "from torch.optim import lr_scheduler"
   ]
  },
  {
   "cell_type": "markdown",
   "metadata": {},
   "source": [
    "# 데이터 가져오기"
   ]
  },
  {
   "cell_type": "code",
   "execution_count": 2,
   "metadata": {},
   "outputs": [
    {
     "name": "stdout",
     "output_type": "stream",
     "text": [
      "       fixed acidity  volatile acidity  citric acid  residual sugar  \\\n",
      "count    6463.000000       6463.000000  6463.000000     6463.000000   \n",
      "mean        7.217755          0.339589     0.318758        5.443958   \n",
      "std         1.297913          0.164639     0.145252        4.756852   \n",
      "min         3.800000          0.080000     0.000000        0.600000   \n",
      "25%         6.400000          0.230000     0.250000        1.800000   \n",
      "50%         7.000000          0.290000     0.310000        3.000000   \n",
      "75%         7.700000          0.400000     0.390000        8.100000   \n",
      "max        15.900000          1.580000     1.660000       65.800000   \n",
      "\n",
      "         chlorides  free sulfur dioxide  total sulfur dioxide      density  \\\n",
      "count  6463.000000          6463.000000           6463.000000  6463.000000   \n",
      "mean      0.056056            30.516865            115.694492     0.994698   \n",
      "std       0.035076            17.758815             56.526736     0.003001   \n",
      "min       0.009000             1.000000              6.000000     0.987110   \n",
      "25%       0.038000            17.000000             77.000000     0.992330   \n",
      "50%       0.047000            29.000000            118.000000     0.994890   \n",
      "75%       0.065000            41.000000            156.000000     0.997000   \n",
      "max       0.611000           289.000000            440.000000     1.038980   \n",
      "\n",
      "                pH    sulphates      alcohol      quality  \n",
      "count  6463.000000  6463.000000  6463.000000  6463.000000  \n",
      "mean      3.218332     0.531150    10.492825     5.818505  \n",
      "std       0.160650     0.148913     1.193128     0.873286  \n",
      "min       2.720000     0.220000     8.000000     3.000000  \n",
      "25%       3.110000     0.430000     9.500000     5.000000  \n",
      "50%       3.210000     0.510000    10.300000     6.000000  \n",
      "75%       3.320000     0.600000    11.300000     6.000000  \n",
      "max       4.010000     2.000000    14.900000     9.000000  \n"
     ]
    }
   ],
   "source": [
    "datapath = \"./data/winequalityN.csv\"\n",
    "\n",
    "data_sets = pd.read_csv(datapath, delimiter = ',')\n",
    "\n",
    "data_sets.dropna(inplace = True, axis = 0)\n",
    "\n",
    "x_data = data_sets.drop(columns = [\"type\", \"quality\"],axis = 1)\n",
    "\n",
    "y_data = np.where(data_sets['quality'] > 5, 1.0, 0.0)\n",
    "y_data = [[i] for i in y_data]\n",
    "\n",
    "print(data_sets.describe())"
   ]
  },
  {
   "cell_type": "markdown",
   "metadata": {},
   "source": [
    "# 데이터 정규화"
   ]
  },
  {
   "cell_type": "code",
   "execution_count": 3,
   "metadata": {},
   "outputs": [],
   "source": [
    "def norm(df,key):\n",
    "    c = df[key]\n",
    "    df_min = c.min()\n",
    "    df_max = c.max()\n",
    "#     print(\"key=> \",key,\"min\",df_min,\"max\",df_max)\n",
    "    df[key] = (c-df_min)/(df_max-df_min)\n",
    "\n",
    "x_columns = x_data.columns.tolist()\n",
    "# norm_list = ['fixed acidity','residual sugar', 'free sulfur dioxide', 'total sulfur dioxide', 'pH','alcohol']\n",
    "\n",
    "for i in x_columns:\n",
    "    norm(x_data, i)"
   ]
  },
  {
   "cell_type": "markdown",
   "metadata": {},
   "source": [
    "# train, test 분할"
   ]
  },
  {
   "cell_type": "code",
   "execution_count": 4,
   "metadata": {},
   "outputs": [],
   "source": [
    "x_data = x_data.values.tolist()"
   ]
  },
  {
   "cell_type": "code",
   "execution_count": 5,
   "metadata": {},
   "outputs": [],
   "source": [
    "train_size = int(len(x_data) * 0.8)\n",
    "\n",
    "x_train = x_data[:train_size]\n",
    "y_train = y_data[:train_size]\n",
    "\n",
    "x_test = x_data[train_size:]\n",
    "y_test = y_data[train_size:]\n",
    "\n",
    "feature_size = len(x_train[0])\n",
    "learning_rate = 0.0001"
   ]
  },
  {
   "cell_type": "code",
   "execution_count": 6,
   "metadata": {},
   "outputs": [],
   "source": [
    "torch.manual_seed(1)\n",
    "\n",
    "x_train = torch.FloatTensor(x_train)\n",
    "y_train = torch.FloatTensor(y_train)\n",
    "\n",
    "x_test = torch.FloatTensor(x_test)\n",
    "y_test = torch.FloatTensor(y_test)"
   ]
  },
  {
   "cell_type": "code",
   "execution_count": 7,
   "metadata": {},
   "outputs": [
    {
     "name": "stdout",
     "output_type": "stream",
     "text": [
      "torch.Size([5170, 11])\n",
      "torch.Size([5170, 1])\n",
      "tensor([1.])\n"
     ]
    }
   ],
   "source": [
    "print(x_train.shape)\n",
    "print(y_train.shape)\n",
    "print(y_train[3])"
   ]
  },
  {
   "cell_type": "markdown",
   "metadata": {},
   "source": [
    "# 모델 선언"
   ]
  },
  {
   "cell_type": "code",
   "execution_count": 8,
   "metadata": {},
   "outputs": [
    {
     "name": "stderr",
     "output_type": "stream",
     "text": [
      "/home/ec2-user/anaconda3/envs/pytorch_p27/lib/python2.7/site-packages/ipykernel/__main__.py:57: UserWarning: nn.init.kaiming_normal is now deprecated in favor of nn.init.kaiming_normal_.\n"
     ]
    }
   ],
   "source": [
    "class binary_logistic(nn.Module):\n",
    "    def __init__(self):\n",
    "        super(binary_logistic, self).__init__()\n",
    "        self.drop_rate = 0.5\n",
    "        self.layer = nn.Sequential(\n",
    "            nn.Linear(feature_size, 512),\n",
    "            nn.ELU(),\n",
    "            nn.Dropout2d(self.drop_rate),\n",
    "            nn.BatchNorm1d(512),\n",
    "            \n",
    "            nn.Linear(512, 256),\n",
    "            nn.ELU(),\n",
    "            nn.Dropout2d(self.drop_rate),\n",
    "            nn.BatchNorm1d(256),\n",
    "            \n",
    "            nn.Linear(256, 128),\n",
    "            nn.ELU(),\n",
    "            nn.Dropout2d(self.drop_rate),\n",
    "            nn.BatchNorm1d(128),\n",
    "            \n",
    "            nn.Linear(128, 64),\n",
    "            nn.ELU(),\n",
    "            nn.Dropout2d(self.drop_rate),\n",
    "            nn.BatchNorm1d(64),\n",
    "            \n",
    "            nn.Linear(64, 32),\n",
    "            nn.ELU(),\n",
    "            nn.Dropout2d(self.drop_rate),\n",
    "            nn.BatchNorm1d(32),\n",
    "            \n",
    "            nn.Linear(32, 16),\n",
    "            nn.ELU(),\n",
    "            nn.Dropout2d(self.drop_rate),\n",
    "            nn.BatchNorm1d(16),\n",
    "            \n",
    "            nn.Linear(16, 8),\n",
    "            nn.ELU(),\n",
    "            nn.Dropout2d(self.drop_rate),\n",
    "            nn.BatchNorm1d(8),\n",
    "            \n",
    "            nn.Linear(8, 4),\n",
    "            nn.ELU(),\n",
    "            nn.Dropout2d(self.drop_rate),\n",
    "            nn.BatchNorm1d(4),\n",
    "            \n",
    "            nn.Linear(4, 2),\n",
    "            nn.ELU(),\n",
    "            nn.Dropout2d(0.3),\n",
    "            nn.BatchNorm1d(2),\n",
    "            \n",
    "            nn.Linear(2, 1),\n",
    "            nn.Sigmoid(),\n",
    "        )\n",
    "        \n",
    "        for m in self.modules():\n",
    "            if isinstance(m, nn.Linear):\n",
    "                init.kaiming_normal(m.weight.data)\n",
    "                m.bias.data.fill_(0)\n",
    "        \n",
    "    def forward(self, x):\n",
    "        out = self.layer(x)\n",
    "\n",
    "        return out\n",
    "    \n",
    "\n",
    "model = binary_logistic().cuda()"
   ]
  },
  {
   "cell_type": "markdown",
   "metadata": {},
   "source": [
    "# optimizer"
   ]
  },
  {
   "cell_type": "code",
   "execution_count": 9,
   "metadata": {},
   "outputs": [],
   "source": [
    "optimizer = optim.Adam(model.parameters(), lr=learning_rate)\n",
    "scheduler = lr_scheduler.StepLR(optimizer, step_size = 20, gamma = 0.00001)"
   ]
  },
  {
   "cell_type": "markdown",
   "metadata": {},
   "source": [
    "# train"
   ]
  },
  {
   "cell_type": "code",
   "execution_count": 10,
   "metadata": {},
   "outputs": [
    {
     "name": "stdout",
     "output_type": "stream",
     "text": [
      "Epoch    0/8000 Cost: 0.805435\n",
      "Epoch 1000/8000 Cost: 0.654229\n",
      "Epoch 2000/8000 Cost: 0.615056\n",
      "Epoch 3000/8000 Cost: 0.598624\n",
      "Epoch 4000/8000 Cost: 0.580524\n",
      "Epoch 5000/8000 Cost: 0.570233\n",
      "Epoch 6000/8000 Cost: 0.551488\n",
      "Epoch 7000/8000 Cost: 0.540955\n",
      "Epoch 8000/8000 Cost: 0.536991\n"
     ]
    }
   ],
   "source": [
    "graph_x = []\n",
    "graph_y = []\n",
    "\n",
    "nb_epochs = 8000\n",
    "\n",
    "model.train()\n",
    "\n",
    "for epoch in range(nb_epochs + 1):\n",
    "    x = Variable(x_train).cuda()\n",
    "    y_ = Variable(y_train).cuda()\n",
    "    \n",
    "    prediction = model.forward(x)\n",
    "\n",
    "    cost = F.binary_cross_entropy(prediction, y_)\n",
    "\n",
    "\n",
    "    optimizer.zero_grad()\n",
    "    cost.backward()\n",
    "    optimizer.step()\n",
    "    \n",
    "    graph_x.append(epoch)\n",
    "    graph_y.append(cost)\n",
    "\n",
    "    if epoch % 1000 == 0:\n",
    "        print('Epoch {:4d}/{} Cost: {:.6f}'.format(\n",
    "            epoch, nb_epochs, cost.item()\n",
    "        ))"
   ]
  },
  {
   "cell_type": "markdown",
   "metadata": {},
   "source": [
    "# 정확도 계산"
   ]
  },
  {
   "cell_type": "code",
   "execution_count": 11,
   "metadata": {},
   "outputs": [],
   "source": [
    "def ComputeAcc(imodel):\n",
    "    correct = 0\n",
    "    total = len(y_test)\n",
    "\n",
    "    x = Variable(x_test).cuda()\n",
    "    _y = Variable(y_test).cuda()\n",
    "    \n",
    "    output = imodel.forward(x)\n",
    "    prediction = output >= torch.FloatTensor([0.5]).cuda()\n",
    "    \n",
    "    correct += (prediction == _y).sum()\n",
    "    acc = 100*correct/total\n",
    "\n",
    "    return acc"
   ]
  },
  {
   "cell_type": "code",
   "execution_count": 12,
   "metadata": {},
   "outputs": [
    {
     "name": "stdout",
     "output_type": "stream",
     "text": [
      "Accuracy of Test Data : 72\n"
     ]
    }
   ],
   "source": [
    "model.eval()\n",
    "acc = ComputeAcc(model)\n",
    "print(\"Accuracy of Test Data : {}\".format(acc))"
   ]
  },
  {
   "cell_type": "markdown",
   "metadata": {},
   "source": [
    "# cost 그래프 그리기"
   ]
  },
  {
   "cell_type": "code",
   "execution_count": 13,
   "metadata": {},
   "outputs": [],
   "source": [
    "def show_graph(cost_x, cost_y):\n",
    "    plt.plot(cost_x, cost_y,'b-')\n",
    "    plt.xlabel(\"Epoch\")\n",
    "    plt.ylabel(\"cost\")\n",
    "    plt.title(\"Cost Graph\")\n",
    "    plt.show()"
   ]
  },
  {
   "cell_type": "code",
   "execution_count": 14,
   "metadata": {},
   "outputs": [
    {
     "data": {
      "image/png": "[encoded data removed]",
      "text/plain": [
       "<Figure size 432x288 with 1 Axes>"
      ]
     },
     "metadata": {},
     "output_type": "display_data"
    }
   ],
   "source": [
    "show_graph(graph_x, graph_y)"
   ]
  },
  {
   "cell_type": "markdown",
   "metadata": {},
   "source": [
    "# 사용자 입력"
   ]
  },
  {
   "cell_type": "code",
   "execution_count": 15,
   "metadata": {},
   "outputs": [],
   "source": [
    "x = [[7,0.27,0.36,20.7,0.045,45,170,1.0,3,0.45,8.8], # 6 - 1\n",
    "     [6.2,0.66,0.48,1.2,0.029,29,75,0.9892,3.33,0.39,12.8], # 8 - 1\n",
    "     [5.8,0.27,0.2,14.95,0.044,22,179,0.9962,3.37,0.37,10.2], # 5 - 0\n",
    "     [7.6,0.48,0.37,0.8,0.037,4,100,0.9902,3.03,0.39,11.4], # 4 - 0\n",
    "     [9.1,0.27,0.45,10.6,0.035,28,124,0.997,3.2,0.46,10.4], # 9 - 1\n",
    "     [10.3,0.17,0.47,1.4,0.037,5,33,0.9939,2.89,0.28,9.6], # 3 - 0\n",
    "     [8.3,0.27,0.45,1.3,0.048,8,72,0.9944,3.08,0.61,10.3], # 4 - 0\n",
    "     [7.1,0.25,0.39,2.1,0.036,30,124,0.9908,3.28,0.43,12.2], # 8 - 1\n",
    "     [5.6,0.29,0.05,0.8,0.038,11,30,0.9924,3.36,0.35,9.2], # 5 - 0\n",
    "     [7.7,0.17,0.52,5.9,0.017,21,84,0.9929,3.14,0.4,11.9] # 7 - 1\n",
    "    ]\n",
    "y = [1, 1, 0, 0, 1, 0, 0, 1, 0, 1]\n",
    "\n",
    "x_input = pd.DataFrame(x, columns = x_columns)\n",
    "\n",
    "for i in x_columns:\n",
    "    norm(x_input, i)\n",
    "    \n",
    "x_input = x_input.values.tolist()"
   ]
  },
  {
   "cell_type": "markdown",
   "metadata": {},
   "source": [
    "# 사용자 입력 결과"
   ]
  },
  {
   "cell_type": "code",
   "execution_count": 16,
   "metadata": {},
   "outputs": [
    {
     "name": "stdout",
     "output_type": "stream",
     "text": [
      "입력하신 binary_quality는 : 0 이고, 실제값은 : 1 입니다. 정답 여부는 : False 입니다\n",
      "입력하신 binary_quality는 : 1 이고, 실제값은 : 1 입니다. 정답 여부는 : True 입니다\n",
      "입력하신 binary_quality는 : 0 이고, 실제값은 : 0 입니다. 정답 여부는 : True 입니다\n",
      "입력하신 binary_quality는 : 0 이고, 실제값은 : 0 입니다. 정답 여부는 : True 입니다\n",
      "입력하신 binary_quality는 : 1 이고, 실제값은 : 1 입니다. 정답 여부는 : True 입니다\n",
      "입력하신 binary_quality는 : 1 이고, 실제값은 : 0 입니다. 정답 여부는 : False 입니다\n",
      "입력하신 binary_quality는 : 0 이고, 실제값은 : 0 입니다. 정답 여부는 : True 입니다\n",
      "입력하신 binary_quality는 : 1 이고, 실제값은 : 1 입니다. 정답 여부는 : True 입니다\n",
      "입력하신 binary_quality는 : 0 이고, 실제값은 : 0 입니다. 정답 여부는 : True 입니다\n",
      "입력하신 binary_quality는 : 1 이고, 실제값은 : 1 입니다. 정답 여부는 : True 입니다\n"
     ]
    }
   ],
   "source": [
    "x = torch.FloatTensor(x_input)\n",
    "\n",
    "x_ = Variable(x).cuda()\n",
    "\n",
    "model.eval()\n",
    "output = model.forward(x_)\n",
    "prediction = output >= torch.FloatTensor([0.5]).cuda()\n",
    "\n",
    "prediction = np.array(prediction.to(device = torch.device('cpu')), dtype = np.int32)\n",
    "prediction = prediction.reshape((-1,))\n",
    "\n",
    "for i in range(len(prediction)):\n",
    "    print(\"입력하신 binary_quality는 : {} 이고, 실제값은 : {} 입니다. 정답 여부는 : {} 입니다\".\n",
    "          format(prediction[i], y[i],prediction[i]==y[i]))"
   ]
  }
 ],
 "metadata": {
  "kernelspec": {
   "display_name": "conda_pytorch_p27",
   "language": "python",
   "name": "conda_pytorch_p27"
  },
  "language_info": {
   "codemirror_mode": {
    "name": "ipython",
    "version": 2
   },
   "file_extension": ".py",
   "mimetype": "text/x-python",
   "name": "python",
   "nbconvert_exporter": "python",
   "pygments_lexer": "ipython2",
   "version": "2.7.15"
  }
 },
 "nbformat": 4,
 "nbformat_minor": 4
}

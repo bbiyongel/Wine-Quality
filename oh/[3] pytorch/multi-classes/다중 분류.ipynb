{
 "cells": [
  {
   "cell_type": "markdown",
   "metadata": {},
   "source": [
    "# 라이브러리"
   ]
  },
  {
   "cell_type": "code",
   "execution_count": 1,
   "metadata": {},
   "outputs": [],
   "source": [
    "import torch\n",
    "import torch.nn as nn\n",
    "import torch.nn.functional as F\n",
    "import torch.optim as optim\n",
    "from torch.autograd import Variable\n",
    "import matplotlib.pyplot as plt\n",
    "import pandas as pd\n",
    "import numpy as np"
   ]
  },
  {
   "cell_type": "markdown",
   "metadata": {},
   "source": [
    "# 데이터 가져오기"
   ]
  },
  {
   "cell_type": "code",
   "execution_count": 2,
   "metadata": {},
   "outputs": [],
   "source": [
    "datapath = \"./data/winequalityN.csv\"\n",
    "\n",
    "data_sets = pd.read_csv(datapath, delimiter = ',')\n",
    "\n",
    "data_sets.dropna(inplace = True)\n",
    "\n",
    "x_data = data_sets.drop(columns = [\"type\", \"quality\"],axis = 1)\n",
    "# x_data = x_data[['volatile acidity','alcohol']]\n",
    "# y_data = np.where(data_sets['quality'] > 5,1.0,0.0)\n",
    "y_data = data_sets['quality']"
   ]
  },
  {
   "cell_type": "markdown",
   "metadata": {},
   "source": [
    "# 데이터 요약"
   ]
  },
  {
   "cell_type": "code",
   "execution_count": 3,
   "metadata": {
    "scrolled": false
   },
   "outputs": [
    {
     "name": "stdout",
     "output_type": "stream",
     "text": [
      "       fixed acidity  volatile acidity  citric acid  residual sugar  \\\n",
      "count    6463.000000       6463.000000  6463.000000     6463.000000   \n",
      "mean        7.217755          0.339589     0.318758        5.443958   \n",
      "std         1.297913          0.164639     0.145252        4.756852   \n",
      "min         3.800000          0.080000     0.000000        0.600000   \n",
      "25%         6.400000          0.230000     0.250000        1.800000   \n",
      "50%         7.000000          0.290000     0.310000        3.000000   \n",
      "75%         7.700000          0.400000     0.390000        8.100000   \n",
      "max        15.900000          1.580000     1.660000       65.800000   \n",
      "\n",
      "         chlorides  free sulfur dioxide  total sulfur dioxide      density  \\\n",
      "count  6463.000000          6463.000000           6463.000000  6463.000000   \n",
      "mean      0.056056            30.516865            115.694492     0.994698   \n",
      "std       0.035076            17.758815             56.526736     0.003001   \n",
      "min       0.009000             1.000000              6.000000     0.987110   \n",
      "25%       0.038000            17.000000             77.000000     0.992330   \n",
      "50%       0.047000            29.000000            118.000000     0.994890   \n",
      "75%       0.065000            41.000000            156.000000     0.997000   \n",
      "max       0.611000           289.000000            440.000000     1.038980   \n",
      "\n",
      "                pH    sulphates      alcohol      quality  \n",
      "count  6463.000000  6463.000000  6463.000000  6463.000000  \n",
      "mean      3.218332     0.531150    10.492825     5.818505  \n",
      "std       0.160650     0.148913     1.193128     0.873286  \n",
      "min       2.720000     0.220000     8.000000     3.000000  \n",
      "25%       3.110000     0.430000     9.500000     5.000000  \n",
      "50%       3.210000     0.510000    10.300000     6.000000  \n",
      "75%       3.320000     0.600000    11.300000     6.000000  \n",
      "max       4.010000     2.000000    14.900000     9.000000  \n"
     ]
    }
   ],
   "source": [
    "print(data_sets.describe())"
   ]
  },
  {
   "cell_type": "markdown",
   "metadata": {},
   "source": [
    "# 데이터 정규화"
   ]
  },
  {
   "cell_type": "code",
   "execution_count": 4,
   "metadata": {},
   "outputs": [],
   "source": [
    "def norm(df,key):\n",
    "    c = df[key]\n",
    "    df_min = c.min()\n",
    "    df_max = c.max()\n",
    "#     print(\"key=> \",key,\"min\",df_min,\"max\",df_max)\n",
    "    df[key] = (c-df_min)/(df_max-df_min)\n",
    "\n",
    "x_columns = x_data.columns.tolist()\n",
    "\n",
    "for i in x_columns:\n",
    "    norm(x_data, i)"
   ]
  },
  {
   "cell_type": "markdown",
   "metadata": {},
   "source": [
    "# train, test"
   ]
  },
  {
   "cell_type": "code",
   "execution_count": 5,
   "metadata": {},
   "outputs": [],
   "source": [
    "x_data = x_data.values.tolist()\n",
    "y_data = [i-3 for i in y_data]"
   ]
  },
  {
   "cell_type": "code",
   "execution_count": 6,
   "metadata": {},
   "outputs": [],
   "source": [
    "train_size = int(len(x_data) * 0.8)\n",
    "\n",
    "x_train = x_data[:train_size]\n",
    "y_train = y_data[:train_size]\n",
    "\n",
    "x_test = x_data[train_size:]\n",
    "y_test = y_data[train_size:]\n",
    "\n",
    "feature_size = len(x_train[0])\n",
    "learning_rate = 0.0001"
   ]
  },
  {
   "cell_type": "code",
   "execution_count": 7,
   "metadata": {},
   "outputs": [],
   "source": [
    "x_train = torch.FloatTensor(x_train)\n",
    "y_train = torch.LongTensor(y_train)\n",
    "\n",
    "x_test = torch.FloatTensor(x_test)\n",
    "y_test = torch.LongTensor(y_test)"
   ]
  },
  {
   "cell_type": "code",
   "execution_count": 8,
   "metadata": {},
   "outputs": [
    {
     "name": "stdout",
     "output_type": "stream",
     "text": [
      "torch.Size([5170, 11])\n",
      "torch.Size([5170])\n",
      "tensor(3)\n"
     ]
    }
   ],
   "source": [
    "print(x_train.shape)\n",
    "print(y_train.shape)\n",
    "print(y_train[3])"
   ]
  },
  {
   "cell_type": "code",
   "execution_count": 9,
   "metadata": {},
   "outputs": [
    {
     "name": "stdout",
     "output_type": "stream",
     "text": [
      "torch.Size([5170, 7])\n"
     ]
    }
   ],
   "source": [
    "y_one_hot = torch.zeros(train_size, 7)\n",
    "target = torch.randint(high=7, size=(1,train_size))\n",
    "y_one_hot[range(y_one_hot.shape[0]), target]=1\n",
    "print(y_one_hot.shape)"
   ]
  },
  {
   "cell_type": "markdown",
   "metadata": {},
   "source": [
    "# 모델 선언"
   ]
  },
  {
   "cell_type": "code",
   "execution_count": 10,
   "metadata": {},
   "outputs": [],
   "source": [
    "class binary_logistic(nn.Module):\n",
    "    def __init__(self):\n",
    "        super(binary_logistic, self).__init__()\n",
    "        self.layer = nn.Sequential(\n",
    "            nn.Linear(feature_size, 64),\n",
    "            nn.Sigmoid(),\n",
    "            nn.Linear(64, 32),\n",
    "            nn.Sigmoid(),\n",
    "            nn.Linear(32, 16),\n",
    "            nn.Sigmoid(),\n",
    "            nn.Linear(16, 7),\n",
    "            nn.Sigmoid(),\n",
    "        )\n",
    "        \n",
    "    def forward(self, x):\n",
    "        out = self.layer(x)\n",
    "\n",
    "        return out\n",
    "    \n",
    "    \n",
    "model = binary_logistic().cuda()"
   ]
  },
  {
   "cell_type": "markdown",
   "metadata": {},
   "source": [
    "# optimizer"
   ]
  },
  {
   "cell_type": "code",
   "execution_count": 11,
   "metadata": {},
   "outputs": [],
   "source": [
    "optimizer = optim.Adam(model.parameters(), lr=learning_rate)"
   ]
  },
  {
   "cell_type": "markdown",
   "metadata": {},
   "source": [
    "# train"
   ]
  },
  {
   "cell_type": "code",
   "execution_count": 12,
   "metadata": {},
   "outputs": [
    {
     "name": "stdout",
     "output_type": "stream",
     "text": [
      "Epoch    0/4000 Cost: 1.975478\n",
      "Epoch  100/4000 Cost: 1.941582\n",
      "Epoch  200/4000 Cost: 1.907943\n",
      "Epoch  300/4000 Cost: 1.874030\n",
      "Epoch  400/4000 Cost: 1.840642\n",
      "Epoch  500/4000 Cost: 1.809015\n",
      "Epoch  600/4000 Cost: 1.780271\n",
      "Epoch  700/4000 Cost: 1.755113\n",
      "Epoch  800/4000 Cost: 1.733594\n",
      "Epoch  900/4000 Cost: 1.715277\n",
      "Epoch 1000/4000 Cost: 1.699531\n",
      "Epoch 1100/4000 Cost: 1.685727\n",
      "Epoch 1200/4000 Cost: 1.673316\n",
      "Epoch 1300/4000 Cost: 1.661890\n",
      "Epoch 1400/4000 Cost: 1.651288\n",
      "Epoch 1500/4000 Cost: 1.641645\n",
      "Epoch 1600/4000 Cost: 1.633181\n",
      "Epoch 1700/4000 Cost: 1.625943\n",
      "Epoch 1800/4000 Cost: 1.619801\n",
      "Epoch 1900/4000 Cost: 1.614566\n",
      "Epoch 2000/4000 Cost: 1.610065\n",
      "Epoch 2100/4000 Cost: 1.606157\n",
      "Epoch 2200/4000 Cost: 1.602732\n",
      "Epoch 2300/4000 Cost: 1.599706\n",
      "Epoch 2400/4000 Cost: 1.597013\n",
      "Epoch 2500/4000 Cost: 1.594600\n",
      "Epoch 2600/4000 Cost: 1.592427\n",
      "Epoch 2700/4000 Cost: 1.590460\n",
      "Epoch 2800/4000 Cost: 1.588673\n",
      "Epoch 2900/4000 Cost: 1.587042\n",
      "Epoch 3000/4000 Cost: 1.585548\n",
      "Epoch 3100/4000 Cost: 1.584176\n",
      "Epoch 3200/4000 Cost: 1.582913\n",
      "Epoch 3300/4000 Cost: 1.581745\n",
      "Epoch 3400/4000 Cost: 1.580666\n",
      "Epoch 3500/4000 Cost: 1.579663\n",
      "Epoch 3600/4000 Cost: 1.578731\n",
      "Epoch 3700/4000 Cost: 1.577866\n",
      "Epoch 3800/4000 Cost: 1.577056\n",
      "Epoch 3900/4000 Cost: 1.576301\n",
      "Epoch 4000/4000 Cost: 1.575594\n"
     ]
    }
   ],
   "source": [
    "graph_x = []\n",
    "graph_y = []\n",
    "\n",
    "nb_epochs = 4000\n",
    "for epoch in range(nb_epochs + 1):\n",
    "    x = Variable(x_train).cuda()\n",
    "    y_ = Variable(y_train).cuda()\n",
    "    \n",
    "    prediction = model.forward(x)\n",
    "\n",
    "    # cost 계산\n",
    "    cost = F.cross_entropy(prediction, y_)\n",
    "\n",
    "    # cost로 H(x) 개선\n",
    "    optimizer.zero_grad()\n",
    "    cost.backward()\n",
    "    optimizer.step()\n",
    "    \n",
    "    graph_x.append(epoch)\n",
    "    graph_y.append(cost)\n",
    "\n",
    "    # 20번마다 로그 출력\n",
    "    if epoch % 100 == 0:\n",
    "        print('Epoch {:4d}/{} Cost: {:.6f}'.format(\n",
    "            epoch, nb_epochs, cost.item()\n",
    "        ))"
   ]
  },
  {
   "cell_type": "markdown",
   "metadata": {},
   "source": [
    "# 정확도 계산"
   ]
  },
  {
   "cell_type": "code",
   "execution_count": 13,
   "metadata": {},
   "outputs": [],
   "source": [
    "def ComputeAcc(imodel):\n",
    "    correct = 0\n",
    "    total = len(y_test)\n",
    "\n",
    "    x = Variable(x_test).cuda()\n",
    "    _y = Variable(y_test).cuda()\n",
    "    \n",
    "    output = imodel.forward(x)\n",
    "    _, output_index = torch.max(output, 1)\n",
    "#     print(output_index)\n",
    "    \n",
    "    correct += (output_index == _y).sum()\n",
    "    acc = 100*correct/total\n",
    "\n",
    "    return acc"
   ]
  },
  {
   "cell_type": "code",
   "execution_count": 14,
   "metadata": {
    "scrolled": true
   },
   "outputs": [
    {
     "name": "stdout",
     "output_type": "stream",
     "text": [
      "Accuracy of Test Data : 42\n"
     ]
    }
   ],
   "source": [
    "acc = ComputeAcc(model)\n",
    "print(\"Accuracy of Test Data : {}\".format(acc))"
   ]
  },
  {
   "cell_type": "markdown",
   "metadata": {},
   "source": [
    "# cost 그래프"
   ]
  },
  {
   "cell_type": "code",
   "execution_count": 15,
   "metadata": {},
   "outputs": [],
   "source": [
    "def show_graph(cost_x, cost_y):\n",
    "    plt.plot(cost_x, cost_y,'b-')\n",
    "    plt.xlabel(\"Epoch\")\n",
    "    plt.ylabel(\"cost\")\n",
    "    plt.title(\"Cost Graph\")\n",
    "    plt.show()"
   ]
  },
  {
   "cell_type": "code",
   "execution_count": 16,
   "metadata": {
    "scrolled": true
   },
   "outputs": [
    {
     "data": {
      "image/png": "[encoded data removed]",
      "text/plain": [
       "<Figure size 432x288 with 1 Axes>"
      ]
     },
     "metadata": {},
     "output_type": "display_data"
    }
   ],
   "source": [
    "show_graph(graph_x, graph_y)"
   ]
  },
  {
   "cell_type": "markdown",
   "metadata": {},
   "source": [
    "# 사용자 입력"
   ]
  },
  {
   "cell_type": "code",
   "execution_count": 17,
   "metadata": {},
   "outputs": [],
   "source": [
    "x = [[7,0.27,0.36,20.7,0.045,45,170,1.0,3,0.45,8.8], # 6 \n",
    "     [6.2,0.66,0.48,1.2,0.029,29,75,0.9892,3.33,0.39,12.8], # 8 \n",
    "     [5.8,0.27,0.2,14.95,0.044,22,179,0.9962,3.37,0.37,10.2], # 5 \n",
    "     [7.6,0.48,0.37,0.8,0.037,4,100,0.9902,3.03,0.39,11.4], # 4 \n",
    "     [9.1,0.27,0.45,10.6,0.035,28,124,0.997,3.2,0.46,10.4], # 9 \n",
    "     [10.3,0.17,0.47,1.4,0.037,5,33,0.9939,2.89,0.28,9.6], # 3 \n",
    "     [8.3,0.27,0.45,1.3,0.048,8,72,0.9944,3.08,0.61,10.3], # 4\n",
    "     [7.1,0.25,0.39,2.1,0.036,30,124,0.9908,3.28,0.43,12.2], # 8 \n",
    "     [5.6,0.29,0.05,0.8,0.038,11,30,0.9924,3.36,0.35,9.2], # 5 \n",
    "     [7.7,0.17,0.52,5.9,0.017,21,84,0.9929,3.14,0.4,11.9] # 7 \n",
    "    ]\n",
    "y = [6, 8, 5, 4, 9, 3, 4, 8, 5, 7]\n",
    "\n",
    "x_input = pd.DataFrame(x, columns = x_columns)\n",
    "\n",
    "for i in x_columns:\n",
    "    norm(x_input, i)\n",
    "    \n",
    "x_input = x_input.values.tolist()"
   ]
  },
  {
   "cell_type": "code",
   "execution_count": 24,
   "metadata": {},
   "outputs": [
    {
     "name": "stdout",
     "output_type": "stream",
     "text": [
      "입력하신 quality는 : 6 이고, 실제값은 : 6 이다. 정답여부는 : True 이다.\n",
      "입력하신 quality는 : 6 이고, 실제값은 : 8 이다. 정답여부는 : False 이다.\n",
      "입력하신 quality는 : 6 이고, 실제값은 : 5 이다. 정답여부는 : False 이다.\n",
      "입력하신 quality는 : 6 이고, 실제값은 : 4 이다. 정답여부는 : False 이다.\n",
      "입력하신 quality는 : 6 이고, 실제값은 : 9 이다. 정답여부는 : False 이다.\n",
      "입력하신 quality는 : 6 이고, 실제값은 : 3 이다. 정답여부는 : False 이다.\n",
      "입력하신 quality는 : 6 이고, 실제값은 : 4 이다. 정답여부는 : False 이다.\n",
      "입력하신 quality는 : 6 이고, 실제값은 : 8 이다. 정답여부는 : False 이다.\n",
      "입력하신 quality는 : 6 이고, 실제값은 : 5 이다. 정답여부는 : False 이다.\n",
      "입력하신 quality는 : 6 이고, 실제값은 : 7 이다. 정답여부는 : False 이다.\n"
     ]
    }
   ],
   "source": [
    "x = torch.FloatTensor(x)\n",
    "\n",
    "x_ = Variable(x).cuda()\n",
    "\n",
    "prediction = model.forward(x_)\n",
    "_, output_index = torch.max(prediction, 1)\n",
    "\n",
    "# print(prediction)\n",
    "# print(output_index)\n",
    "for i in range(len(output_index)):\n",
    "    print(\"입력하신 quality는 : {} 이고, 실제값은 : {} 이다. 정답여부는 : {} 이다.\".\n",
    "          format(output_index[i]+3, y[i], output_index[i]+3 == y[i]))"
   ]
  }
 ],
 "metadata": {
  "kernelspec": {
   "display_name": "conda_pytorch_p27",
   "language": "python",
   "name": "conda_pytorch_p27"
  },
  "language_info": {
   "codemirror_mode": {
    "name": "ipython",
    "version": 2
   },
   "file_extension": ".py",
   "mimetype": "text/x-python",
   "name": "python",
   "nbconvert_exporter": "python",
   "pygments_lexer": "ipython2",
   "version": "2.7.15"
  }
 },
 "nbformat": 4,
 "nbformat_minor": 4
}

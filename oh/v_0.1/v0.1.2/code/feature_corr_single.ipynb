{
 "cells": [
  {
   "cell_type": "markdown",
   "metadata": {},
   "source": [
    "# 라이브러리"
   ]
  },
  {
   "cell_type": "code",
   "execution_count": 1,
   "metadata": {},
   "outputs": [
    {
     "name": "stdout",
     "output_type": "stream",
     "text": [
      "WARNING:tensorflow:From /home/ec2-user/anaconda3/envs/tensorflow_p27/lib/python2.7/site-packages/tensorflow_core/__init__.py:1467: The name tf.estimator.inputs is deprecated. Please use tf.compat.v1.estimator.inputs instead.\n",
      "\n"
     ]
    }
   ],
   "source": [
    "import tensorflow as tf\n",
    "import pandas as pd\n",
    "import numpy as np\n",
    "import matplotlib.pyplot as plt"
   ]
  },
  {
   "cell_type": "markdown",
   "metadata": {},
   "source": [
    "# 데이터 경로 설정"
   ]
  },
  {
   "cell_type": "code",
   "execution_count": 2,
   "metadata": {},
   "outputs": [],
   "source": [
    "data_path = '../data'\n",
    "data_name = '/feature_choice.csv'"
   ]
  },
  {
   "cell_type": "markdown",
   "metadata": {},
   "source": [
    "# 데이터 읽어 오기"
   ]
  },
  {
   "cell_type": "code",
   "execution_count": 3,
   "metadata": {},
   "outputs": [],
   "source": [
    "data_set = pd.read_csv(data_path + data_name, delimiter = ',')\n",
    "data_set.dropna(inplace = True)\n",
    "data_set = data_set.drop(columns = ['index'])\n",
    "\n",
    "# x_data = data_set.drop(columns = ['quality'])\n",
    "x_data = data_set[['alcohol', 'volatile acidity']]\n",
    "y_data = data_set['quality']\n",
    "\n",
    "x_data = x_data.values.tolist()\n",
    "y_data = y_data.values.tolist()"
   ]
  },
  {
   "cell_type": "markdown",
   "metadata": {},
   "source": [
    "# train_set 설정"
   ]
  },
  {
   "cell_type": "code",
   "execution_count": 4,
   "metadata": {},
   "outputs": [],
   "source": [
    "train_size = int(len(x_data) * 0.7)\n",
    "\n",
    "x_train = x_data[:train_size]\n",
    "x_train = np.array(x_train, dtype = np.float32)\n",
    "\n",
    "y_train = y_data[:train_size]\n",
    "y_train = [i-3 for i in y_train]\n",
    "y_train = np.array(y_train, dtype = np.int32)\n",
    "y_train = y_train.reshape([-1,1])"
   ]
  },
  {
   "cell_type": "markdown",
   "metadata": {},
   "source": [
    "# test_set 설정"
   ]
  },
  {
   "cell_type": "code",
   "execution_count": 5,
   "metadata": {},
   "outputs": [],
   "source": [
    "x_test = x_data[train_size:]\n",
    "x_test = np.array(x_test, dtype = np.float32)\n",
    "\n",
    "y_test = y_data[train_size:]\n",
    "y_test = [i-3 for i in y_test]\n",
    "y_test = np.array(y_test, dtype = np.int32)\n",
    "y_test = y_test.reshape([-1,1])"
   ]
  },
  {
   "cell_type": "markdown",
   "metadata": {},
   "source": [
    "# 하이퍼파라미터 설정"
   ]
  },
  {
   "cell_type": "code",
   "execution_count": 6,
   "metadata": {},
   "outputs": [],
   "source": [
    "class_dict = {}\n",
    "\n",
    "for i in y_train:\n",
    "    class_dict[i[0]] = 1"
   ]
  },
  {
   "cell_type": "code",
   "execution_count": 19,
   "metadata": {},
   "outputs": [],
   "source": [
    "x_de = len(x_train[0])\n",
    "classes = len(class_dict)\n",
    "learning_rate = 0.001"
   ]
  },
  {
   "cell_type": "markdown",
   "metadata": {},
   "source": [
    "# 로지스틱 설정"
   ]
  },
  {
   "cell_type": "markdown",
   "metadata": {},
   "source": [
    "# 1 layer"
   ]
  },
  {
   "cell_type": "code",
   "execution_count": 8,
   "metadata": {},
   "outputs": [
    {
     "name": "stdout",
     "output_type": "stream",
     "text": [
      "WARNING:tensorflow:\n",
      "The TensorFlow contrib module will not be included in TensorFlow 2.0.\n",
      "For more information, please see:\n",
      "  * https://github.com/tensorflow/community/blob/master/rfcs/20180907-contrib-sunset.md\n",
      "  * https://github.com/tensorflow/addons\n",
      "  * https://github.com/tensorflow/io (for I/O related ops)\n",
      "If you depend on functionality not listed there, please file an issue.\n",
      "\n"
     ]
    }
   ],
   "source": [
    "x = tf.placeholder(tf.float32, shape = [None, x_de])\n",
    "y = tf.placeholder(tf.int32, shape = [None, 1])\n",
    "\n",
    "y_one_hot = tf.one_hot(y, classes)\n",
    "y_one_hot = tf.reshape(y_one_hot, [-1,classes])\n",
    "\n",
    "W = tf.get_variable(\"W\", shape = [x_de,classes], initializer = tf.contrib.layers.xavier_initializer())\n",
    "b = tf.Variable(tf.random_normal([classes]))\n",
    "\n",
    "logits = tf.matmul(x,W) + b\n",
    "h = tf.nn.softmax(logits)"
   ]
  },
  {
   "cell_type": "markdown",
   "metadata": {},
   "source": [
    "# output layer"
   ]
  },
  {
   "cell_type": "code",
   "execution_count": 20,
   "metadata": {},
   "outputs": [],
   "source": [
    "cost_i = tf.nn.softmax_cross_entropy_with_logits(logits = logits, labels = y_one_hot)\n",
    "cost = tf.reduce_mean(cost_i)\n",
    "train = tf.train.AdamOptimizer(learning_rate = learning_rate).minimize(cost)\n",
    "\n",
    "predict = tf.argmax(h,1)\n",
    "acc = tf.reduce_mean(tf.cast(tf.equal(predict, tf.argmax(y_one_hot, 1)), dtype = tf.float32))"
   ]
  },
  {
   "cell_type": "markdown",
   "metadata": {},
   "source": [
    "# 돌리기"
   ]
  },
  {
   "cell_type": "code",
   "execution_count": 21,
   "metadata": {
    "scrolled": false
   },
   "outputs": [
    {
     "name": "stdout",
     "output_type": "stream",
     "text": [
      "Step : 0, cost : 6.47685289383\n",
      "Step : 100, cost : 4.45207071304\n",
      "Step : 200, cost : 3.20018339157\n",
      "Step : 300, cost : 2.59291553497\n",
      "Step : 400, cost : 2.22319483757\n",
      "Step : 500, cost : 1.89977693558\n",
      "Step : 600, cost : 1.62123346329\n",
      "Step : 700, cost : 1.44940340519\n",
      "Step : 800, cost : 1.38731944561\n",
      "Step : 900, cost : 1.36513316631\n",
      "Step : 1000, cost : 1.35306084156\n",
      "Step : 1100, cost : 1.34476912022\n",
      "Step : 1200, cost : 1.338357687\n",
      "Step : 1300, cost : 1.33303248882\n",
      "Step : 1400, cost : 1.32838845253\n",
      "Step : 1500, cost : 1.3241918087\n",
      "Step : 1600, cost : 1.32029688358\n",
      "Step : 1700, cost : 1.31660783291\n",
      "Step : 1800, cost : 1.31306266785\n",
      "Step : 1900, cost : 1.30961740017\n",
      "Step : 2000, cost : 1.3062415123\n",
      "Accuracy : 42.6069051027%\n"
     ]
    }
   ],
   "source": [
    "with tf.Session() as sess:\n",
    "    sess.run(tf.global_variables_initializer())\n",
    "    \n",
    "    cost_x = []\n",
    "    cost_y = []\n",
    "    \n",
    "    for step in range(2001):\n",
    "        temp = 0\n",
    "        c, _ = sess.run([cost, train], feed_dict = {x : x_train, y : y_train})\n",
    "        \n",
    "        cost_x.append(step)\n",
    "        cost_y.append(c)\n",
    "        \n",
    "        if(step % 100 == 0):\n",
    "            print(\"Step : {}, cost : {}\".format(step,c))\n",
    "        \n",
    "    for step in range(2001):\n",
    "        ac = sess.run([acc], feed_dict = {x : x_test, y : y_test})\n",
    "        \n",
    "    print(\"Accuracy : {}%\".format(ac[0] * 100))"
   ]
  },
  {
   "cell_type": "markdown",
   "metadata": {},
   "source": [
    "# 그래프 그리기"
   ]
  },
  {
   "cell_type": "code",
   "execution_count": 22,
   "metadata": {},
   "outputs": [
    {
     "data": {
      "image/png": "[encoded data removed]",
      "text/plain": [
       "<Figure size 432x288 with 1 Axes>"
      ]
     },
     "metadata": {},
     "output_type": "display_data"
    }
   ],
   "source": [
    "plt.plot(cost_x, cost_y, 'b-')\n",
    "plt.title(\"Cost Graph\")\n",
    "plt.xlabel(\"Step\")\n",
    "plt.ylabel(\"Cost\")\n",
    "plt.show()"
   ]
  }
 ],
 "metadata": {
  "kernelspec": {
   "display_name": "conda_tensorflow_p27",
   "language": "python",
   "name": "conda_tensorflow_p27"
  },
  "language_info": {
   "codemirror_mode": {
    "name": "ipython",
    "version": 2
   },
   "file_extension": ".py",
   "mimetype": "text/x-python",
   "name": "python",
   "nbconvert_exporter": "python",
   "pygments_lexer": "ipython2",
   "version": "2.7.16"
  }
 },
 "nbformat": 4,
 "nbformat_minor": 4
}

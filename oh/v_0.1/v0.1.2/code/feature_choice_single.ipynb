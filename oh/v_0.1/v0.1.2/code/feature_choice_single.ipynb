{
 "cells": [
  {
   "cell_type": "markdown",
   "metadata": {},
   "source": [
    "# 라이브러리"
   ]
  },
  {
   "cell_type": "code",
   "execution_count": 45,
   "metadata": {},
   "outputs": [],
   "source": [
    "import tensorflow as tf\n",
    "import pandas as pd\n",
    "import numpy as np\n",
    "import matplotlib.pyplot as plt"
   ]
  },
  {
   "cell_type": "markdown",
   "metadata": {},
   "source": [
    "# 데이터 경로 설정"
   ]
  },
  {
   "cell_type": "code",
   "execution_count": 46,
   "metadata": {},
   "outputs": [],
   "source": [
    "data_path = '../data'\n",
    "data_name = '/feature_choice.csv'"
   ]
  },
  {
   "cell_type": "markdown",
   "metadata": {},
   "source": [
    "# 데이터 읽어 오기"
   ]
  },
  {
   "cell_type": "code",
   "execution_count": 50,
   "metadata": {},
   "outputs": [],
   "source": [
    "data_set = pd.read_csv(data_path + data_name, delimiter = ',')\n",
    "data_set.dropna(inplace = True)\n",
    "data_set = data_set.drop(columns = ['index'])\n",
    "\n",
    "x_data = data_set.drop(columns = ['quality'])\n",
    "y_data = data_set['quality']\n",
    "\n",
    "x_data = x_data.values.tolist()\n",
    "y_data = y_data.values.tolist()"
   ]
  },
  {
   "cell_type": "markdown",
   "metadata": {},
   "source": [
    "# train_set 설정"
   ]
  },
  {
   "cell_type": "code",
   "execution_count": 51,
   "metadata": {},
   "outputs": [],
   "source": [
    "train_size = int(len(x_data) * 0.7)\n",
    "\n",
    "x_train = x_data[:train_size]\n",
    "x_train = np.array(x_train, dtype = np.float32)\n",
    "\n",
    "y_train = y_data[:train_size]\n",
    "y_train = [i-3 for i in y_train]\n",
    "y_train = np.array(y_train, dtype = np.int32)\n",
    "y_train = y_train.reshape([-1,1])"
   ]
  },
  {
   "cell_type": "markdown",
   "metadata": {},
   "source": [
    "# test_set 설정"
   ]
  },
  {
   "cell_type": "code",
   "execution_count": 52,
   "metadata": {},
   "outputs": [],
   "source": [
    "x_test = x_data[train_size:]\n",
    "x_test = np.array(x_test, dtype = np.float32)\n",
    "\n",
    "y_test = y_data[train_size:]\n",
    "y_test = [i-3 for i in y_test]\n",
    "y_test = np.array(y_test, dtype = np.int32)\n",
    "y_test = y_test.reshape([-1,1])"
   ]
  },
  {
   "cell_type": "markdown",
   "metadata": {},
   "source": [
    "# 하이퍼파라미터 설정"
   ]
  },
  {
   "cell_type": "code",
   "execution_count": 53,
   "metadata": {},
   "outputs": [],
   "source": [
    "class_dict = {}\n",
    "\n",
    "for i in y_train:\n",
    "    class_dict[i[0]] = 1"
   ]
  },
  {
   "cell_type": "code",
   "execution_count": 59,
   "metadata": {},
   "outputs": [],
   "source": [
    "x_de = len(x_train[0])\n",
    "classes = len(class_dict)\n",
    "learning_rate = 0.1"
   ]
  },
  {
   "cell_type": "markdown",
   "metadata": {},
   "source": [
    "# 로지스틱 설정"
   ]
  },
  {
   "cell_type": "markdown",
   "metadata": {},
   "source": [
    "# 1 layer"
   ]
  },
  {
   "cell_type": "code",
   "execution_count": 84,
   "metadata": {},
   "outputs": [],
   "source": [
    "x = tf.placeholder(tf.float32, shape = [None, x_de])\n",
    "y = tf.placeholder(tf.int32, shape = [None, 1])\n",
    "\n",
    "y_one_hot = tf.one_hot(y, classes)\n",
    "y_one_hot = tf.reshape(y_one_hot, [-1,classes])\n",
    "\n",
    "W = tf.get_variable(\"W\", shape = [x_de,classes], initializer = tf.contrib.layers.xavier_initializer())\n",
    "b = tf.Variable(tf.random_normal([classes]))\n",
    "\n",
    "logits = tf.matmul(x,W) + b\n",
    "h = tf.nn.softmax(logits)"
   ]
  },
  {
   "cell_type": "markdown",
   "metadata": {},
   "source": [
    "# output layer"
   ]
  },
  {
   "cell_type": "code",
   "execution_count": 85,
   "metadata": {},
   "outputs": [],
   "source": [
    "cost = tf.nn.softmax_cross_entropy_with_logits(logits = logits, labels = y_one_hot)\n",
    "train = tf.train.AdamOptimizer(learning_rate = learning_rate).minimize(cost)\n",
    "\n",
    "predict = tf.argmax(h,1)\n",
    "acc = tf.reduce_mean(tf.cast(tf.equal(predict, tf.argmax(y_one_hot, 1)), dtype = tf.float32))"
   ]
  },
  {
   "cell_type": "markdown",
   "metadata": {},
   "source": [
    "# 돌리기"
   ]
  },
  {
   "cell_type": "code",
   "execution_count": 88,
   "metadata": {
    "scrolled": false
   },
   "outputs": [
    {
     "name": "stdout",
     "output_type": "stream",
     "text": [
      "Step : 0, cost : [146.41988 112.84239  84.69603 ...  86.36162  81.81944  41.62042]\n",
      "Step : 100, cost : [0.78574383 0.64305735 0.7763623  ... 0.7744125  0.7794217  0.7348775 ]\n",
      "Step : 200, cost : [0.92655957 0.7872629  0.8393336  ... 0.85271    0.84361994 0.805186  ]\n",
      "Step : 300, cost : [0.55246794 0.5409338  0.6178083  ... 0.63659203 0.6412529  0.6533785 ]\n",
      "Step : 400, cost : [0.5354897  0.5429697  0.6240285  ... 0.60406274 0.61767125 0.6244302 ]\n",
      "Step : 500, cost : [0.53646034 0.5556296  0.6328592  ... 0.59323657 0.6124867  0.6054002 ]\n",
      "Step : 600, cost : [0.5406689  0.5670223  0.64019203 ... 0.58062756 0.60636896 0.5896878 ]\n",
      "Step : 700, cost : [0.5438285  0.5757818  0.64577    ... 0.57424515 0.6055967  0.57933474]\n",
      "Step : 800, cost : [0.54629374 0.5823213  0.64990747 ... 0.56973946 0.6065587  0.5722308 ]\n",
      "Step : 900, cost : [0.54366434 0.5827007  0.6472245  ... 0.5702177  0.61226463 0.5677279 ]\n",
      "Step : 1000, cost : [0.5487807  0.5897723  0.65493697 ... 0.55858004 0.6050037  0.5627799 ]\n",
      "Step : 1100, cost : [0.5521536  0.5943853  0.6590419  ... 0.55013824 0.6002674  0.5601911 ]\n",
      "Step : 1200, cost : [1.6597784 1.5289639 1.3822008 ... 2.2875366 2.3322134 1.2466646]\n",
      "Step : 1300, cost : [0.02453243 0.04308647 0.06288262 ... 0.2781551  0.31235018 0.53059804]\n",
      "Step : 1400, cost : [0.9316226  0.70119756 0.98565596 ... 0.3153538  0.35498333 0.45806545]\n",
      "Step : 1500, cost : [1.1084903 1.0505817 1.0714104 ... 0.9581742 0.9785912 0.667343 ]\n",
      "Step : 1600, cost : [1.0686244 1.0329144 1.0201844 ... 0.9185998 0.971007  0.6772004]\n",
      "Step : 1700, cost : [1.0566804  1.02051    0.9951242  ... 0.90536547 0.96656454 0.6860577 ]\n",
      "Step : 1800, cost : [1.0498459  1.0087733  0.97920614 ... 0.89700425 0.96074665 0.6918541 ]\n",
      "Step : 1900, cost : [0.71346986 0.73388064 0.7608144  ... 0.7300879  0.79169303 0.5973813 ]\n",
      "Step : 2000, cost : [0.60086554 0.6369106  0.68949276 ... 0.65302795 0.7112129  0.5608741 ]\n",
      "Accuracy : 25.038638711%\n"
     ]
    }
   ],
   "source": [
    "with tf.Session() as sess:\n",
    "    sess.run(tf.global_variables_initializer())\n",
    "    \n",
    "    cost_x = []\n",
    "    cost_y = []\n",
    "    \n",
    "    for step in range(2001):\n",
    "        temp = 0\n",
    "        c, _ = sess.run([cost, train], feed_dict = {x : x_train, y : y_train})\n",
    "        \n",
    "        cost_x.append(step)\n",
    "        \n",
    "        for i in c:\n",
    "            temp += i\n",
    "        cost_y.append(temp/float(x_de))\n",
    "        \n",
    "        if(step % 100 == 0):\n",
    "            print(\"Step : {}, cost : {}\".format(step,c))\n",
    "        \n",
    "    for step in range(2001):\n",
    "        ac = sess.run([acc], feed_dict = {x : x_test, y : y_test})\n",
    "        \n",
    "    print(\"Accuracy : {}%\".format(ac[0] * 100))"
   ]
  },
  {
   "cell_type": "markdown",
   "metadata": {},
   "source": [
    "# 그래프 그리기"
   ]
  },
  {
   "cell_type": "code",
   "execution_count": 89,
   "metadata": {},
   "outputs": [
    {
     "data": {
      "image/png": "[encoded data removed]",
      "text/plain": [
       "<Figure size 432x288 with 1 Axes>"
      ]
     },
     "metadata": {},
     "output_type": "display_data"
    }
   ],
   "source": [
    "plt.plot(cost_x, cost_y, 'b-')\n",
    "plt.title(\"Cost Graph\")\n",
    "plt.xlabel(\"Step\")\n",
    "plt.ylabel(\"Cost\")\n",
    "plt.show()"
   ]
  }
 ],
 "metadata": {
  "kernelspec": {
   "display_name": "conda_tensorflow_p27",
   "language": "python",
   "name": "conda_tensorflow_p27"
  },
  "language_info": {
   "codemirror_mode": {
    "name": "ipython",
    "version": 2
   },
   "file_extension": ".py",
   "mimetype": "text/x-python",
   "name": "python",
   "nbconvert_exporter": "python",
   "pygments_lexer": "ipython2",
   "version": "2.7.16"
  }
 },
 "nbformat": 4,
 "nbformat_minor": 4
}

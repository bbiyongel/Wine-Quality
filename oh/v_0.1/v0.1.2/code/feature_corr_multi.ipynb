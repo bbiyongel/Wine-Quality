{
 "cells": [
  {
   "cell_type": "markdown",
   "metadata": {},
   "source": [
    "# 라이브러리"
   ]
  },
  {
   "cell_type": "code",
   "execution_count": 1,
   "metadata": {},
   "outputs": [
    {
     "name": "stdout",
     "output_type": "stream",
     "text": [
      "WARNING:tensorflow:From /home/ec2-user/anaconda3/envs/tensorflow_p27/lib/python2.7/site-packages/tensorflow_core/__init__.py:1467: The name tf.estimator.inputs is deprecated. Please use tf.compat.v1.estimator.inputs instead.\n",
      "\n"
     ]
    }
   ],
   "source": [
    "import tensorflow as tf\n",
    "import pandas as pd\n",
    "import numpy as np\n",
    "import matplotlib.pyplot as plt"
   ]
  },
  {
   "cell_type": "markdown",
   "metadata": {},
   "source": [
    "# 데이터 경로 설정"
   ]
  },
  {
   "cell_type": "code",
   "execution_count": 2,
   "metadata": {},
   "outputs": [],
   "source": [
    "data_path = '../data'\n",
    "data_name = '/feature_choice.csv'"
   ]
  },
  {
   "cell_type": "markdown",
   "metadata": {},
   "source": [
    "# 데이터 읽어 오기"
   ]
  },
  {
   "cell_type": "code",
   "execution_count": 3,
   "metadata": {},
   "outputs": [],
   "source": [
    "data_set = pd.read_csv(data_path + data_name, delimiter = ',')\n",
    "data_set.dropna(inplace = True)\n",
    "data_set = data_set.drop(columns = ['index'])\n",
    "\n",
    "# x_data = data_set.drop(columns = ['quality'])\n",
    "x_data = data_set[['alcohol', 'volatile acidity']]\n",
    "y_data = data_set['quality']\n",
    "\n",
    "x_data = x_data.values.tolist()\n",
    "y_data = y_data.values.tolist()"
   ]
  },
  {
   "cell_type": "markdown",
   "metadata": {},
   "source": [
    "# train_set 설정"
   ]
  },
  {
   "cell_type": "code",
   "execution_count": 4,
   "metadata": {},
   "outputs": [],
   "source": [
    "train_size = int(len(x_data) * 0.7)\n",
    "\n",
    "x_train = x_data[:train_size]\n",
    "x_train = np.array(x_train, dtype = np.float32)\n",
    "\n",
    "y_train = y_data[:train_size]\n",
    "y_train = [i-3 for i in y_train]\n",
    "y_train = np.array(y_train, dtype = np.int32)\n",
    "y_train = y_train.reshape([-1,1])"
   ]
  },
  {
   "cell_type": "markdown",
   "metadata": {},
   "source": [
    "# test_set 설정"
   ]
  },
  {
   "cell_type": "code",
   "execution_count": 5,
   "metadata": {},
   "outputs": [],
   "source": [
    "x_test = x_data[train_size:]\n",
    "x_test = np.array(x_test, dtype = np.float32)\n",
    "\n",
    "y_test = y_data[train_size:]\n",
    "y_test = [i-3 for i in y_test]\n",
    "y_test = np.array(y_test, dtype = np.int32)\n",
    "y_test = y_test.reshape([-1,1])"
   ]
  },
  {
   "cell_type": "markdown",
   "metadata": {},
   "source": [
    "# 하이퍼파라미터설정"
   ]
  },
  {
   "cell_type": "code",
   "execution_count": 6,
   "metadata": {},
   "outputs": [],
   "source": [
    "class_dict = {}\n",
    "\n",
    "for i in y_train:\n",
    "    class_dict[i[0]] = 1"
   ]
  },
  {
   "cell_type": "code",
   "execution_count": 17,
   "metadata": {},
   "outputs": [],
   "source": [
    "x_de = len(x_train[0])\n",
    "classes = len(class_dict)\n",
    "learning_rate = 0.001"
   ]
  },
  {
   "cell_type": "markdown",
   "metadata": {},
   "source": [
    "# 로지스틱 설정"
   ]
  },
  {
   "cell_type": "markdown",
   "metadata": {},
   "source": [
    "# 1 layer"
   ]
  },
  {
   "cell_type": "code",
   "execution_count": 8,
   "metadata": {},
   "outputs": [
    {
     "name": "stdout",
     "output_type": "stream",
     "text": [
      "WARNING:tensorflow:From <ipython-input-8-a207741676d7>:14: calling dropout (from tensorflow.python.ops.nn_ops) with keep_prob is deprecated and will be removed in a future version.\n",
      "Instructions for updating:\n",
      "Please use `rate` instead of `keep_prob`. Rate should be set to `rate = 1 - keep_prob`.\n"
     ]
    }
   ],
   "source": [
    "x = tf.placeholder(tf.float32, shape = [None, x_de])\n",
    "y = tf.placeholder(tf.int32, shape = [None, 1])\n",
    "r = tf.placeholder(tf.float32)\n",
    "\n",
    "y_one_hot = tf.one_hot(y, classes)\n",
    "y_one_hot = tf.reshape(y_one_hot, [-1,classes])\n",
    "\n",
    "W = tf.Variable(tf.random_normal([x_de, 224]))\n",
    "b = tf.Variable(tf.random_normal([224]))\n",
    "\n",
    "logits = tf.matmul(x,W) + b\n",
    "\n",
    "L1 = tf.nn.relu(logits)\n",
    "L1 = tf.nn.dropout(L1, keep_prob = r)"
   ]
  },
  {
   "cell_type": "markdown",
   "metadata": {},
   "source": [
    "# 2 layer"
   ]
  },
  {
   "cell_type": "code",
   "execution_count": 9,
   "metadata": {},
   "outputs": [],
   "source": [
    "W_2 = tf.Variable(tf.random_normal([224, 112]))\n",
    "b_2 = tf.Variable(tf.random_normal([112]))\n",
    "\n",
    "logits_2 = tf.matmul(L1,W_2) + b_2\n",
    "\n",
    "L2 = tf.nn.relu(logits_2)\n",
    "L2 = tf.nn.dropout(L2, keep_prob = r)"
   ]
  },
  {
   "cell_type": "markdown",
   "metadata": {},
   "source": [
    "# 3 layer"
   ]
  },
  {
   "cell_type": "code",
   "execution_count": 10,
   "metadata": {},
   "outputs": [],
   "source": [
    "W_3 = tf.Variable(tf.random_normal([112, 56]))\n",
    "b_3 = tf.Variable(tf.random_normal([56]))\n",
    "\n",
    "logits_3 = tf.matmul(L2,W_3) + b_3\n",
    "\n",
    "L3 = tf.nn.relu(logits_3)\n",
    "L3 = tf.nn.dropout(L3, keep_prob = r)"
   ]
  },
  {
   "cell_type": "markdown",
   "metadata": {},
   "source": [
    "# 4 layer"
   ]
  },
  {
   "cell_type": "code",
   "execution_count": 11,
   "metadata": {},
   "outputs": [],
   "source": [
    "W_4 = tf.Variable(tf.random_normal([56, 28]))\n",
    "b_4 = tf.Variable(tf.random_normal([28]))\n",
    "\n",
    "logits_4 = tf.matmul(L3,W_4) + b_4\n",
    "\n",
    "L4 = tf.nn.relu(logits_4)\n",
    "L4 = tf.nn.dropout(L4, keep_prob = r)"
   ]
  },
  {
   "cell_type": "markdown",
   "metadata": {},
   "source": [
    "# 5 layer"
   ]
  },
  {
   "cell_type": "code",
   "execution_count": 12,
   "metadata": {},
   "outputs": [],
   "source": [
    "W_5 = tf.Variable(tf.random_normal([28, 14]))\n",
    "b_5 = tf.Variable(tf.random_normal([14]))\n",
    "\n",
    "logits_5 = tf.matmul(L4,W_5) + b_5\n",
    "\n",
    "L5 = tf.nn.softmax(logits_5)\n",
    "L5 = tf.nn.dropout(L5, keep_prob = r)"
   ]
  },
  {
   "cell_type": "markdown",
   "metadata": {},
   "source": [
    "# 6 layer"
   ]
  },
  {
   "cell_type": "code",
   "execution_count": 13,
   "metadata": {},
   "outputs": [],
   "source": [
    "W_6 = tf.Variable(tf.random_normal([14, classes]))\n",
    "b_6 = tf.Variable(tf.random_normal([classes]))\n",
    "\n",
    "logits_6 = tf.matmul(L5,W_6) + b_6\n",
    "\n",
    "L6 = tf.nn.softmax(logits_6)\n",
    "L6 = tf.nn.dropout(L6, keep_prob = r)"
   ]
  },
  {
   "cell_type": "markdown",
   "metadata": {},
   "source": [
    "# output layer"
   ]
  },
  {
   "cell_type": "code",
   "execution_count": 18,
   "metadata": {},
   "outputs": [],
   "source": [
    "cost_i = tf.nn.softmax_cross_entropy_with_logits(logits = logits_6, labels = y_one_hot)\n",
    "cost = tf.reduce_mean(cost_i)\n",
    "train = tf.train.AdamOptimizer(learning_rate = learning_rate).minimize(cost)\n",
    "\n",
    "predict = tf.argmax(L6,1)\n",
    "acc = tf.reduce_mean(tf.cast(tf.equal(predict, tf.argmax(y_one_hot, 1)), dtype = tf.float32))"
   ]
  },
  {
   "cell_type": "markdown",
   "metadata": {},
   "source": [
    "# 돌리기"
   ]
  },
  {
   "cell_type": "code",
   "execution_count": 19,
   "metadata": {
    "scrolled": false
   },
   "outputs": [
    {
     "name": "stdout",
     "output_type": "stream",
     "text": [
      "Step : 0, cost : 3.0045979023\n",
      "Step : 100, cost : 2.6186709404\n",
      "Step : 200, cost : 2.25262212753\n",
      "Step : 300, cost : 1.99479031563\n",
      "Step : 400, cost : 1.84869730473\n",
      "Step : 500, cost : 1.73457241058\n",
      "Step : 600, cost : 1.64340603352\n",
      "Step : 700, cost : 1.56495141983\n",
      "Step : 800, cost : 1.50277161598\n",
      "Step : 900, cost : 1.46253311634\n",
      "Step : 1000, cost : 1.42885231972\n",
      "Step : 1100, cost : 1.40568113327\n",
      "Step : 1200, cost : 1.39118742943\n",
      "Step : 1300, cost : 1.3806630373\n",
      "Step : 1400, cost : 1.36510968208\n",
      "Step : 1500, cost : 1.34881365299\n",
      "Step : 1600, cost : 1.35229587555\n",
      "Step : 1700, cost : 1.34007751942\n",
      "Step : 1800, cost : 1.34238290787\n",
      "Step : 1900, cost : 1.33686709404\n",
      "Step : 2000, cost : 1.32662451267\n",
      "Accuracy : 42.6069051027%\n"
     ]
    }
   ],
   "source": [
    "with tf.Session() as sess:\n",
    "    sess.run(tf.global_variables_initializer())\n",
    "    \n",
    "    cost_x = []\n",
    "    cost_y = []\n",
    "    \n",
    "    for step in range(2001):\n",
    "        temp = 0\n",
    "        c, _ = sess.run([cost, train], feed_dict = {x : x_train, y : y_train, r : 0.7})\n",
    "        \n",
    "        cost_x.append(step)\n",
    "        cost_y.append(c)\n",
    "        \n",
    "        if(step % 100 == 0):\n",
    "            print(\"Step : {}, cost : {}\".format(step,c))\n",
    "        \n",
    "    for step in range(2001):\n",
    "        ac = sess.run([acc], feed_dict = {x : x_test, y : y_test, r : 1.0})\n",
    "        \n",
    "    print(\"Accuracy : {}%\".format(ac[0] * 100))"
   ]
  },
  {
   "cell_type": "markdown",
   "metadata": {},
   "source": [
    "# 그래프 그리기"
   ]
  },
  {
   "cell_type": "code",
   "execution_count": 20,
   "metadata": {},
   "outputs": [
    {
     "data": {
      "image/png": "[encoded data removed]",
      "text/plain": [
       "<Figure size 432x288 with 1 Axes>"
      ]
     },
     "metadata": {},
     "output_type": "display_data"
    }
   ],
   "source": [
    "plt.plot(cost_x, cost_y, 'b-')\n",
    "plt.title(\"Cost Graph\")\n",
    "plt.xlabel(\"Step\")\n",
    "plt.ylabel(\"Cost\")\n",
    "plt.show()"
   ]
  }
 ],
 "metadata": {
  "kernelspec": {
   "display_name": "conda_tensorflow_p27",
   "language": "python",
   "name": "conda_tensorflow_p27"
  },
  "language_info": {
   "codemirror_mode": {
    "name": "ipython",
    "version": 2
   },
   "file_extension": ".py",
   "mimetype": "text/x-python",
   "name": "python",
   "nbconvert_exporter": "python",
   "pygments_lexer": "ipython2",
   "version": "2.7.16"
  }
 },
 "nbformat": 4,
 "nbformat_minor": 4
}

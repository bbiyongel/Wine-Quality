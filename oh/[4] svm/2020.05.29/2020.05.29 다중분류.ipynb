{
 "cells": [
  {
   "cell_type": "markdown",
   "metadata": {},
   "source": [
    "# Data 가져오기"
   ]
  },
  {
   "cell_type": "code",
   "execution_count": 1,
   "metadata": {},
   "outputs": [],
   "source": [
    "import pandas as pd\n",
    "import numpy as np"
   ]
  },
  {
   "cell_type": "code",
   "execution_count": 2,
   "metadata": {},
   "outputs": [],
   "source": [
    "datapath = \"./data/winequalityN.csv\"\n",
    "\n",
    "data_sets = pd.read_csv(datapath, delimiter = ',')\n",
    "\n",
    "data_sets.dropna(inplace = True)\n",
    "\n",
    "x_data = data_sets.drop(columns = [\"type\", \"quality\"],axis = 1)\n",
    "y_data = data_sets[\"quality\"]\n",
    "\n",
    "x_data = x_data.dropna(axis = 0)\n",
    "y_data = y_data.dropna(axis = 0)"
   ]
  },
  {
   "cell_type": "code",
   "execution_count": 3,
   "metadata": {
    "scrolled": false
   },
   "outputs": [
    {
     "name": "stdout",
     "output_type": "stream",
     "text": [
      "       fixed acidity  volatile acidity  citric acid  residual sugar  \\\n",
      "count    6463.000000       6463.000000  6463.000000     6463.000000   \n",
      "mean        7.217755          0.339589     0.318758        5.443958   \n",
      "std         1.297913          0.164639     0.145252        4.756852   \n",
      "min         3.800000          0.080000     0.000000        0.600000   \n",
      "25%         6.400000          0.230000     0.250000        1.800000   \n",
      "50%         7.000000          0.290000     0.310000        3.000000   \n",
      "75%         7.700000          0.400000     0.390000        8.100000   \n",
      "max        15.900000          1.580000     1.660000       65.800000   \n",
      "\n",
      "         chlorides  free sulfur dioxide  total sulfur dioxide      density  \\\n",
      "count  6463.000000          6463.000000           6463.000000  6463.000000   \n",
      "mean      0.056056            30.516865            115.694492     0.994698   \n",
      "std       0.035076            17.758815             56.526736     0.003001   \n",
      "min       0.009000             1.000000              6.000000     0.987110   \n",
      "25%       0.038000            17.000000             77.000000     0.992330   \n",
      "50%       0.047000            29.000000            118.000000     0.994890   \n",
      "75%       0.065000            41.000000            156.000000     0.997000   \n",
      "max       0.611000           289.000000            440.000000     1.038980   \n",
      "\n",
      "                pH    sulphates      alcohol  \n",
      "count  6463.000000  6463.000000  6463.000000  \n",
      "mean      3.218332     0.531150    10.492825  \n",
      "std       0.160650     0.148913     1.193128  \n",
      "min       2.720000     0.220000     8.000000  \n",
      "25%       3.110000     0.430000     9.500000  \n",
      "50%       3.210000     0.510000    10.300000  \n",
      "75%       3.320000     0.600000    11.300000  \n",
      "max       4.010000     2.000000    14.900000  \n"
     ]
    }
   ],
   "source": [
    "print(x_data.describe())"
   ]
  },
  {
   "cell_type": "code",
   "execution_count": 4,
   "metadata": {},
   "outputs": [],
   "source": [
    "# def norm(df,key):\n",
    "#     c = df[key]\n",
    "#     df_min = c.min()\n",
    "#     df_max = c.max()\n",
    "# #     print(\"key=> \",key,\"min\",df_min,\"max\",df_max)\n",
    "#     df[key] = (c-df_min)/(df_max-df_min)\n",
    "\n",
    "# x_columns = x_data.columns.tolist()\n",
    "\n",
    "# for i in x_columns:\n",
    "#     norm(x_data, i)"
   ]
  },
  {
   "cell_type": "code",
   "execution_count": 5,
   "metadata": {},
   "outputs": [],
   "source": [
    "x_data = x_data.values.tolist()\n",
    "y_data = y_data.values.tolist()"
   ]
  },
  {
   "cell_type": "code",
   "execution_count": 6,
   "metadata": {},
   "outputs": [
    {
     "name": "stdout",
     "output_type": "stream",
     "text": [
      "(6463, 11)\n",
      "(6463,)\n"
     ]
    }
   ],
   "source": [
    "x_data = np.array(x_data)\n",
    "y_data = np.array(y_data)\n",
    "\n",
    "print(x_data.shape)\n",
    "print(y_data.shape)"
   ]
  },
  {
   "cell_type": "markdown",
   "metadata": {},
   "source": [
    "# SVM"
   ]
  },
  {
   "cell_type": "code",
   "execution_count": 16,
   "metadata": {},
   "outputs": [],
   "source": [
    "from sklearn import svm\n",
    "from sklearn.preprocessing import StandardScaler\n",
    "from sklearn.pipeline import make_pipeline\n",
    "from sklearn.model_selection import train_test_split\n",
    "from sklearn.metrics import accuracy_score\n",
    "from sklearn.model_selection import cross_val_score\n",
    "from sklearn.svm import LinearSVC"
   ]
  },
  {
   "cell_type": "code",
   "execution_count": 113,
   "metadata": {},
   "outputs": [
    {
     "name": "stdout",
     "output_type": "stream",
     "text": [
      "(4136, 11)\n",
      "(4136,)\n",
      "(1034, 11)\n",
      "(1034,)\n",
      "(1293, 11)\n",
      "(1293,)\n"
     ]
    }
   ],
   "source": [
    "x_train, x_test, y_train, y_test = train_test_split(x_data, y_data,test_size = 0.2, random_state=0)\n",
    "x_train, x_val, y_train, y_val = train_test_split(x_train, y_train, test_size = 0.2,random_state=0)\n",
    "\n",
    "print(x_train.shape)\n",
    "print(y_train.shape)\n",
    "print(x_val.shape)\n",
    "print(y_val.shape)\n",
    "print(x_test.shape)\n",
    "print(y_test.shape)"
   ]
  },
  {
   "cell_type": "markdown",
   "metadata": {},
   "source": [
    "# 모델 선택"
   ]
  },
  {
   "cell_type": "code",
   "execution_count": 101,
   "metadata": {},
   "outputs": [
    {
     "name": "stdout",
     "output_type": "stream",
     "text": [
      "model : linear, score : 0.029835686378\n",
      "model : poly, score : -45.0375244424\n",
      "model : rbf, score : 0.118551953206\n",
      "model : sigmoid, score : -2049.52950192\n"
     ]
    }
   ],
   "source": [
    "def model_selection(x_data, y_data):\n",
    "    kernels = ['linear','poly','rbf','sigmoid']\n",
    "    svm_model = []\n",
    "    scores = []\n",
    "    \n",
    "    for i in kernels:\n",
    "        temp_model = make_pipeline(StandardScaler(), svm.SVR(C = 1.0, epsilon = 0.1, kernel = i))\n",
    "        scores.append(cross_val_score(temp_model, x_data, y_data).mean())\n",
    "    \n",
    "    for i,j in enumerate(scores):\n",
    "        print(\"model : {}, score : {}\".format(kernels[i], j))\n",
    "        \n",
    "model_selection(x_data,y_data)"
   ]
  },
  {
   "cell_type": "markdown",
   "metadata": {},
   "source": [
    "# 모델 선언"
   ]
  },
  {
   "cell_type": "code",
   "execution_count": 114,
   "metadata": {},
   "outputs": [],
   "source": [
    "def get_predictions(model, x_data):\n",
    "    predictions = model.predict(x_data)\n",
    "    predictions = np.around(predictions)\n",
    "    \n",
    "    return predictions\n",
    "\n",
    "def model(x_train, y_train):\n",
    "    svm_model = make_pipeline(StandardScaler(), svm.SVR(C = 100, epsilon = 0.1, kernel = 'rbf'))\n",
    "\n",
    "    svm_model.fit(x_train, y_train)\n",
    "    \n",
    "    predictions = get_predictions(svm_model, x_train)\n",
    "    \n",
    "    return svm_model, predictions\n",
    "\n",
    "m1, p = model(x_train, y_train)"
   ]
  },
  {
   "cell_type": "markdown",
   "metadata": {},
   "source": [
    "# Vaildation 검증"
   ]
  },
  {
   "cell_type": "code",
   "execution_count": 115,
   "metadata": {
    "scrolled": true
   },
   "outputs": [
    {
     "name": "stdout",
     "output_type": "stream",
     "text": [
      "SVM 의 교차검증 점수 : 0.229015998535\n"
     ]
    }
   ],
   "source": [
    "score = m1.score(x_val, y_val)\n",
    "\n",
    "print(\"SVM 의 교차검증 점수 : {}\".format(score))"
   ]
  },
  {
   "cell_type": "markdown",
   "metadata": {},
   "source": [
    "# Vaildation train"
   ]
  },
  {
   "cell_type": "code",
   "execution_count": 116,
   "metadata": {},
   "outputs": [
    {
     "data": {
      "text/plain": [
       "Pipeline(memory=None,\n",
       "     steps=[('standardscaler', StandardScaler(copy=True, with_mean=True, with_std=True)), ('svr', SVR(C=100, cache_size=200, coef0=0.0, degree=3, epsilon=0.1,\n",
       "  gamma='auto_deprecated', kernel='rbf', max_iter=-1, shrinking=True,\n",
       "  tol=0.001, verbose=False))])"
      ]
     },
     "execution_count": 116,
     "metadata": {},
     "output_type": "execute_result"
    }
   ],
   "source": [
    "m1.fit(x_val, y_val)"
   ]
  },
  {
   "cell_type": "markdown",
   "metadata": {},
   "source": [
    "# 모델 평가"
   ]
  },
  {
   "cell_type": "code",
   "execution_count": 117,
   "metadata": {
    "scrolled": true
   },
   "outputs": [
    {
     "name": "stdout",
     "output_type": "stream",
     "text": [
      "모델 평가 : -0.136246313065\n",
      "Train set 정확도: 0.81\n"
     ]
    }
   ],
   "source": [
    "print(\"모델 평가 : {}\".format(m1.score(x_train, y_train)))\n",
    "print(\"Train set 정확도: {:.2f}\".format(accuracy_score(y_train, p)))"
   ]
  },
  {
   "cell_type": "markdown",
   "metadata": {},
   "source": [
    "# Test"
   ]
  },
  {
   "cell_type": "code",
   "execution_count": 118,
   "metadata": {},
   "outputs": [
    {
     "name": "stdout",
     "output_type": "stream",
     "text": [
      "Test set 정확도: 0.45\n"
     ]
    }
   ],
   "source": [
    "print(\"Test set 정확도: {:.2f}\".format(accuracy_score(y_test, get_predictions(m1, x_test))))"
   ]
  },
  {
   "cell_type": "markdown",
   "metadata": {},
   "source": [
    "https://wdprogrammer.tistory.com/29"
   ]
  },
  {
   "cell_type": "markdown",
   "metadata": {},
   "source": [
    "https://m.blog.naver.com/PostView.nhn?blogId=owl6615&logNo=221459656642&proxyReferer=https:%2F%2Fwww.google.com%2F"
   ]
  }
 ],
 "metadata": {
  "kernelspec": {
   "display_name": "conda_pytorch_p27",
   "language": "python",
   "name": "conda_pytorch_p27"
  },
  "language_info": {
   "codemirror_mode": {
    "name": "ipython",
    "version": 2
   },
   "file_extension": ".py",
   "mimetype": "text/x-python",
   "name": "python",
   "nbconvert_exporter": "python",
   "pygments_lexer": "ipython2",
   "version": "2.7.15"
  }
 },
 "nbformat": 4,
 "nbformat_minor": 4
}

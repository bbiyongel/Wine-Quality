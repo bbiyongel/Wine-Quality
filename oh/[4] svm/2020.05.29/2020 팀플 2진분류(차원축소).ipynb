{
 "cells": [
  {
   "cell_type": "markdown",
   "metadata": {},
   "source": [
    "# data 가져오기"
   ]
  },
  {
   "cell_type": "code",
   "execution_count": 31,
   "metadata": {},
   "outputs": [],
   "source": [
    "import pandas as pd\n",
    "import numpy as np"
   ]
  },
  {
   "cell_type": "code",
   "execution_count": 32,
   "metadata": {},
   "outputs": [],
   "source": [
    "datapath = \"./data/winequalityN.csv\"\n",
    "\n",
    "data_sets = pd.read_csv(datapath, delimiter = ',')\n",
    "\n",
    "data_sets.dropna(inplace = True)\n",
    "\n",
    "x_data = data_sets.drop(columns = [\"type\", \"quality\"],axis = 1)\n",
    "y_data = data_sets[\"quality\"]\n",
    "\n",
    "x_data = x_data.dropna(axis = 0)\n",
    "y_data = y_data.dropna(axis = 0)"
   ]
  },
  {
   "cell_type": "code",
   "execution_count": 33,
   "metadata": {},
   "outputs": [],
   "source": [
    "y_data = np.where(data_sets['quality'] > 5,1.0,0.0)\n",
    "x_data = x_data.values.tolist()"
   ]
  },
  {
   "cell_type": "code",
   "execution_count": 34,
   "metadata": {},
   "outputs": [
    {
     "name": "stdout",
     "output_type": "stream",
     "text": [
      "(6463, 11)\n",
      "(6463,)\n"
     ]
    }
   ],
   "source": [
    "x_data = np.array(x_data)\n",
    "y_data = np.array(y_data)\n",
    "\n",
    "print(x_data.shape)\n",
    "print(y_data.shape)"
   ]
  },
  {
   "cell_type": "markdown",
   "metadata": {},
   "source": [
    "# SVM"
   ]
  },
  {
   "cell_type": "code",
   "execution_count": 35,
   "metadata": {},
   "outputs": [],
   "source": [
    "from sklearn import svm\n",
    "from sklearn.preprocessing import StandardScaler\n",
    "from sklearn.pipeline import make_pipeline\n",
    "from sklearn.model_selection import train_test_split\n",
    "from sklearn.metrics import accuracy_score\n",
    "from sklearn.model_selection import cross_val_score\n",
    "from sklearn.svm import LinearSVC\n",
    "\n",
    "from sklearn.decomposition import PCA\n",
    "from sklearn.manifold import TSNE, MDS, Isomap, LocallyLinearEmbedding\n",
    "from sklearn.discriminant_analysis import LinearDiscriminantAnalysis"
   ]
  },
  {
   "cell_type": "markdown",
   "metadata": {},
   "source": [
    "# 차원축소"
   ]
  },
  {
   "cell_type": "code",
   "execution_count": 51,
   "metadata": {},
   "outputs": [],
   "source": [
    "def get_PCA(x_data):\n",
    "    pca = PCA(n_components = 6).fit_transform(x_data)\n",
    "    \n",
    "    return pca\n",
    "\n",
    "def get_t_sne(x_data):\n",
    "    t_sne = TSNE(n_components = 3).fit_transform(x_data)\n",
    "    \n",
    "    return t_sne\n",
    "\n",
    "def get_LLE(x_data):\n",
    "    lle = LocallyLinearEmbedding(n_components = 6).fit_transform(x_data)\n",
    "        \n",
    "    return lle\n",
    "\n",
    "def get_MDS(x_data):\n",
    "    mds = MDS(n_components = 6).fit_transform(x_data)\n",
    "    \n",
    "    return mds\n",
    "\n",
    "def get_Isomap(x_data):\n",
    "    isomap = Isomap(n_components = 6).fit_transform(x_data)\n",
    "    \n",
    "    return isomap\n",
    "\n",
    "def get_LDA(x_data, y_data):\n",
    "    lda = LinearDiscriminantAnalysis(n_components = 3).fit_transform(x_data, y_data)\n",
    "    \n",
    "    return lda"
   ]
  },
  {
   "cell_type": "code",
   "execution_count": null,
   "metadata": {},
   "outputs": [],
   "source": [
    "x_data_pca = get_PCA(x_data)\n",
    "print(\"PCA : {} -> {}\".format(x_data.shape,x_data_pca.shape))"
   ]
  },
  {
   "cell_type": "code",
   "execution_count": null,
   "metadata": {},
   "outputs": [],
   "source": [
    "x_data_lle = get_LLE(x_data)\n",
    "print(\"LLE : {} -> {}\".format(x_data.shape,x_data_lle.shape))"
   ]
  },
  {
   "cell_type": "code",
   "execution_count": 52,
   "metadata": {},
   "outputs": [
    {
     "name": "stdout",
     "output_type": "stream",
     "text": [
      "Isomap : (6463, 11) -> (6463, 1)\n"
     ]
    }
   ],
   "source": [
    "x_data_lda = get_LDA(x_data, y_data)\n",
    "print(\"Isomap : {} -> {}\".format(x_data.shape,x_data_lda.shape))"
   ]
  },
  {
   "cell_type": "code",
   "execution_count": null,
   "metadata": {},
   "outputs": [],
   "source": [
    "x_data_isomap = get_Isomap(x_data)\n",
    "print(\"Isomap : {} -> {}\".format(x_data.shape,x_data_isomap.shape))"
   ]
  },
  {
   "cell_type": "code",
   "execution_count": null,
   "metadata": {},
   "outputs": [],
   "source": [
    "x_data_t_sne = get_t_sne(x_data)\n",
    "print(\"t_sne : {} -> {}\".format(x_data.shape,x_data_t_sne.shape))"
   ]
  },
  {
   "cell_type": "code",
   "execution_count": null,
   "metadata": {},
   "outputs": [],
   "source": [
    "x_data_mds = get_MDS(x_data)\n",
    "print(\"MDS : {} -> {}\".format(x_data.shape,x_data_mds.shape))"
   ]
  },
  {
   "cell_type": "markdown",
   "metadata": {},
   "source": [
    "# 데이터 분포 그려보기"
   ]
  },
  {
   "cell_type": "code",
   "execution_count": 41,
   "metadata": {},
   "outputs": [],
   "source": [
    "import matplotlib.pyplot as plt\n",
    "import seaborn as sns\n",
    "\n",
    "def show_graph(x_data, y_data):\n",
    "    x_data_set = pd.DataFrame(x_data)\n",
    "    y_data_set = pd.DataFrame(y_data, columns = ['quailty'])\n",
    "    data_set = pd.merge(x_data_set, y_data_set,left_index = True, right_index = True)\n",
    "    see_maxtrix_use_pyplot(data_set)\n",
    "\n",
    "def see_maxtrix_use_pyplot(data_set):\n",
    "    sns.pairplot(data_set, kind=\"scatter\", hue = 'quailty')\n",
    "    plt.show()"
   ]
  },
  {
   "cell_type": "code",
   "execution_count": null,
   "metadata": {},
   "outputs": [],
   "source": [
    "show_graph(x_data_pca, y_data)"
   ]
  },
  {
   "cell_type": "code",
   "execution_count": null,
   "metadata": {
    "scrolled": false
   },
   "outputs": [],
   "source": [
    "show_graph(x_data_lle, y_data)"
   ]
  },
  {
   "cell_type": "code",
   "execution_count": 42,
   "metadata": {},
   "outputs": [
    {
     "data": {
      "image/png": "[encoded data removed]",
      "text/plain": [
       "<Figure size 411.875x360 with 6 Axes>"
      ]
     },
     "metadata": {},
     "output_type": "display_data"
    }
   ],
   "source": [
    "show_graph(x_data_lda, y_data)"
   ]
  },
  {
   "cell_type": "code",
   "execution_count": null,
   "metadata": {},
   "outputs": [],
   "source": [
    "show_graph(x_data_isomap, y_data)"
   ]
  },
  {
   "cell_type": "code",
   "execution_count": null,
   "metadata": {
    "scrolled": true
   },
   "outputs": [],
   "source": [
    "show_graph(x_data_t_sne, y_data)"
   ]
  },
  {
   "cell_type": "code",
   "execution_count": null,
   "metadata": {},
   "outputs": [],
   "source": [
    "show_graph(x_data_mds, y_data)"
   ]
  },
  {
   "cell_type": "markdown",
   "metadata": {},
   "source": [
    "# 모델 선택 (교차 검증)"
   ]
  },
  {
   "cell_type": "code",
   "execution_count": 9,
   "metadata": {},
   "outputs": [],
   "source": [
    "def model_selection(x_data, y_data):\n",
    "    kernels = ['linear','poly','rbf'] # 'sigmoid' takes a long time\n",
    "    svm_model = []\n",
    "    scores = []\n",
    "    \n",
    "    for i in kernels:\n",
    "        temp_model = make_pipeline(StandardScaler(), svm.SVR(C = 1.0, epsilon = 0.1, kernel = i))\n",
    "        scores.append(cross_val_score(temp_model, x_data, y_data, cv = 5).mean())\n",
    "    \n",
    "    for i,j in enumerate(scores):\n",
    "        print(\"model : {}, score : {}\".format(kernels[i], j))\n",
    "    \n",
    "    k = np.argmax(np.array(scores))\n",
    "    \n",
    "    return kernels[k]"
   ]
  },
  {
   "cell_type": "code",
   "execution_count": null,
   "metadata": {},
   "outputs": [],
   "source": [
    "kernel = model_selection(x_data_pca,y_data) #pca\n",
    "select_data_set = x_data_pca"
   ]
  },
  {
   "cell_type": "code",
   "execution_count": null,
   "metadata": {},
   "outputs": [],
   "source": [
    "kernel = model_selection(x_data_lle,y_data) # lle\n",
    "select_data_set = x_data_lle"
   ]
  },
  {
   "cell_type": "code",
   "execution_count": 53,
   "metadata": {
    "scrolled": true
   },
   "outputs": [
    {
     "name": "stdout",
     "output_type": "stream",
     "text": [
      "model : linear, score : 0.216758962638\n",
      "model : poly, score : -0.165343182508\n",
      "model : rbf, score : 0.156725172604\n"
     ]
    }
   ],
   "source": [
    "kernel = model_selection(x_data_lda,y_data) # lda\n",
    "select_data_set = x_data_lda"
   ]
  },
  {
   "cell_type": "code",
   "execution_count": null,
   "metadata": {},
   "outputs": [],
   "source": [
    "kernel = model_selection(x_data_isomap,y_data) # Isomap\n",
    "select_data_set = x_data_isomap"
   ]
  },
  {
   "cell_type": "code",
   "execution_count": null,
   "metadata": {},
   "outputs": [],
   "source": [
    "kernel = model_selection(x_data_mds,y_data) # MDS\n",
    "select_data_set = x_data_mds"
   ]
  },
  {
   "cell_type": "code",
   "execution_count": null,
   "metadata": {},
   "outputs": [],
   "source": [
    "kernel = model_selection(x_data_t_sne,y_data) #t-sne\n",
    "select_data_set = x_data_t_sne"
   ]
  },
  {
   "cell_type": "markdown",
   "metadata": {},
   "source": [
    "# train, validation, test 나누기"
   ]
  },
  {
   "cell_type": "code",
   "execution_count": 54,
   "metadata": {},
   "outputs": [
    {
     "name": "stdout",
     "output_type": "stream",
     "text": [
      "(4136, 1)\n",
      "(4136,)\n",
      "(1034, 1)\n",
      "(1034,)\n",
      "(1293, 1)\n",
      "(1293,)\n"
     ]
    }
   ],
   "source": [
    "x_train, x_test, y_train, y_test = train_test_split(select_data_set, y_data,test_size = 0.2, random_state=0)\n",
    "x_train, x_val, y_train, y_val = train_test_split(x_train, y_train, test_size = 0.2,random_state=0)\n",
    "\n",
    "print(x_train.shape)\n",
    "print(y_train.shape)\n",
    "print(x_val.shape)\n",
    "print(y_val.shape)\n",
    "print(x_test.shape)\n",
    "print(y_test.shape)"
   ]
  },
  {
   "cell_type": "markdown",
   "metadata": {},
   "source": [
    "# train"
   ]
  },
  {
   "cell_type": "code",
   "execution_count": 93,
   "metadata": {},
   "outputs": [],
   "source": [
    "def get_predictions(model, x_data):\n",
    "    predictions = model.predict(x_data)\n",
    "    predictions = np.around(predictions)\n",
    "    \n",
    "    return predictions\n",
    "\n",
    "def model(x_train, y_train):\n",
    "    svm_model = make_pipeline(StandardScaler(), svm.SVR(C = 100, epsilon = 0.3, kernel = kernel))\n",
    "\n",
    "    svm_model.fit(x_train, y_train)\n",
    "    \n",
    "    predictions = get_predictions(svm_model, x_train)\n",
    "            \n",
    "    return svm_model, predictions\n",
    "\n",
    "m1, p = model(x_train, y_train)"
   ]
  },
  {
   "cell_type": "markdown",
   "metadata": {},
   "source": [
    "# 모델 평가"
   ]
  },
  {
   "cell_type": "code",
   "execution_count": 97,
   "metadata": {},
   "outputs": [
    {
     "name": "stdout",
     "output_type": "stream",
     "text": [
      "모델 평가 : 0.253438040942\n",
      "Train set 정확도: 0.74\n"
     ]
    }
   ],
   "source": [
    "print(\"모델 평가 : {}\".format(m1.score(x_train, y_train)))\n",
    "print(\"Train set 정확도: {:.2f}\".format(accuracy_score(y_train, p)))"
   ]
  },
  {
   "cell_type": "markdown",
   "metadata": {},
   "source": [
    "# Validation 평가"
   ]
  },
  {
   "cell_type": "code",
   "execution_count": 94,
   "metadata": {},
   "outputs": [
    {
     "name": "stdout",
     "output_type": "stream",
     "text": [
      "SVM 의 교차검증 점수 : 0.256965519701\n"
     ]
    }
   ],
   "source": [
    "score = m1.score(x_val, y_val)\n",
    "\n",
    "print(\"SVM 의 교차검증 점수 : {}\".format(score))"
   ]
  },
  {
   "cell_type": "markdown",
   "metadata": {},
   "source": [
    "# Validation train"
   ]
  },
  {
   "cell_type": "code",
   "execution_count": null,
   "metadata": {},
   "outputs": [],
   "source": [
    "m1.fit(x_val, y_val)"
   ]
  },
  {
   "cell_type": "markdown",
   "metadata": {},
   "source": [
    "# test로 정확도 측정"
   ]
  },
  {
   "cell_type": "code",
   "execution_count": 98,
   "metadata": {
    "scrolled": true
   },
   "outputs": [
    {
     "name": "stdout",
     "output_type": "stream",
     "text": [
      "Test set 정확도: 0.74\n"
     ]
    }
   ],
   "source": [
    "print(\"Test set 정확도: {:.2f}\".format(accuracy_score(y_test, get_predictions(m1, x_test))))"
   ]
  },
  {
   "cell_type": "markdown",
   "metadata": {},
   "source": [
    "# 참고자료"
   ]
  },
  {
   "cell_type": "markdown",
   "metadata": {},
   "source": [
    "* 차원축소(비선형) : https://woosikyang.github.io/first-post.html\n",
    "* PCA : https://medium.com/@john_analyst/pca-%EC%B0%A8%EC%9B%90-%EC%B6%95%EC%86%8C-%EB%9E%80-3339aed5afa1\n",
    "* LLE, ect : https://excelsior-cjh.tistory.com/168\n",
    "* LDA : https://bkshin.tistory.com/entry/%EB%A8%B8%EC%8B%A0%EB%9F%AC%EB%8B%9D-18-%EC%84%A0%ED%98%95%ED%8C%90%EB%B3%84%EB%B6%84%EC%84%9DLDA"
   ]
  }
 ],
 "metadata": {
  "kernelspec": {
   "display_name": "conda_pytorch_p27",
   "language": "python",
   "name": "conda_pytorch_p27"
  },
  "language_info": {
   "codemirror_mode": {
    "name": "ipython",
    "version": 2
   },
   "file_extension": ".py",
   "mimetype": "text/x-python",
   "name": "python",
   "nbconvert_exporter": "python",
   "pygments_lexer": "ipython2",
   "version": "2.7.15"
  }
 },
 "nbformat": 4,
 "nbformat_minor": 4
}

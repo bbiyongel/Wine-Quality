{
 "cells": [
  {
   "cell_type": "markdown",
   "metadata": {},
   "source": [
    "# 라이브러리"
   ]
  },
  {
   "cell_type": "code",
   "execution_count": 439,
   "metadata": {},
   "outputs": [],
   "source": [
    "import tensorflow as tf\n",
    "import pandas as pd\n",
    "import numpy as np\n",
    "import matplotlib.pyplot as plt"
   ]
  },
  {
   "cell_type": "markdown",
   "metadata": {},
   "source": [
    "# 데이터 경로 설정"
   ]
  },
  {
   "cell_type": "code",
   "execution_count": 440,
   "metadata": {},
   "outputs": [],
   "source": [
    "data_path = '../data'\n",
    "data_name = '/feature_choice.csv'"
   ]
  },
  {
   "cell_type": "markdown",
   "metadata": {},
   "source": [
    "# 데이터 읽어 오기"
   ]
  },
  {
   "cell_type": "code",
   "execution_count": 441,
   "metadata": {},
   "outputs": [],
   "source": [
    "data_set = pd.read_csv(data_path + data_name, delimiter = ',')\n",
    "data_set.dropna(inplace = True)\n",
    "data_set = data_set.drop(columns = ['index'])\n",
    "\n",
    "x_data = data_set.drop(columns = ['quality'])\n",
    "# x_data = data_set['alcohol']\n",
    "y_data = data_set['quality']\n",
    "\n",
    "x_data = x_data.values.tolist()\n",
    "y_data = y_data.values.tolist()"
   ]
  },
  {
   "cell_type": "markdown",
   "metadata": {},
   "source": [
    "# train_set 설정"
   ]
  },
  {
   "cell_type": "code",
   "execution_count": 442,
   "metadata": {},
   "outputs": [],
   "source": [
    "train_size = int(len(x_data) * 0.7)\n",
    "\n",
    "x_train = x_data[:train_size]\n",
    "x_train = np.array(x_train, dtype = np.float32)\n",
    "\n",
    "y_train = y_data[:train_size]\n",
    "y_train = [i-3 for i in y_train]\n",
    "y_train = np.array(y_train, dtype = np.int32)\n",
    "y_train = y_train.reshape([-1,1])"
   ]
  },
  {
   "cell_type": "markdown",
   "metadata": {},
   "source": [
    "# test_set 설정"
   ]
  },
  {
   "cell_type": "code",
   "execution_count": 443,
   "metadata": {},
   "outputs": [],
   "source": [
    "x_test = x_data[train_size:]\n",
    "x_test = np.array(x_test, dtype = np.float32)\n",
    "\n",
    "y_test = y_data[train_size:]\n",
    "y_test = [i-3 for i in y_test]\n",
    "y_test = np.array(y_test, dtype = np.int32)\n",
    "y_test = y_test.reshape([-1,1])"
   ]
  },
  {
   "cell_type": "markdown",
   "metadata": {},
   "source": [
    "# 하이퍼파라미터설정"
   ]
  },
  {
   "cell_type": "code",
   "execution_count": 444,
   "metadata": {},
   "outputs": [],
   "source": [
    "class_dict = {}\n",
    "\n",
    "for i in y_train:\n",
    "    class_dict[i[0]] = 1"
   ]
  },
  {
   "cell_type": "code",
   "execution_count": 445,
   "metadata": {},
   "outputs": [],
   "source": [
    "x_de = len(x_train[0])\n",
    "classes = len(class_dict)\n",
    "learning_rate = 0.01"
   ]
  },
  {
   "cell_type": "markdown",
   "metadata": {},
   "source": [
    "# 로지스틱 설정"
   ]
  },
  {
   "cell_type": "markdown",
   "metadata": {},
   "source": [
    "# 1 layer"
   ]
  },
  {
   "cell_type": "code",
   "execution_count": 446,
   "metadata": {},
   "outputs": [],
   "source": [
    "x = tf.placeholder(tf.float32, shape = [None, x_de])\n",
    "y = tf.placeholder(tf.int32, shape = [None, 1])\n",
    "r = tf.placeholder(tf.float32)\n",
    "\n",
    "y_one_hot = tf.one_hot(y, classes)\n",
    "y_one_hot = tf.reshape(y_one_hot, [-1,classes])\n",
    "\n",
    "W = tf.Variable(tf.random_normal([x_de, 224]))\n",
    "b = tf.Variable(tf.random_normal([224]))\n",
    "\n",
    "logits = tf.matmul(x,W) + b\n",
    "\n",
    "L1 = tf.nn.relu(logits)\n",
    "L1 = tf.nn.dropout(L1, keep_prob = r)"
   ]
  },
  {
   "cell_type": "markdown",
   "metadata": {},
   "source": [
    "# 2 layer"
   ]
  },
  {
   "cell_type": "code",
   "execution_count": 447,
   "metadata": {},
   "outputs": [],
   "source": [
    "W_2 = tf.Variable(tf.random_normal([224, 112]))\n",
    "b_2 = tf.Variable(tf.random_normal([112]))\n",
    "\n",
    "logits_2 = tf.matmul(L1,W_2) + b_2\n",
    "\n",
    "L2 = tf.nn.relu(logits_2)\n",
    "L2 = tf.nn.dropout(L2, keep_prob = r)"
   ]
  },
  {
   "cell_type": "markdown",
   "metadata": {},
   "source": [
    "# 3 layer"
   ]
  },
  {
   "cell_type": "code",
   "execution_count": 448,
   "metadata": {},
   "outputs": [],
   "source": [
    "W_3 = tf.Variable(tf.random_normal([112, 56]))\n",
    "b_3 = tf.Variable(tf.random_normal([56]))\n",
    "\n",
    "logits_3 = tf.matmul(L2,W_3) + b_3\n",
    "\n",
    "L3 = tf.nn.relu(logits_3)\n",
    "L3 = tf.nn.dropout(L3, keep_prob = r)"
   ]
  },
  {
   "cell_type": "markdown",
   "metadata": {},
   "source": [
    "# 4 layer"
   ]
  },
  {
   "cell_type": "code",
   "execution_count": 449,
   "metadata": {},
   "outputs": [],
   "source": [
    "W_4 = tf.Variable(tf.random_normal([56, 28]))\n",
    "b_4 = tf.Variable(tf.random_normal([28]))\n",
    "\n",
    "logits_4 = tf.matmul(L3,W_4) + b_4\n",
    "\n",
    "L4 = tf.nn.relu(logits_4)\n",
    "L4 = tf.nn.dropout(L4, keep_prob = r)"
   ]
  },
  {
   "cell_type": "markdown",
   "metadata": {},
   "source": [
    "# 5 layer"
   ]
  },
  {
   "cell_type": "code",
   "execution_count": 450,
   "metadata": {},
   "outputs": [],
   "source": [
    "W_5 = tf.Variable(tf.random_normal([28, 14]))\n",
    "b_5 = tf.Variable(tf.random_normal([14]))\n",
    "\n",
    "logits_5 = tf.matmul(L4,W_5) + b_5\n",
    "\n",
    "L5 = tf.nn.softmax(logits_5)\n",
    "L5 = tf.nn.dropout(L5, keep_prob = r)"
   ]
  },
  {
   "cell_type": "markdown",
   "metadata": {},
   "source": [
    "# 6 layer"
   ]
  },
  {
   "cell_type": "code",
   "execution_count": 451,
   "metadata": {},
   "outputs": [],
   "source": [
    "W_6 = tf.Variable(tf.random_normal([14, classes]))\n",
    "b_6 = tf.Variable(tf.random_normal([classes]))\n",
    "\n",
    "logits_6 = tf.matmul(L5,W_6) + b_6\n",
    "\n",
    "L6 = tf.nn.softmax(logits_6)\n",
    "L6 = tf.nn.dropout(L6, keep_prob = r)"
   ]
  },
  {
   "cell_type": "markdown",
   "metadata": {},
   "source": [
    "# output layer"
   ]
  },
  {
   "cell_type": "code",
   "execution_count": 452,
   "metadata": {},
   "outputs": [],
   "source": [
    "cost = tf.nn.softmax_cross_entropy_with_logits(logits = logits_6, labels = y_one_hot)\n",
    "train = tf.train.AdamOptimizer(learning_rate = learning_rate).minimize(cost)\n",
    "\n",
    "predict = tf.argmax(L6,1)\n",
    "acc = tf.reduce_mean(tf.cast(tf.equal(predict, tf.argmax(y_one_hot, 1)), dtype = tf.float32))"
   ]
  },
  {
   "cell_type": "markdown",
   "metadata": {},
   "source": [
    "# 돌리기"
   ]
  },
  {
   "cell_type": "code",
   "execution_count": 456,
   "metadata": {
    "scrolled": false
   },
   "outputs": [
    {
     "name": "stdout",
     "output_type": "stream",
     "text": [
      "Step : 0, cost : [4.588522  4.3703465 2.5619369 ... 4.588522  4.588522  2.5619369]\n",
      "Step : 100, cost : [0.8428819  1.3784714  0.63146347 ... 1.3784714  0.8205198  0.8428819 ]\n",
      "Step : 200, cost : [0.8265702  0.8260746  1.0551356  ... 0.80179554 0.8260746  0.8265703 ]\n",
      "Step : 300, cost : [0.8301914 0.8301914 0.8301914 ... 0.9376214 0.8034632 0.8031665]\n",
      "Step : 400, cost : [0.8965322 0.8156095 0.8154482 ... 0.8965322 0.8965322 0.8965322]\n",
      "Step : 500, cost : [0.88183826 0.82268065 0.8228035  ... 0.82268065 0.8228035  0.8228035 ]\n",
      "Step : 600, cost : [0.82355547 0.8693712  0.8383862  ... 0.821668   0.821668   0.8693712 ]\n",
      "Step : 700, cost : [0.8608768 0.8608768 0.8608768 ... 0.8608768 0.8608768 0.8608768]\n",
      "Step : 800, cost : [0.7996058 0.7996058 0.8509909 ... 0.7996058 0.7996058 0.7996058]\n",
      "Step : 900, cost : [0.8459569 0.8277771 1.577848  ... 0.8166899 0.8459569 0.8459569]\n",
      "Step : 1000, cost : [0.81459016 0.81459016 0.8302431  ... 0.81459016 0.81459016 0.81459016]\n",
      "Step : 1100, cost : [0.8231758 0.7962004 0.8231758 ... 0.8231758 0.8231758 0.7962004]\n",
      "Step : 1200, cost : [0.8237554  0.8237554  0.8237554  ... 0.82131565 0.8237554  0.833205  ]\n",
      "Step : 1300, cost : [0.8112667 0.8112667 0.8260007 ... 0.8112667 0.8112667 0.8112667]\n",
      "Step : 1400, cost : [0.82712203 0.82712203 0.82712203 ... 0.82426107 0.82426107 0.82712203]\n",
      "Step : 1500, cost : [0.81694776 0.81694776 0.81694776 ... 0.8277067  0.81694776 0.81694776]\n",
      "Step : 1600, cost : [0.8128923 0.8128923 0.8128923 ... 0.8128923 0.8128923 0.8128923]\n",
      "Step : 1700, cost : [0.81984234 0.83078295 0.81984234 ... 0.83078295 0.81984234 0.81984234]\n",
      "Step : 1800, cost : [0.81219864 0.81219864 0.81219864 ... 0.81219864 0.8206728  0.81219864]\n",
      "Step : 1900, cost : [0.8280313  0.8280313  0.8280313  ... 0.82514346 0.82514346 0.82514346]\n",
      "Step : 2000, cost : [0.76001364 0.8139903  0.8139903  ... 0.82641304 0.81399035 0.82641304]\n",
      "Accuracy : 42.6069051027%\n"
     ]
    }
   ],
   "source": [
    "with tf.Session() as sess:\n",
    "    sess.run(tf.global_variables_initializer())\n",
    "    \n",
    "    cost_x = []\n",
    "    cost_y = []\n",
    "    \n",
    "    for step in range(2001):\n",
    "        temp = 0\n",
    "        c, _ = sess.run([cost, train], feed_dict = {x : x_train, y : y_train, r : 0.7})\n",
    "        \n",
    "        cost_x.append(step)\n",
    "        \n",
    "        for i in c:\n",
    "            temp += i\n",
    "        cost_y.append(temp/float(x_de))\n",
    "        \n",
    "        if(step % 100 == 0):\n",
    "            print(\"Step : {}, cost : {}\".format(step,c))\n",
    "        \n",
    "    for step in range(2001):\n",
    "        ac = sess.run([acc], feed_dict = {x : x_test, y : y_test, r : 1.0})\n",
    "        \n",
    "    print(\"Accuracy : {}%\".format(ac[0] * 100))"
   ]
  },
  {
   "cell_type": "markdown",
   "metadata": {},
   "source": [
    "# 그래프 그리기"
   ]
  },
  {
   "cell_type": "code",
   "execution_count": 457,
   "metadata": {},
   "outputs": [
    {
     "data": {
      "image/png": "[encoded data removed]",
      "text/plain": [
       "<Figure size 432x288 with 1 Axes>"
      ]
     },
     "metadata": {},
     "output_type": "display_data"
    }
   ],
   "source": [
    "plt.plot(cost_x, cost_y, 'b-')\n",
    "plt.title(\"Cost Graph\")\n",
    "plt.xlabel(\"Step\")\n",
    "plt.ylabel(\"Cost\")\n",
    "plt.show()"
   ]
  }
 ],
 "metadata": {
  "kernelspec": {
   "display_name": "conda_tensorflow_p27",
   "language": "python",
   "name": "conda_tensorflow_p27"
  },
  "language_info": {
   "codemirror_mode": {
    "name": "ipython",
    "version": 2
   },
   "file_extension": ".py",
   "mimetype": "text/x-python",
   "name": "python",
   "nbconvert_exporter": "python",
   "pygments_lexer": "ipython2",
   "version": "2.7.16"
  }
 },
 "nbformat": 4,
 "nbformat_minor": 4
}

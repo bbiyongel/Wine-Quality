{
 "cells": [
  {
   "cell_type": "markdown",
   "metadata": {},
   "source": [
    "# Data 가져오기"
   ]
  },
  {
   "cell_type": "code",
   "execution_count": 1,
   "metadata": {},
   "outputs": [],
   "source": [
    "import pandas as pd\n",
    "import numpy as np"
   ]
  },
  {
   "cell_type": "code",
   "execution_count": 2,
   "metadata": {},
   "outputs": [],
   "source": [
    "datapath = \"./data/winequalityN.csv\"\n",
    "\n",
    "data_sets = pd.read_csv(datapath, delimiter = ',')\n",
    "\n",
    "data_sets.dropna(inplace = True)\n",
    "\n",
    "x_data = data_sets.drop(columns = [\"type\", \"quality\"],axis = 1)\n",
    "y_data = data_sets[\"quality\"]\n",
    "\n",
    "x_data = x_data.dropna(axis = 0)\n",
    "y_data = y_data.dropna(axis = 0)"
   ]
  },
  {
   "cell_type": "code",
   "execution_count": 3,
   "metadata": {
    "scrolled": false
   },
   "outputs": [
    {
     "name": "stdout",
     "output_type": "stream",
     "text": [
      "       fixed acidity  volatile acidity  citric acid  residual sugar  \\\n",
      "count    6463.000000       6463.000000  6463.000000     6463.000000   \n",
      "mean        7.217755          0.339589     0.318758        5.443958   \n",
      "std         1.297913          0.164639     0.145252        4.756852   \n",
      "min         3.800000          0.080000     0.000000        0.600000   \n",
      "25%         6.400000          0.230000     0.250000        1.800000   \n",
      "50%         7.000000          0.290000     0.310000        3.000000   \n",
      "75%         7.700000          0.400000     0.390000        8.100000   \n",
      "max        15.900000          1.580000     1.660000       65.800000   \n",
      "\n",
      "         chlorides  free sulfur dioxide  total sulfur dioxide      density  \\\n",
      "count  6463.000000          6463.000000           6463.000000  6463.000000   \n",
      "mean      0.056056            30.516865            115.694492     0.994698   \n",
      "std       0.035076            17.758815             56.526736     0.003001   \n",
      "min       0.009000             1.000000              6.000000     0.987110   \n",
      "25%       0.038000            17.000000             77.000000     0.992330   \n",
      "50%       0.047000            29.000000            118.000000     0.994890   \n",
      "75%       0.065000            41.000000            156.000000     0.997000   \n",
      "max       0.611000           289.000000            440.000000     1.038980   \n",
      "\n",
      "                pH    sulphates      alcohol  \n",
      "count  6463.000000  6463.000000  6463.000000  \n",
      "mean      3.218332     0.531150    10.492825  \n",
      "std       0.160650     0.148913     1.193128  \n",
      "min       2.720000     0.220000     8.000000  \n",
      "25%       3.110000     0.430000     9.500000  \n",
      "50%       3.210000     0.510000    10.300000  \n",
      "75%       3.320000     0.600000    11.300000  \n",
      "max       4.010000     2.000000    14.900000  \n"
     ]
    }
   ],
   "source": [
    "print(x_data.describe())"
   ]
  },
  {
   "cell_type": "code",
   "execution_count": 4,
   "metadata": {},
   "outputs": [],
   "source": [
    "x_data = x_data.values.tolist()\n",
    "y_data = y_data.values.tolist()"
   ]
  },
  {
   "cell_type": "code",
   "execution_count": 5,
   "metadata": {},
   "outputs": [
    {
     "name": "stdout",
     "output_type": "stream",
     "text": [
      "(6463, 11)\n",
      "(6463,)\n"
     ]
    }
   ],
   "source": [
    "x_data = np.array(x_data)\n",
    "y_data = np.array(y_data)\n",
    "\n",
    "print(x_data.shape)\n",
    "print(y_data.shape)"
   ]
  },
  {
   "cell_type": "markdown",
   "metadata": {},
   "source": [
    "# SVM"
   ]
  },
  {
   "cell_type": "code",
   "execution_count": 6,
   "metadata": {},
   "outputs": [],
   "source": [
    "from sklearn import svm\n",
    "from sklearn.preprocessing import StandardScaler\n",
    "from sklearn.pipeline import make_pipeline\n",
    "from sklearn.model_selection import train_test_split\n",
    "from sklearn.metrics import accuracy_score\n",
    "from sklearn.model_selection import cross_val_score\n",
    "\n",
    "from sklearn.svm import LinearSVC\n",
    "from sklearn.decomposition import PCA\n",
    "from sklearn.manifold import TSNE, MDS, Isomap, LocallyLinearEmbedding\n",
    "from sklearn.discriminant_analysis import LinearDiscriminantAnalysis\n",
    "\n",
    "from sklearn.multiclass import OneVsRestClassifier"
   ]
  },
  {
   "cell_type": "markdown",
   "metadata": {},
   "source": [
    "# 차원축소"
   ]
  },
  {
   "cell_type": "code",
   "execution_count": 7,
   "metadata": {},
   "outputs": [],
   "source": [
    "def get_PCA(x_data):\n",
    "    pca = PCA(n_components = 3).fit_transform(x_data)\n",
    "    \n",
    "    return pca\n",
    "\n",
    "def get_LDA(x_data, y_data):\n",
    "    lda = LinearDiscriminantAnalysis(n_components = 6).fit_transform(x_data, y_data)\n",
    "    \n",
    "    return lda"
   ]
  },
  {
   "cell_type": "code",
   "execution_count": null,
   "metadata": {},
   "outputs": [],
   "source": [
    "# x_data_pca = get_PCA(x_data)\n",
    "# print(\"PCA : {} -> {}\".format(x_data.shape,x_data_pca.shape))"
   ]
  },
  {
   "cell_type": "code",
   "execution_count": 8,
   "metadata": {},
   "outputs": [
    {
     "name": "stdout",
     "output_type": "stream",
     "text": [
      "LDA : (6463, 11) -> (6463, 6)\n"
     ]
    }
   ],
   "source": [
    "x_data_lda = get_LDA(x_data, y_data)\n",
    "print(\"LDA : {} -> {}\".format(x_data.shape,x_data_lda.shape))"
   ]
  },
  {
   "cell_type": "markdown",
   "metadata": {},
   "source": [
    "# 그려보기"
   ]
  },
  {
   "cell_type": "code",
   "execution_count": null,
   "metadata": {},
   "outputs": [],
   "source": [
    "import matplotlib.pyplot as plt\n",
    "import seaborn as sns\n",
    "\n",
    "def show_graph(x_data, y_data):\n",
    "    x_data_set = pd.DataFrame(x_data)\n",
    "    y_data_set = pd.DataFrame(y_data, columns = ['quailty'])\n",
    "    data_set = pd.merge(x_data_set, y_data_set,left_index = True, right_index = True)\n",
    "    see_maxtrix_use_pyplot(data_set)\n",
    "\n",
    "def see_maxtrix_use_pyplot(data_set):\n",
    "    sns.pairplot(data_set, kind=\"scatter\", hue = 'quailty')\n",
    "    plt.show()"
   ]
  },
  {
   "cell_type": "code",
   "execution_count": null,
   "metadata": {},
   "outputs": [],
   "source": [
    "# show_graph(x_data_pca, y_data)"
   ]
  },
  {
   "cell_type": "code",
   "execution_count": null,
   "metadata": {},
   "outputs": [],
   "source": [
    "show_graph(x_data_lda, y_data)"
   ]
  },
  {
   "cell_type": "markdown",
   "metadata": {},
   "source": [
    "# 3차원"
   ]
  },
  {
   "cell_type": "code",
   "execution_count": null,
   "metadata": {},
   "outputs": [],
   "source": [
    "def data_processing(data_set):\n",
    "    xx = []\n",
    "    yy = []\n",
    "    zz = []\n",
    "\n",
    "    for i in range(6463):\n",
    "        xx.append(data_set[i][0])\n",
    "        yy.append(data_set[i][1]) \n",
    "        zz.append(data_set[i][2])\n",
    "    \n",
    "    return xx, yy, zz"
   ]
  },
  {
   "cell_type": "code",
   "execution_count": null,
   "metadata": {},
   "outputs": [],
   "source": [
    "def show_graph_3d(data_set, y_data):\n",
    "    from mpl_toolkits.mplot3d import Axes3D\n",
    "    import matplotlib as mpl\n",
    "\n",
    "    xx, yy, zz = data_processing(data_set)\n",
    "    \n",
    "    fig = plt.figure(figsize=(30, 25))\n",
    "\n",
    "    ax = fig.add_subplot(111, projection='3d')\n",
    "\n",
    "#     v = (np.random.random((6463))-0.5)*15\n",
    "    \n",
    "    c = np.abs(y_data)\n",
    "    cmhot = plt.get_cmap(\"hot\")\n",
    "\n",
    "    ax.scatter(xx, yy, zz, y_data, c=c, cmap = cmhot, s = 100)\n",
    "    \n",
    "    plt.show()"
   ]
  },
  {
   "cell_type": "code",
   "execution_count": null,
   "metadata": {},
   "outputs": [],
   "source": [
    "# show_graph_3d(x_data_pca, y_data)"
   ]
  },
  {
   "cell_type": "code",
   "execution_count": null,
   "metadata": {
    "scrolled": false
   },
   "outputs": [],
   "source": [
    "show_graph_3d(x_data_lda, y_data)"
   ]
  },
  {
   "cell_type": "markdown",
   "metadata": {},
   "source": [
    "# 교차검증을 통한 모델 선택"
   ]
  },
  {
   "cell_type": "code",
   "execution_count": 9,
   "metadata": {},
   "outputs": [],
   "source": [
    "def model_selection(x_data, y_data):\n",
    "    kernels = ['linear','poly','rbf'] # 'sigmoid' takes a long time\n",
    "    svm_model = []\n",
    "    scores = []\n",
    "    \n",
    "    for i in kernels:\n",
    "        temp_model = make_pipeline(StandardScaler(), svm.SVR(C = 1.0, epsilon = 0.1, kernel = i))\n",
    "        scores.append(cross_val_score(temp_model, x_data, y_data, cv = 5).mean())\n",
    "    \n",
    "    for i,j in enumerate(scores):\n",
    "        print(\"model : {}, score : {}\".format(kernels[i], j))\n",
    "    \n",
    "    k = np.argmax(np.array(scores))\n",
    "    \n",
    "    return kernels[k]"
   ]
  },
  {
   "cell_type": "code",
   "execution_count": null,
   "metadata": {},
   "outputs": [],
   "source": [
    "# kernel = model_selection(x_data_pca,y_data) # pca\n",
    "# select_data_set = x_data_pca"
   ]
  },
  {
   "cell_type": "code",
   "execution_count": 10,
   "metadata": {},
   "outputs": [
    {
     "name": "stdout",
     "output_type": "stream",
     "text": [
      "model : linear, score : 0.260628576876\n",
      "model : poly, score : -0.189618749711\n",
      "model : rbf, score : 0.273716474063\n"
     ]
    }
   ],
   "source": [
    "kernel = model_selection(x_data_lda,y_data) # lda\n",
    "select_data_set = x_data_lda"
   ]
  },
  {
   "cell_type": "markdown",
   "metadata": {},
   "source": [
    "# train, validation, test 나누기"
   ]
  },
  {
   "cell_type": "code",
   "execution_count": 46,
   "metadata": {},
   "outputs": [
    {
     "name": "stdout",
     "output_type": "stream",
     "text": [
      "(5170, 6)\n",
      "(5170,)\n",
      "(1293, 6)\n",
      "(1293,)\n"
     ]
    }
   ],
   "source": [
    "x_train, x_test, y_train, y_test = train_test_split(select_data_set, y_data,test_size = 0.2, random_state=1)\n",
    "\n",
    "print(x_train.shape)\n",
    "print(y_train.shape)\n",
    "print(x_test.shape)\n",
    "print(y_test.shape)"
   ]
  },
  {
   "cell_type": "markdown",
   "metadata": {},
   "source": [
    "# 모델 선언 및 train"
   ]
  },
  {
   "cell_type": "code",
   "execution_count": null,
   "metadata": {},
   "outputs": [],
   "source": [
    "def get_predictions(model, x_data):\n",
    "    predictions = model.predict(x_data)\n",
    "    \n",
    "    return predictions\n",
    "\n",
    "def get_validation_score(model, x_data, y_data):\n",
    "    temp = cross_val_score(model, x_data, y_data, cv = 5)\n",
    "    \n",
    "    for i in range(len(temp)):\n",
    "        print(\"Validation set {} : {}\".format(i, temp[i]))\n",
    "    \n",
    "    return cross_val_score(model, x_data, y_data, cv = 5).mean()\n",
    "\n",
    "def model(x_train, y_train):\n",
    "    svm_model = make_pipeline(StandardScaler(), OneVsRestClassifier(svm.SVR(C = 100, epsilon = 0.3, kernel = kernel)))\n",
    "\n",
    "    svm_model.fit(x_train, y_train)\n",
    "    \n",
    "    print(\"\\nValidation score : {:.3f}\".format(get_validation_score(svm_model, x_train, y_train)))\n",
    "    \n",
    "    predictions = get_predictions(svm_model, x_train)\n",
    "            \n",
    "    return svm_model, predictions\n",
    "\n",
    "m1, p = model(x_train, y_train)"
   ]
  },
  {
   "cell_type": "markdown",
   "metadata": {},
   "source": [
    "# 모델 평가"
   ]
  },
  {
   "cell_type": "code",
   "execution_count": 54,
   "metadata": {
    "scrolled": true
   },
   "outputs": [
    {
     "name": "stdout",
     "output_type": "stream",
     "text": [
      "모델 평가 : 0.683\n"
     ]
    }
   ],
   "source": [
    "print(\"모델 평가 : {:.3f}\".format(m1.score(x_train, y_train)))\n",
    "# print(\"Train set 정확도: {}\".format(accuracy_score(y_train, p)))"
   ]
  },
  {
   "cell_type": "markdown",
   "metadata": {},
   "source": [
    "# Test"
   ]
  },
  {
   "cell_type": "code",
   "execution_count": 55,
   "metadata": {},
   "outputs": [],
   "source": [
    "y_hat = get_predictions(m1, x_test)"
   ]
  },
  {
   "cell_type": "code",
   "execution_count": 56,
   "metadata": {
    "scrolled": true
   },
   "outputs": [
    {
     "name": "stdout",
     "output_type": "stream",
     "text": [
      "Test set 정확도: 0.581\n"
     ]
    }
   ],
   "source": [
    "print(\"Test set 정확도: {:.3f}\".format(accuracy_score(y_test, y_hat)))"
   ]
  },
  {
   "cell_type": "markdown",
   "metadata": {},
   "source": [
    "# precision"
   ]
  },
  {
   "cell_type": "code",
   "execution_count": 57,
   "metadata": {},
   "outputs": [
    {
     "data": {
      "text/plain": [
       "0.575455005342224"
      ]
     },
     "execution_count": 57,
     "metadata": {},
     "output_type": "execute_result"
    }
   ],
   "source": [
    "from sklearn.metrics import precision_score\n",
    "\n",
    "precision_score(y_test, y_hat, average='weighted')"
   ]
  },
  {
   "cell_type": "markdown",
   "metadata": {},
   "source": [
    "# recall"
   ]
  },
  {
   "cell_type": "code",
   "execution_count": 58,
   "metadata": {},
   "outputs": [
    {
     "data": {
      "text/plain": [
       "0.5808197989172467"
      ]
     },
     "execution_count": 58,
     "metadata": {},
     "output_type": "execute_result"
    }
   ],
   "source": [
    "from sklearn.metrics import recall_score\n",
    "\n",
    "recall_score(y_test, y_hat, average='weighted')"
   ]
  },
  {
   "cell_type": "markdown",
   "metadata": {},
   "source": [
    "# ROC"
   ]
  },
  {
   "cell_type": "code",
   "execution_count": null,
   "metadata": {},
   "outputs": [],
   "source": [
    "from sklearn.metrics import roc_auc_score\n",
    "\n",
    "n_classes = 7\n",
    "x = np.array([i for i in range(n_classes)])\n",
    "\n",
    "temp = roc_auc_score(y_test, y_hat, average=\"weighted\", multi_class = \"ovr\")"
   ]
  },
  {
   "cell_type": "markdown",
   "metadata": {},
   "source": [
    "# 정리\n",
    "\n",
    "### C = 100, epsilon = 0.3\n",
    "- validation score = \n",
    "- accuracy = 58%"
   ]
  },
  {
   "cell_type": "markdown",
   "metadata": {},
   "source": [
    "https://wdprogrammer.tistory.com/29"
   ]
  },
  {
   "cell_type": "markdown",
   "metadata": {},
   "source": [
    "https://m.blog.naver.com/PostView.nhn?blogId=owl6615&logNo=221459656642&proxyReferer=https:%2F%2Fwww.google.com%2F"
   ]
  }
 ],
 "metadata": {
  "kernelspec": {
   "display_name": "conda_pytorch_p27",
   "language": "python",
   "name": "conda_pytorch_p27"
  },
  "language_info": {
   "codemirror_mode": {
    "name": "ipython",
    "version": 2
   },
   "file_extension": ".py",
   "mimetype": "text/x-python",
   "name": "python",
   "nbconvert_exporter": "python",
   "pygments_lexer": "ipython2",
   "version": "2.7.15"
  }
 },
 "nbformat": 4,
 "nbformat_minor": 4
}

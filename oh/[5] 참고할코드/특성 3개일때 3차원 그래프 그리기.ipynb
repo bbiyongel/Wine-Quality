{
 "cells": [
  {
   "cell_type": "code",
   "execution_count": null,
   "metadata": {},
   "outputs": [],
   "source": [
    "def data_processing(data_set):\n",
    "    xx = []\n",
    "    yy = []\n",
    "    zz = []\n",
    "\n",
    "    for i in range(6463):\n",
    "        xx.append(data_set[i][0])\n",
    "        yy.append(data_set[i][1]) \n",
    "        zz.append(data_set[i][2])\n",
    "    \n",
    "    return xx, yy, zz"
   ]
  },
  {
   "cell_type": "code",
   "execution_count": null,
   "metadata": {},
   "outputs": [],
   "source": [
    "def show_graph_3d(data_set, y_data):\n",
    "    from mpl_toolkits.mplot3d import Axes3D\n",
    "    import matplotlib as mpl\n",
    "\n",
    "    xx, yy, zz = data_processing(data_set)\n",
    "    \n",
    "    fig = plt.figure(figsize=(30, 25))\n",
    "\n",
    "    ax = fig.add_subplot(111, projection='3d')\n",
    "\n",
    "#     v = (np.random.random((6463))-0.5)*15\n",
    "    \n",
    "    c = np.abs(y_data)\n",
    "    cmhot = plt.get_cmap(\"hot\")\n",
    "\n",
    "    ax.scatter(xx, yy, zz, y_data, c=c, cmap = cmhot, s = 100)\n",
    "    \n",
    "    plt.show()"
   ]
  },
  {
   "cell_type": "code",
   "execution_count": null,
   "metadata": {},
   "outputs": [],
   "source": [
    "show_graph_3d(x_data_pca, y_data)"
   ]
  }
 ],
 "metadata": {
  "kernelspec": {
   "display_name": "conda_pytorch_p36",
   "language": "python",
   "name": "conda_pytorch_p36"
  },
  "language_info": {
   "codemirror_mode": {
    "name": "ipython",
    "version": 3
   },
   "file_extension": ".py",
   "mimetype": "text/x-python",
   "name": "python",
   "nbconvert_exporter": "python",
   "pygments_lexer": "ipython3",
   "version": "3.6.5"
  }
 },
 "nbformat": 4,
 "nbformat_minor": 4
}

{
 "cells": [
  {
   "cell_type": "code",
   "execution_count": null,
   "metadata": {},
   "outputs": [],
   "source": [
    "def norm(df,key):\n",
    "    c = df[key]\n",
    "    df_min = c.min()\n",
    "    df_max = c.max()\n",
    "#     print(\"key=> \",key,\"min\",df_min,\"max\",df_max)\n",
    "    df[key] = (c-df_min)/(df_max-df_min)\n",
    "\n",
    "x_columns = x_data.columns.tolist()\n",
    "\n",
    "for i in x_columns:\n",
    "    norm(x_data, i)"
   ]
  }
 ],
 "metadata": {
  "kernelspec": {
   "display_name": "conda_pytorch_p36",
   "language": "python",
   "name": "conda_pytorch_p36"
  },
  "language_info": {
   "codemirror_mode": {
    "name": "ipython",
    "version": 3
   },
   "file_extension": ".py",
   "mimetype": "text/x-python",
   "name": "python",
   "nbconvert_exporter": "python",
   "pygments_lexer": "ipython3",
   "version": "3.6.5"
  }
 },
 "nbformat": 4,
 "nbformat_minor": 4
}

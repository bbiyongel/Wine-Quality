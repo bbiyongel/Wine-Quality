{
 "cells": [
  {
   "cell_type": "code",
   "execution_count": null,
   "metadata": {},
   "outputs": [],
   "source": [
    "import pandas as pd\n",
    "import numpy as np\n",
    "\n",
    "datapath = \"../data/winequalityN.csv\"\n",
    "\n",
    "pd_data = pd.read_csv(datapath, delimiter= ',')\n",
    "\n",
    "pd_data = pd_data[pd_data['quality'] != 9.0]\n",
    "\n",
    "pd_data_white = pd_data[pd_data['type'] == 'white']\n",
    "\n",
    "pd_data_white['y_or_n'] = pd_data_white['quality'] > 5\n",
    "\n",
    "pd_data_white.to_csv(\"../data/filename.csv\", mode='w')"
   ]
  }
 ],
 "metadata": {
  "kernelspec": {
   "display_name": "conda_pytorch_p36",
   "language": "python",
   "name": "conda_pytorch_p36"
  },
  "language_info": {
   "codemirror_mode": {
    "name": "ipython",
    "version": 3
   },
   "file_extension": ".py",
   "mimetype": "text/x-python",
   "name": "python",
   "nbconvert_exporter": "python",
   "pygments_lexer": "ipython3",
   "version": "3.6.5"
  }
 },
 "nbformat": 4,
 "nbformat_minor": 4
}

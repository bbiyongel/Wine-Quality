{
 "cells": [
  {
   "cell_type": "code",
   "execution_count": null,
   "metadata": {},
   "outputs": [],
   "source": [
    "path = \"../parameters/\"\n",
    "svr_p = \"SVR_p.csv\"\n",
    "\n",
    "svr_parameters = pd.read_csv(path + svr_p, delimiter = ',')\n",
    "\n",
    "new_parameters = [\"LDA\", 6, \"SVR\",\n",
    "                   svr_kernel, \"default\", \"default\",\n",
    "                  \"default\", \"default\", C_svr,\n",
    "                  epsilon_svr, \"default\", \"default\",\n",
    "                   \"default\", \"default\", validation_score_svr,\n",
    "                   accuracy_svr] ## features의 column에 맞게 파라미터 작성\n",
    "\n",
    "svr_parameters.loc[-1] = new_parameters\n",
    "\n",
    "svr_parameters.index = svr_parameters.index + 1\n",
    "\n",
    "svr_parameters.to_csv(path + svr_p, mode = 'w', index =False)"
   ]
  }
 ],
 "metadata": {
  "kernelspec": {
   "display_name": "conda_pytorch_p36",
   "language": "python",
   "name": "conda_pytorch_p36"
  },
  "language_info": {
   "codemirror_mode": {
    "name": "ipython",
    "version": 3
   },
   "file_extension": ".py",
   "mimetype": "text/x-python",
   "name": "python",
   "nbconvert_exporter": "python",
   "pygments_lexer": "ipython3",
   "version": "3.6.5"
  }
 },
 "nbformat": 4,
 "nbformat_minor": 4
}

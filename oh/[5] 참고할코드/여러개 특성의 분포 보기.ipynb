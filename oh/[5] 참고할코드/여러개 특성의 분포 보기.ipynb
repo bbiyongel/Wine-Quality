{
 "cells": [
  {
   "cell_type": "code",
   "execution_count": null,
   "metadata": {},
   "outputs": [],
   "source": [
    "import matplotlib.pyplot as plt\n",
    "import pandas as pd\n",
    "\n",
    "data_path = \"./data/\"\n",
    "data_name = \"file_name.csv\"\n",
    "data_set = pd.read_csv(data_path + data_name)\n",
    "data_set.dropna(inplace = True)\n",
    "\n",
    "def read_use_pandas():\n",
    "    data_schema = data_set.columns.tolist()[1:-1]\n",
    "    \n",
    "    for c in data_schema:\n",
    "        see_use_pyplot(c)\n",
    "    \n",
    "def see_use_pyplot(c):\n",
    "    y_data = data_set[\"quality\"]\n",
    "    x_data = data_set[c]\n",
    "    \n",
    "    plt.plot(x_data, y_data, \"bo\")\n",
    "    plt.xlabel(c)\n",
    "    plt.ylabel(\"quality\")\n",
    "    plt.show()\n",
    "    \n",
    "read_use_pandas()"
   ]
  }
 ],
 "metadata": {
  "kernelspec": {
   "display_name": "conda_pytorch_p36",
   "language": "python",
   "name": "conda_pytorch_p36"
  },
  "language_info": {
   "codemirror_mode": {
    "name": "ipython",
    "version": 3
   },
   "file_extension": ".py",
   "mimetype": "text/x-python",
   "name": "python",
   "nbconvert_exporter": "python",
   "pygments_lexer": "ipython3",
   "version": "3.6.5"
  }
 },
 "nbformat": 4,
 "nbformat_minor": 4
}

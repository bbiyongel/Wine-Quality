{
 "cells": [
  {
   "cell_type": "code",
   "execution_count": null,
   "metadata": {},
   "outputs": [],
   "source": [
    "import pandas as pd\n",
    "import matplotlib.pyplot as plt\n",
    "\n",
    "data_path = \"./data/white.csv\"\n",
    "\n",
    "def read_use_pandas():\n",
    "    data_set = pd.read_csv(data_path)\n",
    "    data_set.dropna(inplace = True)\n",
    "    see_maxtrix_use_pyplot(data_set)\n",
    "\n",
    "def see_maxtrix_use_pyplot(aa):\n",
    "    aa.drop(['index'], axis = 1)\n",
    "    y_data = aa['y_or_n']\n",
    "    x_data = aa.drop(['y_or_n'], axis = 1)\n",
    "    pd.plotting.scatter_matrix(x_data, c = y_data, figsize=(50,50), marker ='o', hist_kwds = {'bins' : 20}, s =30, alpha = 20)\n",
    "    plt.show()\n",
    "    \n",
    "read_use_pandas()"
   ]
  }
 ],
 "metadata": {
  "kernelspec": {
   "display_name": "conda_pytorch_p36",
   "language": "python",
   "name": "conda_pytorch_p36"
  },
  "language_info": {
   "codemirror_mode": {
    "name": "ipython",
    "version": 3
   },
   "file_extension": ".py",
   "mimetype": "text/x-python",
   "name": "python",
   "nbconvert_exporter": "python",
   "pygments_lexer": "ipython3",
   "version": "3.6.5"
  }
 },
 "nbformat": 4,
 "nbformat_minor": 4
}

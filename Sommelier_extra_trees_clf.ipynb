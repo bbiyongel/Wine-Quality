{
 "cells": [
  {
   "cell_type": "code",
   "execution_count": 1,
   "metadata": {},
   "outputs": [],
   "source": [
    "import numpy as np\n",
    "import pandas as pd"
   ]
  },
  {
   "cell_type": "code",
   "execution_count": 2,
   "metadata": {},
   "outputs": [],
   "source": [
    "import csv\n",
    "f1=open('X_train_std.csv','r',encoding='UTF-8')\n",
    "f2=open('y_train.csv','r',encoding='UTF-8')\n",
    "\n",
    "f3=open('X_val_std.csv','r',encoding='UTF-8')\n",
    "f4=open('y_val.csv','r',encoding='UTF-8')\n",
    "\n",
    "f5=open('X_test_std.csv','r',encoding='UTF-8')\n",
    "f6=open('y_test.csv','r',encoding='UTF-8')\n",
    "\n",
    "X_train_std = []\n",
    "y_train = []\n",
    "\n",
    "X_val_std = []\n",
    "y_val = []\n",
    "\n",
    "X_test_std = []\n",
    "y_test = []\n",
    "\n",
    "for r in csv.reader(f1):\n",
    "    X_train_std.append(r)\n",
    "for r in csv.reader(f3):\n",
    "    X_val_std.append(r)\n",
    "for r in csv.reader(f5):\n",
    "    X_test_std.append(r)\n",
    "\n",
    "for r in csv.reader(f2):\n",
    "    r=r[0].split(',')\n",
    "    for i in r:\n",
    "        y_train.append(i)\n",
    "for r in csv.reader(f4):\n",
    "    r=r[0].split(',')\n",
    "    for i in r:\n",
    "        y_val.append(i)\n",
    "for r in csv.reader(f6):\n",
    "    r=r[0].split(',')\n",
    "    for i in r:\n",
    "        y_test.append(i)\n",
    "        \n",
    "X_train_std=np.array(X_train_std)\n",
    "X_train_std = X_train_std.astype(np.float64)\n",
    "y_train=np.array(y_train)\n",
    "y_train = y_train.astype(np.float64)\n",
    "\n",
    "X_val_std=np.array(X_val_std)\n",
    "X_val_std = X_val_std.astype(np.float64)\n",
    "y_val=np.array(y_val)\n",
    "y_val = y_val.astype(np.float64)\n",
    "\n",
    "X_test_std=np.array(X_test_std)\n",
    "X_test_std = X_test_std.astype(np.float64)\n",
    "y_test=np.array(y_test)\n",
    "y_test = y_test.astype(np.float64)"
   ]
  },
  {
   "cell_type": "code",
   "execution_count": 3,
   "metadata": {},
   "outputs": [
    {
     "data": {
      "text/plain": [
       "ExtraTreesClassifier(bootstrap=False, ccp_alpha=0.0, class_weight=None,\n",
       "                     criterion='gini', max_depth=None, max_features='auto',\n",
       "                     max_leaf_nodes=None, max_samples=None,\n",
       "                     min_impurity_decrease=0.0, min_impurity_split=None,\n",
       "                     min_samples_leaf=1, min_samples_split=2,\n",
       "                     min_weight_fraction_leaf=0.0, n_estimators=1500,\n",
       "                     n_jobs=None, oob_score=False, random_state=42, verbose=0,\n",
       "                     warm_start=False)"
      ]
     },
     "execution_count": 3,
     "metadata": {},
     "output_type": "execute_result"
    }
   ],
   "source": [
    "from sklearn.ensemble import ExtraTreesClassifier\n",
    "extra_trees_clf = ExtraTreesClassifier(n_estimators=1500, random_state=42)\n",
    "extra_trees_clf.fit(X_train_std, y_train)"
   ]
  },
  {
   "cell_type": "code",
   "execution_count": 4,
   "metadata": {},
   "outputs": [
    {
     "data": {
      "text/plain": [
       "0.6676923076923077"
      ]
     },
     "execution_count": 4,
     "metadata": {},
     "output_type": "execute_result"
    }
   ],
   "source": [
    "extra_trees_clf.score(X_val_std, y_val)"
   ]
  },
  {
   "cell_type": "code",
   "execution_count": 5,
   "metadata": {},
   "outputs": [
    {
     "data": {
      "text/plain": [
       "0.6607692307692308"
      ]
     },
     "execution_count": 5,
     "metadata": {},
     "output_type": "execute_result"
    }
   ],
   "source": [
    "extra_trees_clf.score(X_test_std, y_test)"
   ]
  },
  {
   "cell_type": "code",
   "execution_count": 6,
   "metadata": {},
   "outputs": [],
   "source": [
    "from sklearn.preprocessing import StandardScaler\n",
    "#입출력을 위한 함수\n",
    "#입력: 공백으로 구분된 11개의 특성\n",
    "#출력: 11개 특성 + 등급 결과\n",
    "def wine_grade_prediction(features):\n",
    "    #형태 가공\n",
    "    X = [str(features).split()]\n",
    "    \n",
    "    #특성 출력\n",
    "    feat = ['fixed acidity', 'volatile acidity', 'citric acid', 'residual sugar',\n",
    "            'chlorides', 'free sulfur dioxide', 'total sulfur dioxide', 'density',\n",
    "            'pH', 'sulphates', 'alcohol']\n",
    "    for i in range(0,11):\n",
    "        print(feat[i] + \": \" + str(X[0][i]))\n",
    "    \n",
    "    #정규화\n",
    "    X = np.array(X)\n",
    "    scaler = StandardScaler()\n",
    "    scaler.fit(X)\n",
    "    X_std = scaler.transform(X)\n",
    "    \n",
    "    print()\n",
    "    \n",
    "    return \"Your Wine Grade: \" + str(int(extra_trees_clf.predict(X)[0]))"
   ]
  },
  {
   "cell_type": "code",
   "execution_count": 7,
   "metadata": {},
   "outputs": [
    {
     "name": "stdout",
     "output_type": "stream",
     "text": [
      "\n",
      "Please Enter Features:  \n",
      "7.6 0.32 0.58 16.75 0.05 43 163 0.9999 3.15 0.54 9.2\n",
      "\n",
      "fixed acidity: 7.6\n",
      "volatile acidity: 0.32\n",
      "citric acid: 0.58\n",
      "residual sugar: 16.75\n",
      "chlorides: 0.05\n",
      "free sulfur dioxide: 43\n",
      "total sulfur dioxide: 163\n",
      "density: 0.9999\n",
      "pH: 3.15\n",
      "sulphates: 0.54\n",
      "alcohol: 9.2\n",
      "\n",
      "Your Wine Grade: 6\n",
      "\n"
     ]
    }
   ],
   "source": [
    "if __name__ == \"__main__\" :\n",
    "    print()\n",
    "    F = input(\"Please Enter Features:  \\n\")\n",
    "    print()\n",
    "    print(wine_grade_prediction(F))\n",
    "    print()"
   ]
  }
 ],
 "metadata": {
  "kernelspec": {
   "display_name": "conda_pytorch_p36",
   "language": "python",
   "name": "conda_pytorch_p36"
  },
  "language_info": {
   "codemirror_mode": {
    "name": "ipython",
    "version": 3
   },
   "file_extension": ".py",
   "mimetype": "text/x-python",
   "name": "python",
   "nbconvert_exporter": "python",
   "pygments_lexer": "ipython3",
   "version": "3.6.5"
  }
 },
 "nbformat": 4,
 "nbformat_minor": 4
}

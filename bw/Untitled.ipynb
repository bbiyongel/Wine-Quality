{
 "cells": [
  {
   "cell_type": "code",
   "execution_count": null,
   "metadata": {},
   "outputs": [],
   "source": [
    "import numpy as np\n",
    "import pandas as pd\n",
    "import matplotlib.pyplot as plt"
   ]
  },
  {
   "cell_type": "code",
   "execution_count": null,
   "metadata": {},
   "outputs": [],
   "source": [
    "import csv\n",
    "f1=open('winequality-red.csv','r',encoding='UTF-8')\n",
    "f2=open('winequality-white.csv','r',encoding='UTF-8')\n",
    "red_wine_data = csv.reader(f1)\n",
    "white_wine_data = csv.reader(f2)\n",
    "raw1=[]# 가공 전 레드와인 데이터를 넣어둘 리스트\n",
    "raw2=[]# 가공 전 화이트와인 데이터를 넣어둘 리스트"
   ]
  }
 ],
 "metadata": {
  "kernelspec": {
   "display_name": "Python 3",
   "language": "python",
   "name": "python3"
  },
  "language_info": {
   "codemirror_mode": {
    "name": "ipython",
    "version": 3
   },
   "file_extension": ".py",
   "mimetype": "text/x-python",
   "name": "python",
   "nbconvert_exporter": "python",
   "pygments_lexer": "ipython3",
   "version": "3.7.7"
  }
 },
 "nbformat": 4,
 "nbformat_minor": 4
}

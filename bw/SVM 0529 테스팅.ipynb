{
 "cells": [
  {
   "cell_type": "markdown",
   "metadata": {},
   "source": [
    "# 0529 SVM\n",
    "\n",
    "## https://bkshin.tistory.com/entry/%EB%A8%B8%EC%8B%A0%EB%9F%AC%EB%8B%9D-3%EC%84%9C%ED%8F%AC%ED%8A%B8-%EB%B2%A1%ED%84%B0-%EB%A8%B8%EC%8B%A0-SVM-%EC%8B%A4%EC%8A%B5\n",
    "## https://homeproject.tistory.com/6\n",
    "## http://www.gisdeveloper.co.kr/?p=8180\n",
    "## https://analysis-flood.tistory.com/77\n",
    "## 1. 인터넷 자료 따라 SVM 만들어서 적용"
   ]
  },
  {
   "cell_type": "code",
   "execution_count": 24,
   "metadata": {},
   "outputs": [],
   "source": [
    "import numpy as np\n",
    "import pandas as pd\n",
    "import matplotlib.pyplot as plt\n",
    "\n",
    "from sklearn.model_selection import train_test_split, GridSearchCV\n",
    "from sklearn.model_selection import cross_val_score\n",
    "from sklearn.model_selection import StratifiedKFold\n",
    "\n",
    "from sklearn import svm\n",
    "from sklearn.multiclass import OneVsOneClassifier"
   ]
  },
  {
   "cell_type": "code",
   "execution_count": 5,
   "metadata": {},
   "outputs": [],
   "source": [
    "# csv를 가져와 넘파이배열 형태의 데이터셋으로 가공하는 과정\n",
    "import csv\n",
    "f1=open('winequality-red.csv','r',encoding='UTF-8')\n",
    "f2=open('winequality-white.csv','r',encoding='UTF-8')\n",
    "red_wine_data = csv.reader(f1)\n",
    "white_wine_data = csv.reader(f2)\n",
    "raw1=[]# 가공 전 레드와인 데이터를 넣어둘 리스트\n",
    "raw2=[]# 가공 전 화이트와인 데이터를 넣어둘 리스트\n",
    "\n",
    "total_data=[]# 가공된 모든 와인 데이터를 넣어둘 리스트\n",
    "\n",
    "features=[]# 특성 이름을 모아둘 리스트\n",
    "feat=[]# csv에 \"특성이름\" 의 형태로 들어가 있어서 \"\"을 제거하기 전 특성 이름 리스트\n",
    "target=[]# 정답인 등급을 모아둘 리스트\n",
    "\n",
    "for r in red_wine_data:\n",
    "    r=r[0].split(';')\n",
    "    r.insert(0,'1')#red가 1\n",
    "    raw1.append(r)\n",
    "\n",
    "for w in white_wine_data:\n",
    "    w=w[0].split(';')\n",
    "    w.insert(0,'0')#white가 0\n",
    "    raw2.append(w)\n",
    "\n",
    "raw1[0].pop(0)# 와인의 색 정보로 위에서 넣어둔 1을 빼냄\n",
    "feat=raw1[0]\n",
    "for f in feat:\n",
    "    s=f[1:len(f)-1]# \"\"을 제거하는 부분\n",
    "    features.append(s)\n",
    "features.insert(0,'color')\n",
    "\n",
    "# csv의 첫번째 행이 특성 정보이므로 그것을 없애는 작업\n",
    "raw1.pop(0)\n",
    "raw2.pop(0)\n",
    "\n",
    "for i1 in raw1:\n",
    "    total_data.append(i1)\n",
    "\n",
    "for i2 in raw2:\n",
    "    total_data.append(i2)\n",
    "\n",
    "for t in total_data:\n",
    "    target.append(t.pop())\n",
    "\n",
    "\n",
    "total_data=np.array(total_data)\n",
    "total_data = total_data.astype(np.float64)# 실행했을때 밑의 경고문이 떠서 추가\n",
    "\"\"\"\n",
    "FutureWarning:\n",
    "Beginning in version 0.22,\n",
    "arrays of bytes/strings will be converted to decimal numbers if dtype='numeric'.\n",
    "It is recommended that you convert the array to a float dtype before using it in scikit-learn\n",
    "\"\"\"\n",
    "\n",
    "import copy\n",
    "\n",
    "target_6=copy.deepcopy(target) # 1~5 / 6~10\n",
    "      \n",
    "for i in range(0,len(target_6)):\n",
    "    if int(target_6[i])<5:\n",
    "        target_6[i]='0'\n",
    "    else:\n",
    "       target_6[i]='1'\n",
    "       \n",
    "target_6=np.array(target_6)\n",
    "target_6 = target_6.astype(np.float64)\n",
    "\n",
    "f1.close()\n",
    "f2.close()\n",
    "\n",
    "#위에서 copy가 일어나므로 밑에서 처리\n",
    "target=np.array(target)\n",
    "target = target.astype(np.float64)"
   ]
  },
  {
   "cell_type": "markdown",
   "metadata": {},
   "source": [
    "### 이진분류"
   ]
  },
  {
   "cell_type": "code",
   "execution_count": 6,
   "metadata": {},
   "outputs": [],
   "source": [
    "# 훈련 데이터와 테스트 데이터 이진분할\n",
    "x_train,x_test, y_train, y_test = train_test_split(total_data, target_6, random_state=0)"
   ]
  },
  {
   "cell_type": "code",
   "execution_count": 4,
   "metadata": {},
   "outputs": [],
   "source": [
    "clf_l_tts=svm.SVC(kernel='linear')\n",
    "clf_l.fit(x_train,y_train)\n"
   ]
  },
  {
   "cell_type": "code",
   "execution_count": 4,
   "metadata": {},
   "outputs": [],
   "source": [
    "clf_l_skf=svm.SVC(kernel='linear')"
   ]
  },
  {
   "cell_type": "code",
   "execution_count": 7,
   "metadata": {},
   "outputs": [
    {
     "data": {
      "text/plain": [
       "SVC(C=1.0, break_ties=False, cache_size=200, class_weight=None, coef0=0.0,\n",
       "    decision_function_shape='ovr', degree=3, gamma='scale', kernel='poly',\n",
       "    max_iter=-1, probability=False, random_state=None, shrinking=True,\n",
       "    tol=0.001, verbose=False)"
      ]
     },
     "execution_count": 7,
     "metadata": {},
     "output_type": "execute_result"
    }
   ],
   "source": [
    "\n",
    "clf_r=svm.SVC(kernel='rbf')\n",
    "clf_p=svm.SVC(kernel='poly')\n",
    "\n",
    "\n",
    "clf_r.fit(x_train,y_train)\n",
    "clf_p.fit(x_train,y_train)"
   ]
  },
  {
   "cell_type": "code",
   "execution_count": 12,
   "metadata": {},
   "outputs": [
    {
     "name": "stdout",
     "output_type": "stream",
     "text": [
      "cross vaidation score : [0.96307692 0.96153846 0.96153846 0.96153846 0.96153846 0.96153846\n",
      " 0.96153846 0.96302003 0.96302003 0.96302003]\n",
      "0.9621367784757616\n"
     ]
    }
   ],
   "source": [
    "\n",
    "\n",
    "skf=StratifiedKFold(n_splits=10, shuffle=True, random_state=0)\n",
    "score = cross_val_score(clf_l, total_data, target_6, cv=skf)\n",
    "print('cross vaidation score : %s'%score)\n",
    "print(score.mean())\n",
    "\n",
    "# 단순 교차검증만 했을 때(cv 설정 안할시 5겹이 기본)\n",
    "# cross vaidation score : [0.96230769 0.96153846 0.96227868 0.96227868 0.96227868]\n",
    "# 0.9621364363119559\n",
    "# 계층별 교차검증을 했을 때\n",
    "# cross vaidation score : [0.96307692 0.96153846 0.96153846 0.96153846 0.96153846 \n",
    "# 0.96153846 0.96153846 0.96302003 0.96302003 0.96302003]\n",
    "# 0.9621367784757616"
   ]
  },
  {
   "cell_type": "code",
   "execution_count": 13,
   "metadata": {},
   "outputs": [
    {
     "name": "stdout",
     "output_type": "stream",
     "text": [
      "cross vaidation score : [0.96307692 0.96153846 0.96153846 0.96153846 0.96153846 0.96153846\n",
      " 0.96153846 0.96302003 0.96302003 0.96302003]\n",
      "0.9621367784757616\n"
     ]
    }
   ],
   "source": [
    "skf=StratifiedKFold(n_splits=10, shuffle=True, random_state=0)\n",
    "score = cross_val_score(clf_r, total_data, target_6, cv=skf)\n",
    "print('cross vaidation score : %s'%score)\n",
    "print(score.mean())"
   ]
  },
  {
   "cell_type": "code",
   "execution_count": 14,
   "metadata": {},
   "outputs": [
    {
     "name": "stdout",
     "output_type": "stream",
     "text": [
      "cross vaidation score : [0.96307692 0.96153846 0.96153846 0.96153846 0.96153846 0.96153846\n",
      " 0.96153846 0.96302003 0.96302003 0.96302003]\n",
      "0.9621367784757616\n"
     ]
    }
   ],
   "source": [
    "skf=StratifiedKFold(n_splits=10, shuffle=True, random_state=0)\n",
    "score = cross_val_score(clf_p, total_data, target_6, cv=skf)\n",
    "print('cross vaidation score : %s'%score)\n",
    "print(score.mean())"
   ]
  },
  {
   "cell_type": "markdown",
   "metadata": {},
   "source": [
    "### Linearly Separable Data without Noise"
   ]
  },
  {
   "cell_type": "code",
   "execution_count": 25,
   "metadata": {},
   "outputs": [
    {
     "name": "stdout",
     "output_type": "stream",
     "text": [
      "Accuracy: 96.0%\n"
     ]
    }
   ],
   "source": [
    "X_train, X_test, y_train, y_test = train_test_split(total_data, target_6, random_state=0)\n",
    "\n",
    "# make a classifier and fit on training data\n",
    "clf = svm.SVC(kernel='linear')\n",
    "\n",
    "# Train classifier \n",
    "clf.fit(X_train, y_train)\n",
    "\n",
    "# Make predictions on unseen test data\n",
    "clf_predictions = clf.predict(X_test)\n",
    "print(\"Accuracy: {}%\".format(clf.score(X_test, y_test) * 100 ))"
   ]
  },
  {
   "cell_type": "markdown",
   "metadata": {},
   "source": [
    "### Linearly Separable Data with Noise"
   ]
  },
  {
   "cell_type": "code",
   "execution_count": 26,
   "metadata": {},
   "outputs": [
    {
     "name": "stdout",
     "output_type": "stream",
     "text": [
      "Accuracy(C=1): 96.0%\n",
      "Accuracy(C=100): 96.12307692307692%\n"
     ]
    }
   ],
   "source": [
    "# make a classifier and fit on training data\n",
    "clf_1 = svm.SVC(kernel='linear', C=1)\n",
    "clf_1.fit(X_train, y_train)\n",
    "\n",
    "# make a classifier and fit on training data\n",
    "clf_100 = svm.SVC(kernel='linear', C=100)\n",
    "clf_100.fit(X_train, y_train)\n",
    "\n",
    "print(\"Accuracy(C=1): {}%\".format(clf_1.score(X_test, y_test) * 100 ))\n",
    "\n",
    "print(\"Accuracy(C=100): {}%\".format(clf_100.score(X_test, y_test) * 100 ))\n",
    "\n",
    "# Make predictions on unseen test data\n",
    "clf_1_predictions = clf_1.predict(X_test)\n",
    "clf_100_predictions = clf_100.predict(X_test)"
   ]
  },
  {
   "cell_type": "markdown",
   "metadata": {},
   "source": [
    "### NonLinearly Separable Data with Noise"
   ]
  },
  {
   "cell_type": "code",
   "execution_count": 27,
   "metadata": {},
   "outputs": [
    {
     "name": "stdout",
     "output_type": "stream",
     "text": [
      "Fitting 5 folds for each of 24 candidates, totalling 120 fits\n"
     ]
    },
    {
     "name": "stderr",
     "output_type": "stream",
     "text": [
      "[Parallel(n_jobs=1)]: Using backend SequentialBackend with 1 concurrent workers.\n",
      "[Parallel(n_jobs=1)]: Done 120 out of 120 | elapsed:  1.1min finished\n"
     ]
    },
    {
     "name": "stdout",
     "output_type": "stream",
     "text": [
      "Best Parameters:\n",
      " {'C': 1, 'gamma': 1}\n",
      "Best Estimators:\n",
      " SVC(C=1, break_ties=False, cache_size=200, class_weight=None, coef0=0.0,\n",
      "    decision_function_shape='ovr', degree=3, gamma=1, kernel='rbf', max_iter=-1,\n",
      "    probability=False, random_state=None, shrinking=True, tol=0.001,\n",
      "    verbose=False)\n"
     ]
    }
   ],
   "source": [
    "# make a classifier\n",
    "clf = svm.SVC(C = 10.0, kernel='rbf', gamma=0.1)\n",
    "\n",
    "# Train classifier\n",
    "clf.fit(X_train, y_train)\n",
    "\n",
    "# Make predictions on unseen test data\n",
    "clf_predictions = clf.predict(X_test)\n",
    "\n",
    "# Parameter Grid\n",
    "param_grid = {'C': [0.1, 1, 10, 100], 'gamma': [1, 0.1, 0.01, 0.001, 0.00001, 10]}\n",
    "\n",
    "# Make grid search classifier\n",
    "clf_grid = GridSearchCV(svm.SVC(), param_grid, verbose=1)\n",
    "\n",
    "# Train the classifier\n",
    "clf_grid.fit(X_train, y_train)\n",
    "\n",
    "# clf = grid.best_estimator_()\n",
    "print(\"Best Parameters:\\n\", clf_grid.best_params_)\n",
    "print(\"Best Estimators:\\n\", clf_grid.best_estimator_)"
   ]
  },
  {
   "cell_type": "code",
   "execution_count": null,
   "metadata": {},
   "outputs": [],
   "source": []
  }
 ],
 "metadata": {
  "kernelspec": {
   "display_name": "Python 3",
   "language": "python",
   "name": "python3"
  },
  "language_info": {
   "codemirror_mode": {
    "name": "ipython",
    "version": 3
   },
   "file_extension": ".py",
   "mimetype": "text/x-python",
   "name": "python",
   "nbconvert_exporter": "python",
   "pygments_lexer": "ipython3",
   "version": "3.7.7"
  }
 },
 "nbformat": 4,
 "nbformat_minor": 4
}

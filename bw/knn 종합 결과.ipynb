{
 "cells": [
  {
   "cell_type": "code",
   "execution_count": 13,
   "metadata": {},
   "outputs": [],
   "source": [
    "import numpy as np\n",
    "import pandas as pd\n",
    "from sklearn.model_selection import train_test_split\n",
    "from sklearn.neighbors import KNeighborsClassifier\n",
    "from sklearn.neighbors import KNeighborsRegressor\n",
    "import matplotlib.pyplot as plt"
   ]
  },
  {
   "cell_type": "code",
   "execution_count": 2,
   "metadata": {},
   "outputs": [],
   "source": [
    "# csv를 가져와 넘파이배열 형태의 데이터셋으로 가공하는 과정\n",
    "import csv\n",
    "f1=open('winequality-red.csv','r',encoding='UTF-8')\n",
    "f2=open('winequality-white.csv','r',encoding='UTF-8')\n",
    "red_wine_data = csv.reader(f1)\n",
    "white_wine_data = csv.reader(f2)\n",
    "raw1=[]# 가공 전 레드와인 데이터를 넣어둘 리스트\n",
    "raw2=[]# 가공 전 화이트와인 데이터를 넣어둘 리스트\n",
    "\n",
    "total_data=[]# 가공된 모든 와인 데이터를 넣어둘 리스트\n",
    "\n",
    "features=[]# 특성 이름을 모아둘 리스트\n",
    "feat=[]# csv에 \"특성이름\" 의 형태로 들어가 있어서 \"\"을 제거하기 전 특성 이름 리스트\n",
    "target=[]# 정답인 등급을 모아둘 리스트\n",
    "\n",
    "for r in red_wine_data:\n",
    "    r=r[0].split(';')\n",
    "    r.insert(0,'1')#red가 1\n",
    "    raw1.append(r)\n",
    "\n",
    "for w in white_wine_data:\n",
    "    w=w[0].split(';')\n",
    "    w.insert(0,'0')#white가 0\n",
    "    raw2.append(w)\n",
    "\n",
    "raw1[0].pop(0)# 와인의 색 정보로 위에서 넣어둔 1을 빼냄\n",
    "feat=raw1[0]\n",
    "for f in feat:\n",
    "    s=f[1:len(f)-1]# \"\"을 제거하는 부분\n",
    "    features.append(s)\n",
    "features.insert(0,'color')\n",
    "\n",
    "# csv의 첫번째 행이 특성 정보이므로 그것을 없애는 작업\n",
    "raw1.pop(0)\n",
    "raw2.pop(0)\n",
    "\n",
    "for i1 in raw1:\n",
    "    total_data.append(i1)\n",
    "\n",
    "for i2 in raw2:\n",
    "    total_data.append(i2)\n",
    "\n",
    "for t in total_data:\n",
    "    target.append(t.pop())\n",
    "\n",
    "\n",
    "total_data=np.array(total_data)\n",
    "total_data = total_data.astype(np.float64)# 실행했을때 밑의 경고문이 떠서 추가\n",
    "\"\"\"\n",
    "FutureWarning:\n",
    "Beginning in version 0.22,\n",
    "arrays of bytes/strings will be converted to decimal numbers if dtype='numeric'.\n",
    "It is recommended that you convert the array to a float dtype before using it in scikit-learn\n",
    "\"\"\"\n",
    "\n",
    "import copy\n",
    "\n",
    "target_5=copy.deepcopy(target) # 1~4 / 5~10\n",
    "target_6=copy.deepcopy(target) # 1~5 / 6~10\n",
    "target_7=copy.deepcopy(target) # 1~6 / 7~10\n",
    "\n",
    "for i in range(0,len(target_5)):\n",
    "    if int(target_5[i])<5:\n",
    "        target_5[i]='0'\n",
    "    else:\n",
    "       target_5[i]='1'\n",
    "        \n",
    "for i in range(0,len(target_6)):\n",
    "    if int(target_6[i])<5:\n",
    "        target_6[i]='0'\n",
    "    else:\n",
    "       target_6[i]='1'\n",
    "        \n",
    "for i in range(0,len(target_7)):\n",
    "    if int(target_7[i])<5:\n",
    "        target_7[i]='0'\n",
    "    else:\n",
    "       target_7[i]='1'\n",
    "        \n",
    "target_5=np.array(target_5)\n",
    "target_5 = target_5.astype(np.float64)\n",
    "target_6=np.array(target_6)\n",
    "target_6 = target_6.astype(np.float64)\n",
    "target_7=np.array(target_7)\n",
    "target_7 = target_7.astype(np.float64)\n",
    "\n",
    "f1.close()\n",
    "f2.close()\n",
    "\n",
    "#위에서 copy가 일어나므로 밑에서 처리\n",
    "target=np.array(target)\n",
    "target = target.astype(np.float64)"
   ]
  },
  {
   "cell_type": "code",
   "execution_count": 4,
   "metadata": {},
   "outputs": [],
   "source": [
    "# 훈련 데이터와 테스트 데이터 분할\n",
    "x_train, x_test, y_train, y_test = train_test_split(total_data, target, random_state=0)"
   ]
  },
  {
   "cell_type": "markdown",
   "metadata": {},
   "source": [
    "# KNeighborsClassifier n_neighbors 조정, weights = uniform"
   ]
  },
  {
   "cell_type": "code",
   "execution_count": 5,
   "metadata": {},
   "outputs": [],
   "source": [
    "def knn_by_n(n,x,y,test,pred):\n",
    "    #매개변수는 순서대로 k, 훈련데이터 특성배열, 훈련데이터 타겟배열, 테스트셋 특성배열, 테스트셋 타겟배열\n",
    "    knn=KNeighborsClassifier(n_neighbors=n)#k=n인 knn\n",
    "    knn.fit(x, y)\n",
    "    y_pred = knn.predict(test)\n",
    "    if n%50==0:\n",
    "        print(n)\n",
    "    #print(\"n = \", n)\n",
    "    #print(\"k=\"+str(n)+\"테스트 세트의 정확도: {:.2f}\".format(np.mean(y_pred==y_test)))\n",
    "    return np.mean(y_pred==pred)# 테스트셋의 정확도를 반환"
   ]
  },
  {
   "cell_type": "code",
   "execution_count": 6,
   "metadata": {},
   "outputs": [
    {
     "name": "stdout",
     "output_type": "stream",
     "text": [
      "50\n",
      "100\n",
      "n_neighbors가 1일때 정확도 0.5784615384615385가 최대\n"
     ]
    }
   ],
   "source": [
    "knn_uni=[]# 반환된 정확도를 모아둘 배열\n",
    "for i in range(1,150):\n",
    "    #최대 k = 1625\n",
    "    knn_uni.append(knn_by_n(i,x_train,y_train,x_test,y_test))\n",
    "best=float(knn_uni[0])\n",
    "for i in knn_uni:\n",
    "    if i>best:\n",
    "        best=i\n",
    "print(\"n_neighbors가 \" + str(knn_uni.index(best)+1) + \"일때 정확도 \" + str(best) + \"가 최대\")"
   ]
  },
  {
   "cell_type": "code",
   "execution_count": 15,
   "metadata": {},
   "outputs": [
    {
     "data": {
      "image/png": "[encoded data removed]",
      "text/plain": [
       "<Figure size 432x288 with 1 Axes>"
      ]
     },
     "metadata": {
      "needs_background": "light"
     },
     "output_type": "display_data"
    }
   ],
   "source": [
    "data = [(\"k\",\"정확도\")]\n",
    "for i in range(0,149):\n",
    "    data.append((i+1,knn_uni[i]))\n",
    "\n",
    "df=pd.DataFrame(data, columns=[\"k\",\"정확도\"])\n",
    "df1=df.drop(0)\n",
    "df2=df1.set_index(\"k\")\n",
    "s = df2[\"정확도\"]\n",
    "ax = s.plot()"
   ]
  },
  {
   "cell_type": "markdown",
   "metadata": {},
   "source": [
    "# KNeighborsClassifier n_neighbors 조정, weights = distance|"
   ]
  },
  {
   "cell_type": "code",
   "execution_count": 7,
   "metadata": {},
   "outputs": [],
   "source": [
    "def knn_by_n_d(n,x,y,test,pred):\n",
    "    #매개변수는 순서대로 k, 훈련데이터 특성배열, 훈련데이터 타겟배열, 테스트셋 특성배열, 테스트셋 타겟배열\n",
    "    knn=KNeighborsClassifier(n_neighbors=n, weights='distance')#k=n인 knn\n",
    "    knn.fit(x, y)\n",
    "    y_pred = knn.predict(test)\n",
    "    if n%50==0:\n",
    "        print(n)\n",
    "    #print(\"n = \", n)\n",
    "    #print(\"k=\"+str(n)+\"테스트 세트의 정확도: {:.2f}\".format(np.mean(y_pred==y_test)))\n",
    "    return np.mean(y_pred==pred)# 테스트셋의 정확도를 반환"
   ]
  },
  {
   "cell_type": "code",
   "execution_count": 8,
   "metadata": {},
   "outputs": [
    {
     "name": "stdout",
     "output_type": "stream",
     "text": [
      "50\n",
      "100\n",
      "n_neighbors가 132일때 정확도 0.6153846153846154가 최대\n"
     ]
    }
   ],
   "source": [
    "knn_dis=[]# 반환된 정확도를 모아둘 배열\n",
    "for i in range(1,150):\n",
    "    #최대 k = 1625\n",
    "    knn_dis.append(knn_by_n_d(i,x_train,y_train,x_test,y_test))\n",
    "best=float(knn_dis[0])\n",
    "for i in knn_dis:\n",
    "    if i>best:\n",
    "        best=i\n",
    "print(\"n_neighbors가 \" + str(knn_dis.index(best)+1) + \"일때 정확도 \" + str(best) + \"가 최대\")"
   ]
  },
  {
   "cell_type": "code",
   "execution_count": 16,
   "metadata": {},
   "outputs": [
    {
     "data": {
      "image/png": "[encoded data removed]",
      "text/plain": [
       "<Figure size 432x288 with 1 Axes>"
      ]
     },
     "metadata": {
      "needs_background": "light"
     },
     "output_type": "display_data"
    }
   ],
   "source": [
    "data = [(\"k\",\"정확도\")]\n",
    "for i in range(0,149):\n",
    "    data.append((i+1,knn_dis[i]))\n",
    "\n",
    "df=pd.DataFrame(data, columns=[\"k\",\"정확도\"])\n",
    "df1=df.drop(0)\n",
    "df2=df1.set_index(\"k\")\n",
    "s = df2[\"정확도\"]\n",
    "ax = s.plot()"
   ]
  },
  {
   "cell_type": "markdown",
   "metadata": {},
   "source": [
    "# KNeighborsRegressor n_neighbors 조정, weights = uniform"
   ]
  },
  {
   "cell_type": "code",
   "execution_count": 9,
   "metadata": {},
   "outputs": [],
   "source": [
    "def reg_by_n(n,x,y,test,pred):\n",
    "    #매개변수는 순서대로 k, 훈련데이터 특성배열, 훈련데이터 타겟배열, 테스트셋 특성배열, 테스트셋 타겟배열\n",
    "    reg=KNeighborsRegressor(n_neighbors=n)#k=n인 knn\n",
    "    reg.fit(x, y)\n",
    "    if n%50==0:\n",
    "        print(n)\n",
    "    #print(\"n = \", n)\n",
    "    #print(\"테스트 세트 예측:\\n{}\".format(reg.predict(test)))\n",
    "    #print(\"테스트 세트 R^2: {:.2f}\".format(reg.score(test, pred)))\n",
    "    return reg.score(test, pred)"
   ]
  },
  {
   "cell_type": "code",
   "execution_count": 10,
   "metadata": {},
   "outputs": [
    {
     "name": "stdout",
     "output_type": "stream",
     "text": [
      "100\n",
      "n_neighbors가 15일때 정확도 0.1700872199607657가 최대\n"
     ]
    }
   ],
   "source": [
    "reg_uni=[]# 반환된 정확도를 모아둘 배열\n",
    "for i in range(1,150):\n",
    "    #최대 k = 1625\n",
    "    reg_uni.append(reg_by_n(i,x_train,y_train,x_test,y_test))\n",
    "best=float(reg_uni[0])\n",
    "for i in reg_uni:\n",
    "    if i>best:\n",
    "        best=i\n",
    "print(\"n_neighbors가 \" + str(reg_uni.index(best)+1) + \"일때 정확도 \" + str(best) + \"가 최대\")"
   ]
  },
  {
   "cell_type": "code",
   "execution_count": 17,
   "metadata": {},
   "outputs": [
    {
     "data": {
      "image/png": "[encoded data removed]",
      "text/plain": [
       "<Figure size 432x288 with 1 Axes>"
      ]
     },
     "metadata": {
      "needs_background": "light"
     },
     "output_type": "display_data"
    }
   ],
   "source": [
    "data = [(\"k\",\"정확도\")]\n",
    "for i in range(0,149):\n",
    "    data.append((i+1,reg_uni[i]))\n",
    "\n",
    "df=pd.DataFrame(data, columns=[\"k\",\"정확도\"])\n",
    "df1=df.drop(0)\n",
    "df2=df1.set_index(\"k\")\n",
    "s = df2[\"정확도\"]\n",
    "ax = s.plot()"
   ]
  },
  {
   "cell_type": "markdown",
   "metadata": {},
   "source": [
    "# KNeighborsRegressor n_neighbors 조정, weights = distance"
   ]
  },
  {
   "cell_type": "code",
   "execution_count": 11,
   "metadata": {},
   "outputs": [],
   "source": [
    "def reg_by_n_d(n,x,y,test,pred):\n",
    "    #매개변수는 순서대로 k, 훈련데이터 특성배열, 훈련데이터 타겟배열, 테스트셋 특성배열, 테스트셋 타겟배열\n",
    "    reg=KNeighborsRegressor(n_neighbors=n, weights='distance')#k=n인 knn\n",
    "    reg.fit(x, y)\n",
    "    if n%50==0:\n",
    "        print(n)\n",
    "    #print(\"n = \", n)\n",
    "    #print(\"테스트 세트 예측:\\n{}\".format(reg.predict(test)))\n",
    "    #print(\"테스트 세트 R^2: {:.2f}\".format(reg.score(test, pred)))\n",
    "    return reg.score(test, pred)"
   ]
  },
  {
   "cell_type": "code",
   "execution_count": 12,
   "metadata": {},
   "outputs": [
    {
     "name": "stdout",
     "output_type": "stream",
     "text": [
      "50\n",
      "100\n",
      "n_neighbors가 37일때 정확도 0.35480010116589333가 최대\n"
     ]
    }
   ],
   "source": [
    "reg_dis=[]# 반환된 정확도를 모아둘 배열\n",
    "for i in range(1,150):\n",
    "    #최대 k = 1625\n",
    "    reg_dis.append(reg_by_n_d(i,x_train,y_train,x_test,y_test))\n",
    "best=float(reg_dis[0])\n",
    "for i in reg_dis:\n",
    "    if i>best:\n",
    "        best=i\n",
    "print(\"n_neighbors가 \" + str(reg_dis.index(best)+1) + \"일때 정확도 \" + str(best) + \"가 최대\")"
   ]
  },
  {
   "cell_type": "code",
   "execution_count": 18,
   "metadata": {},
   "outputs": [
    {
     "data": {
      "image/png": "[encoded data removed]",
      "text/plain": [
       "<Figure size 432x288 with 1 Axes>"
      ]
     },
     "metadata": {
      "needs_background": "light"
     },
     "output_type": "display_data"
    }
   ],
   "source": [
    "data = [(\"k\",\"정확도\")]\n",
    "for i in range(0,149):\n",
    "    data.append((i+1,reg_dis[i]))\n",
    "\n",
    "df=pd.DataFrame(data, columns=[\"k\",\"정확도\"])\n",
    "df1=df.drop(0)\n",
    "df2=df1.set_index(\"k\")\n",
    "s = df2[\"정확도\"]\n",
    "ax = s.plot()"
   ]
  },
  {
   "cell_type": "markdown",
   "metadata": {},
   "source": [
    "# 방법별 최대 정확도"
   ]
  },
  {
   "cell_type": "code",
   "execution_count": 21,
   "metadata": {},
   "outputs": [
    {
     "name": "stdout",
     "output_type": "stream",
     "text": [
      "k=1 테스트 세트의 정확도: 0.58\n",
      "k=132 테스트 세트의 정확도: 0.62\n",
      "k=15 테스트 세트 R^2: 0.17\n",
      "k=37 테스트 세트 R^2: 0.35\n"
     ]
    }
   ],
   "source": [
    "knn_u=KNeighborsClassifier(n_neighbors=1)\n",
    "knn_u.fit(x_train,y_train)\n",
    "knn_u_pred = knn_u.predict(x_test)\n",
    "print(\"k=1 테스트 세트의 정확도: {:.2f}\".format(np.mean(knn_u_pred==y_test)))\n",
    "\n",
    "knn_d=KNeighborsClassifier(n_neighbors=132, weights='distance')\n",
    "knn_d.fit(x_train,y_train)\n",
    "knn_d_pred = knn_d.predict(x_test)\n",
    "print(\"k=132 테스트 세트의 정확도: {:.2f}\".format(np.mean(knn_d_pred==y_test)))\n",
    "\n",
    "reg_u=KNeighborsRegressor(n_neighbors=15)\n",
    "reg_u.fit(x_train,y_train)\n",
    "#print(\"테스트 세트 예측:\\n{}\".format(reg.predict(test)))\n",
    "print(\"k=15 테스트 세트 R^2: {:.2f}\".format(reg_u.score(x_test, y_test)))\n",
    "    \n",
    "reg_d=KNeighborsRegressor(n_neighbors=37, weights='distance')\n",
    "reg_d.fit(x_train,y_train)\n",
    "#print(\"테스트 세트 예측:\\n{}\".format(reg.predict(test)))\n",
    "print(\"k=37 테스트 세트 R^2: {:.2f}\".format(reg_d.score(x_test, y_test)))"
   ]
  },
  {
   "cell_type": "code",
   "execution_count": 22,
   "metadata": {},
   "outputs": [],
   "source": [
    "# 이진 분류\n",
    "x_train, x_test, y_train, y_test = train_test_split(total_data, target_7, random_state=0)"
   ]
  },
  {
   "cell_type": "code",
   "execution_count": 24,
   "metadata": {},
   "outputs": [
    {
     "name": "stdout",
     "output_type": "stream",
     "text": [
      "k=11 테스트 세트의 정확도: 0.96\n",
      "k=5 테스트 세트의 정확도: 0.96\n",
      "k=22 테스트 세트 R^2: 0.11\n"
     ]
    }
   ],
   "source": [
    "knn_u=KNeighborsClassifier(n_neighbors=11)\n",
    "knn_u.fit(x_train,y_train)\n",
    "knn_u_pred = knn_u.predict(x_test)\n",
    "print(\"k=11 테스트 세트의 정확도: {:.2f}\".format(np.mean(knn_u_pred==y_test)))\n",
    "\n",
    "knn_d=KNeighborsClassifier(n_neighbors=5, weights='distance')\n",
    "knn_d.fit(x_train,y_train)\n",
    "knn_d_pred = knn_d.predict(x_test)\n",
    "print(\"k=5 테스트 세트의 정확도: {:.2f}\".format(np.mean(knn_d_pred==y_test)))\n",
    "\n",
    "# 여긴 돌려봐야해\n",
    "\n",
    "reg_d=KNeighborsRegressor(n_neighbors=22, weights='distance')\n",
    "reg_d.fit(x_train,y_train)\n",
    "#print(\"테스트 세트 예측:\\n{}\".format(reg.predict(test)))\n",
    "print(\"k=22 테스트 세트 R^2: {:.2f}\".format(reg_d.score(x_test, y_test)))"
   ]
  },
  {
   "cell_type": "code",
   "execution_count": null,
   "metadata": {},
   "outputs": [],
   "source": []
  }
 ],
 "metadata": {
  "kernelspec": {
   "display_name": "Python 3",
   "language": "python",
   "name": "python3"
  },
  "language_info": {
   "codemirror_mode": {
    "name": "ipython",
    "version": 3
   },
   "file_extension": ".py",
   "mimetype": "text/x-python",
   "name": "python",
   "nbconvert_exporter": "python",
   "pygments_lexer": "ipython3",
   "version": "3.7.7"
  }
 },
 "nbformat": 4,
 "nbformat_minor": 4
}

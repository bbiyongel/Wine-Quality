{
 "cells": [
  {
   "cell_type": "code",
   "execution_count": 19,
   "metadata": {},
   "outputs": [],
   "source": [
    "import numpy as np\n",
    "import pandas as pd\n",
    "import matplotlib.pyplot as plt\n",
    "from sklearn.model_selection import train_test_split\n",
    "from sklearn.preprocessing import StandardScaler"
   ]
  },
  {
   "cell_type": "code",
   "execution_count": 20,
   "metadata": {},
   "outputs": [],
   "source": [
    "# csv를 가져와 넘파이배열 형태의 데이터셋으로 가공하는 과정\n",
    "import csv\n",
    "f1=open('winequality-red.csv','r',encoding='UTF-8')\n",
    "f2=open('winequality-white.csv','r',encoding='UTF-8')\n",
    "red_wine_data = csv.reader(f1)\n",
    "white_wine_data = csv.reader(f2)\n",
    "raw1=[]# 가공 전 레드와인 데이터를 넣어둘 리스트\n",
    "raw2=[]# 가공 전 화이트와인 데이터를 넣어둘 리스트\n",
    "\n",
    "total_data=[]# 가공된 모든 와인 데이터를 넣어둘 리스트\n",
    "\n",
    "features=[]# 특성 이름을 모아둘 리스트\n",
    "feat=[]# csv에 \"특성이름\" 의 형태로 들어가 있어서 \"\"을 제거하기 전 특성 이름 리스트\n",
    "target=[]# 정답인 등급을 모아둘 리스트\n",
    "\n",
    "for r in red_wine_data:\n",
    "    r=r[0].split(';')\n",
    "    raw1.append(r)\n",
    "\n",
    "for w in white_wine_data:\n",
    "    w=w[0].split(';')\n",
    "    raw2.append(w)\n",
    "\n",
    "raw1[0].pop(0)# 와인의 색 정보로 위에서 넣어둔 1을 빼냄\n",
    "feat=raw1[0]\n",
    "for f in feat:\n",
    "    s=f[1:len(f)-1]# \"\"을 제거하는 부분\n",
    "    features.append(s)\n",
    "\n",
    "# csv의 첫번째 행이 특성 정보이므로 그것을 없애는 작업\n",
    "raw1.pop(0)\n",
    "raw2.pop(0)\n",
    "\n",
    "for i1 in raw1:\n",
    "    total_data.append(i1)\n",
    "\n",
    "for i2 in raw2:\n",
    "    total_data.append(i2)\n",
    "\n",
    "for t in total_data:\n",
    "    target.append(t.pop())\n",
    "\n",
    "\n",
    "total_data=np.array(total_data)\n",
    "total_data = total_data.astype(np.float64)# 실행했을때 밑의 경고문이 떠서 추가\n",
    "X=total_data\n",
    "\n",
    "\"\"\"\n",
    "FutureWarning:\n",
    "Beginning in version 0.22,\n",
    "arrays of bytes/strings will be converted to decimal numbers if dtype='numeric'.\n",
    "It is recommended that you convert the array to a float dtype before using it in scikit-learn\n",
    "\"\"\"\n",
    "\n",
    "import copy\n",
    "\n",
    "target_6=copy.deepcopy(target) # 1~5 / 6~10\n",
    "      \n",
    "for i in range(0,len(target_6)):\n",
    "    if int(target_6[i])<5:\n",
    "        target_6[i]='0'\n",
    "    else:\n",
    "        target_6[i]='1'\n",
    "\n",
    "target_6=np.array(target_6)\n",
    "target_6 = target_6.astype(np.float64)\n",
    "y_6=target_6\n",
    "\n",
    "f1.close()\n",
    "f2.close()\n",
    "\n",
    "#위에서 copy가 일어나므로 밑에서 처리\n",
    "target=np.array(target)\n",
    "target = target.astype(np.float64)\n",
    "y=target"
   ]
  },
  {
   "cell_type": "code",
   "execution_count": 21,
   "metadata": {},
   "outputs": [
    {
     "name": "stdout",
     "output_type": "stream",
     "text": [
      "['volatile acidity', 'citric acid', 'residual sugar', 'chlorides', 'free sulfur dioxide', 'total sulfur dioxide', 'density', 'pH', 'sulphates', 'alcohol', 'quality']\n",
      "[[ 7.4   0.7   0.   ...  3.51  0.56  9.4 ]\n",
      " [ 7.8   0.88  0.   ...  3.2   0.68  9.8 ]\n",
      " [ 7.8   0.76  0.04 ...  3.26  0.65  9.8 ]\n",
      " ...\n",
      " [ 6.5   0.24  0.19 ...  2.99  0.46  9.4 ]\n",
      " [ 5.5   0.29  0.3  ...  3.34  0.38 12.8 ]\n",
      " [ 6.    0.21  0.38 ...  3.26  0.32 11.8 ]]\n",
      "[5. 5. 5. ... 6. 7. 6.]\n"
     ]
    }
   ],
   "source": [
    "print(features)\n",
    "print(total_data)\n",
    "print(target)"
   ]
  },
  {
   "cell_type": "code",
   "execution_count": 22,
   "metadata": {},
   "outputs": [
    {
     "data": {
      "text/plain": [
       "\"\\ny_train_bin=[]\\ny_val_bin=[]\\ny_test_bin=[]\\n\\nfor i in y_train:\\n    if int(i)<5:\\n        y_train_bin.append('0')\\n    else:\\n        y_train_bin.append('1')\\n\\nfor j in y_val:\\n    if int(j)<5:\\n         y_val_bin.append('0')\\n    else:\\n        y_val_bin.append('1')\\n        \\nfor k in y_test:\\n    if int(k)<5:\\n         y_test_bin.append('0')\\n    else:\\n        y_test_bin.append('1')\\n\""
      ]
     },
     "execution_count": 22,
     "metadata": {},
     "output_type": "execute_result"
    }
   ],
   "source": [
    "# train 60 : validation 20 : test 20\n",
    "X_train, X_test, y_train, y_test = train_test_split(\n",
    "    X, y, test_size=0.2, random_state=1)\n",
    "X_train, X_val, y_train, y_val = train_test_split(\n",
    "    X_train, y_train, test_size=0.25, random_state=1)\n",
    "\n",
    "\"\"\"\n",
    "y_train_bin=[]\n",
    "y_val_bin=[]\n",
    "y_test_bin=[]\n",
    "\n",
    "for i in y_train:\n",
    "    if int(i)<5:\n",
    "        y_train_bin.append('0')\n",
    "    else:\n",
    "        y_train_bin.append('1')\n",
    "\n",
    "for j in y_val:\n",
    "    if int(j)<5:\n",
    "         y_val_bin.append('0')\n",
    "    else:\n",
    "        y_val_bin.append('1')\n",
    "        \n",
    "for k in y_test:\n",
    "    if int(k)<5:\n",
    "         y_test_bin.append('0')\n",
    "    else:\n",
    "        y_test_bin.append('1')\n",
    "\"\"\""
   ]
  },
  {
   "cell_type": "code",
   "execution_count": 23,
   "metadata": {},
   "outputs": [],
   "source": [
    "scaler_train = StandardScaler()\n",
    "scaler_train.fit(X_train)\n",
    "X_train_std = scaler_train.transform(X_train)\n",
    "\n",
    "scaler_val = StandardScaler()\n",
    "scaler_val.fit(X_val)\n",
    "X_val_std = scaler_val.transform(X_val)\n",
    "\n",
    "scaler_test = StandardScaler()\n",
    "scaler_test.fit(X_test)\n",
    "X_test_std = scaler_test.transform(X_test)"
   ]
  },
  {
   "cell_type": "code",
   "execution_count": 24,
   "metadata": {},
   "outputs": [
    {
     "data": {
      "text/plain": [
       "'\\ncsvfile_6=open(\"y_test.csv\",\"w\",newline=\"\")\\ncsvwriter_6=csv.writer(csvfile_6)\\nfor row in y_test:\\n    csvwriter_6.writerow([row])\\n    \\ncsvfile_6.close()\\n\\ncsvfile_7=open(\"y_train_bin.csv\",\"w\",newline=\"\")\\ncsvwriter_7=csv.writer(csvfile_7)\\nfor row in y_train_bin:\\n    csvwriter_7.writerow([row])\\n    \\ncsvfile_7.close()\\n\\ncsvfile_8=open(\"y_val_bin.csv\",\"w\",newline=\"\")\\ncsvwriter_8=csv.writer(csvfile_8)\\nfor row in y_val_bin:\\n    csvwriter_8.writerow([row])\\n    \\ncsvfile_8.close()\\n\\ncsvfile_9=open(\"y_test_bin.csv\",\"w\",newline=\"\")\\ncsvwriter_9=csv.writer(csvfile_9)\\nfor row in y_test_bin:\\n    csvwriter_9.writerow([row])\\n    \\ncsvfile_9.close()\\n'"
      ]
     },
     "execution_count": 24,
     "metadata": {},
     "output_type": "execute_result"
    }
   ],
   "source": [
    "csvfile_1=open(\"X_train_std.csv\",\"w\",newline=\"\")\n",
    "csvwriter_1=csv.writer(csvfile_1)\n",
    "for row in X_train_std:\n",
    "    csvwriter_1.writerow(row)\n",
    "    \n",
    "csvfile_1.close()\n",
    "\n",
    "csvfile_2=open(\"X_val_std.csv\",\"w\",newline=\"\")\n",
    "csvwriter_2=csv.writer(csvfile_2)\n",
    "for row in X_val_std:\n",
    "    csvwriter_2.writerow(row)\n",
    "    \n",
    "csvfile_2.close()\n",
    "\n",
    "csvfile_3=open(\"X_test_std.csv\",\"w\",newline=\"\")\n",
    "csvwriter_3=csv.writer(csvfile_3)\n",
    "for row in X_test_std:\n",
    "    csvwriter_3.writerow(row)\n",
    "    \n",
    "csvfile_3.close()\n",
    "\n",
    "csvfile_4=open(\"y_train.csv\",\"w\",newline=\"\")\n",
    "csvwriter_4=csv.writer(csvfile_4)\n",
    "for row in y_train:\n",
    "    csvwriter_4.writerow([row])\n",
    "    \n",
    "csvfile_4.close()\n",
    "\n",
    "csvfile_5=open(\"y_val.csv\",\"w\",newline=\"\")\n",
    "csvwriter_5=csv.writer(csvfile_5)\n",
    "for row in y_val:\n",
    "    csvwriter_5.writerow([row])\n",
    "    \n",
    "csvfile_5.close()\n",
    "\"\"\"\n",
    "csvfile_6=open(\"y_test.csv\",\"w\",newline=\"\")\n",
    "csvwriter_6=csv.writer(csvfile_6)\n",
    "for row in y_test:\n",
    "    csvwriter_6.writerow([row])\n",
    "    \n",
    "csvfile_6.close()\n",
    "\n",
    "csvfile_7=open(\"y_train_bin.csv\",\"w\",newline=\"\")\n",
    "csvwriter_7=csv.writer(csvfile_7)\n",
    "for row in y_train_bin:\n",
    "    csvwriter_7.writerow([row])\n",
    "    \n",
    "csvfile_7.close()\n",
    "\n",
    "csvfile_8=open(\"y_val_bin.csv\",\"w\",newline=\"\")\n",
    "csvwriter_8=csv.writer(csvfile_8)\n",
    "for row in y_val_bin:\n",
    "    csvwriter_8.writerow([row])\n",
    "    \n",
    "csvfile_8.close()\n",
    "\n",
    "csvfile_9=open(\"y_test_bin.csv\",\"w\",newline=\"\")\n",
    "csvwriter_9=csv.writer(csvfile_9)\n",
    "for row in y_test_bin:\n",
    "    csvwriter_9.writerow([row])\n",
    "    \n",
    "csvfile_9.close()\n",
    "\"\"\""
   ]
  },
  {
   "cell_type": "code",
   "execution_count": null,
   "metadata": {},
   "outputs": [],
   "source": []
  }
 ],
 "metadata": {
  "kernelspec": {
   "display_name": "Python 3",
   "language": "python",
   "name": "python3"
  },
  "language_info": {
   "codemirror_mode": {
    "name": "ipython",
    "version": 3
   },
   "file_extension": ".py",
   "mimetype": "text/x-python",
   "name": "python",
   "nbconvert_exporter": "python",
   "pygments_lexer": "ipython3",
   "version": "3.7.7"
  }
 },
 "nbformat": 4,
 "nbformat_minor": 4
}

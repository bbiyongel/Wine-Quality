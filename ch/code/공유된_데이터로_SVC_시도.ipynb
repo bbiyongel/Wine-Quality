{
  "nbformat": 4,
  "nbformat_minor": 0,
  "metadata": {
    "kernelspec": {
      "display_name": "Python 3",
      "language": "python",
      "name": "python3"
    },
    "language_info": {
      "codemirror_mode": {
        "name": "ipython",
        "version": 3
      },
      "file_extension": ".py",
      "mimetype": "text/x-python",
      "name": "python",
      "nbconvert_exporter": "python",
      "pygments_lexer": "ipython3",
      "version": "3.7.7"
    },
    "colab": {
      "name": "공유된 데이터로 SVC 시도.ipynb",
      "provenance": []
    }
  },
  "cells": [
    {
      "cell_type": "code",
      "metadata": {
        "id": "Iy_xCvrgJGGP",
        "colab_type": "code",
        "colab": {}
      },
      "source": [
        "import numpy as np\n",
        "import pandas as pd\n",
        "import matplotlib.pyplot as plt\n",
        "from sklearn.model_selection import train_test_split\n",
        "from sklearn.preprocessing import StandardScaler"
      ],
      "execution_count": 0,
      "outputs": []
    },
    {
      "cell_type": "code",
      "metadata": {
        "id": "oCU57n7wJGGX",
        "colab_type": "code",
        "colab": {
          "base_uri": "https://localhost:8080/",
          "height": 34
        },
        "outputId": "6c253325-c7b1-4671-f9ab-df22d92b0bfa"
      },
      "source": [
        "from google.colab import drive\n",
        "drive.mount('/content/gdrive')\n",
        "\n",
        "# csv를 가져와 넘파이배열 형태의 데이터셋으로 가공하는 과정\n",
        "import csv\n",
        "f1=open('/content/gdrive/My Drive/SVM_data/winequality-red.csv','r',encoding='UTF-8')\n",
        "f2=open('/content/gdrive/My Drive/SVM_data/winequality-white.csv','r',encoding='UTF-8')\n",
        "red_wine_data = csv.reader(f1)\n",
        "white_wine_data = csv.reader(f2)\n",
        "raw1=[]# 가공 전 레드와인 데이터를 넣어둘 리스트\n",
        "raw2=[]# 가공 전 화이트와인 데이터를 넣어둘 리스트\n",
        "\n",
        "total_data=[]# 가공된 모든 와인 데이터를 넣어둘 리스트\n",
        "\n",
        "features=[]# 특성 이름을 모아둘 리스트\n",
        "feat=[]# csv에 \"특성이름\" 의 형태로 들어가 있어서 \"\"을 제거하기 전 특성 이름 리스트\n",
        "target=[]# 정답인 등급을 모아둘 리스트\n",
        "\n",
        "for r in red_wine_data:\n",
        "    r=r[0].split(';')\n",
        "    raw1.append(r)\n",
        "\n",
        "for w in white_wine_data:\n",
        "    w=w[0].split(';')\n",
        "    raw2.append(w)\n",
        "\n",
        "raw1[0].pop(0)# 와인의 색 정보로 위에서 넣어둔 1을 빼냄\n",
        "feat=raw1[0]\n",
        "for f in feat:\n",
        "    s=f[1:len(f)-1]# \"\"을 제거하는 부분\n",
        "    features.append(s)\n",
        "\n",
        "# csv의 첫번째 행이 특성 정보이므로 그것을 없애는 작업\n",
        "raw1.pop(0)\n",
        "raw2.pop(0)\n",
        "\n",
        "for i1 in raw1:\n",
        "    total_data.append(i1)\n",
        "\n",
        "for i2 in raw2:\n",
        "    total_data.append(i2)\n",
        "\n",
        "for t in total_data:\n",
        "    target.append(t.pop())\n",
        "\n",
        "\n",
        "total_data=np.array(total_data)\n",
        "total_data = total_data.astype(np.float64)# 실행했을때 밑의 경고문이 떠서 추가\n",
        "X=total_data\n",
        "\n",
        "\"\"\"\n",
        "FutureWarning:\n",
        "Beginning in version 0.22,\n",
        "arrays of bytes/strings will be converted to decimal numbers if dtype='numeric'.\n",
        "It is recommended that you convert the array to a float dtype before using it in scikit-learn\n",
        "\"\"\"\n",
        "\n",
        "import copy\n",
        "\n",
        "target_6=copy.deepcopy(target) # 1~5 / 6~10\n",
        "      \n",
        "for i in range(0,len(target_6)):\n",
        "    if int(target_6[i])<5:\n",
        "        target_6[i]='0'\n",
        "    else:\n",
        "        target_6[i]='1'\n",
        "\n",
        "target_6=np.array(target_6)\n",
        "target_6 = target_6.astype(np.float64)\n",
        "y_6=target_6\n",
        "\n",
        "f1.close()\n",
        "f2.close()\n",
        "\n",
        "#위에서 copy가 일어나므로 밑에서 처리\n",
        "target=np.array(target)\n",
        "target = target.astype(np.float64)\n",
        "y=target"
      ],
      "execution_count": 37,
      "outputs": [
        {
          "output_type": "stream",
          "text": [
            "Drive already mounted at /content/gdrive; to attempt to forcibly remount, call drive.mount(\"/content/gdrive\", force_remount=True).\n"
          ],
          "name": "stdout"
        }
      ]
    },
    {
      "cell_type": "code",
      "metadata": {
        "id": "p9YaKn4TJGGd",
        "colab_type": "code",
        "colab": {
          "base_uri": "https://localhost:8080/",
          "height": 175
        },
        "outputId": "c4634437-8763-4555-90f1-a230a0dbb796"
      },
      "source": [
        "print(features)\n",
        "print(total_data)\n",
        "print(target)"
      ],
      "execution_count": 38,
      "outputs": [
        {
          "output_type": "stream",
          "text": [
            "['volatile acidity', 'citric acid', 'residual sugar', 'chlorides', 'free sulfur dioxide', 'total sulfur dioxide', 'density', 'pH', 'sulphates', 'alcohol', 'quality']\n",
            "[[ 7.4   0.7   0.   ...  3.51  0.56  9.4 ]\n",
            " [ 7.8   0.88  0.   ...  3.2   0.68  9.8 ]\n",
            " [ 7.8   0.76  0.04 ...  3.26  0.65  9.8 ]\n",
            " ...\n",
            " [ 6.5   0.24  0.19 ...  2.99  0.46  9.4 ]\n",
            " [ 5.5   0.29  0.3  ...  3.34  0.38 12.8 ]\n",
            " [ 6.    0.21  0.38 ...  3.26  0.32 11.8 ]]\n",
            "[5. 5. 5. ... 6. 7. 6.]\n"
          ],
          "name": "stdout"
        }
      ]
    },
    {
      "cell_type": "code",
      "metadata": {
        "id": "yBN9v2ZxMfAK",
        "colab_type": "code",
        "colab": {}
      },
      "source": [
        "print(X[0:50])\n",
        "print(y[0:50])"
      ],
      "execution_count": 0,
      "outputs": []
    },
    {
      "cell_type": "code",
      "metadata": {
        "id": "GaMqAYgrJGGj",
        "colab_type": "code",
        "colab": {}
      },
      "source": [
        "# train 60 : validation 20 : test 20\n",
        "X_train, X_test, y_train, y_test = train_test_split(\n",
        "    X, y, test_size=0.2, random_state=1)\n",
        "X_train, X_val, y_train, y_val = train_test_split(\n",
        "    X_train, y_train, test_size=0.25, random_state=1)"
      ],
      "execution_count": 0,
      "outputs": []
    },
    {
      "cell_type": "code",
      "metadata": {
        "id": "lbNqC_HvJGGo",
        "colab_type": "code",
        "colab": {}
      },
      "source": [
        "scaler_train = StandardScaler()\n",
        "scaler_train.fit(X_train)\n",
        "X_train_std = scaler_train.transform(X_train)\n",
        "\n",
        "scaler_val = StandardScaler()\n",
        "scaler_val.fit(X_val)\n",
        "X_val_std = scaler_val.transform(X_val)\n",
        "\n",
        "scaler_test = StandardScaler()\n",
        "scaler_test.fit(X_test)\n",
        "X_test_std = scaler_test.transform(X_test)"
      ],
      "execution_count": 0,
      "outputs": []
    },
    {
      "cell_type": "code",
      "metadata": {
        "id": "acJmTVLUJGGu",
        "colab_type": "code",
        "colab": {}
      },
      "source": [
        "csvfile_1=open(\"X_train_std.csv\",\"w\",newline=\"\")\n",
        "csvwriter_1=csv.writer(csvfile_1)\n",
        "for row in X_train_std:\n",
        "    csvwriter_1.writerow(row)\n",
        "    \n",
        "csvfile_1.close()\n",
        "\n",
        "csvfile_2=open(\"X_val_std.csv\",\"w\",newline=\"\")\n",
        "csvwriter_2=csv.writer(csvfile_2)\n",
        "for row in X_val_std:\n",
        "    csvwriter_2.writerow(row)\n",
        "    \n",
        "csvfile_2.close()\n",
        "\n",
        "csvfile_3=open(\"X_test_std.csv\",\"w\",newline=\"\")\n",
        "csvwriter_3=csv.writer(csvfile_3)\n",
        "for row in X_test_std:\n",
        "    csvwriter_3.writerow(row)\n",
        "    \n",
        "csvfile_3.close()\n",
        "\n",
        "csvfile_4=open(\"y_train.csv\",\"w\",newline=\"\")\n",
        "csvwriter_4=csv.writer(csvfile_4)\n",
        "for row in y_train:\n",
        "    csvwriter_4.writerow([row])\n",
        "    \n",
        "csvfile_4.close()\n",
        "\n",
        "csvfile_5=open(\"y_val.csv\",\"w\",newline=\"\")\n",
        "csvwriter_5=csv.writer(csvfile_5)\n",
        "for row in y_val:\n",
        "    csvwriter_5.writerow([row])\n",
        "    \n",
        "csvfile_5.close()\n",
        "\n",
        "csvfile_6=open(\"y_test.csv\",\"w\",newline=\"\")\n",
        "csvwriter_6=csv.writer(csvfile_6)\n",
        "for row in y_test:\n",
        "    csvwriter_6.writerow([row])\n",
        "    \n",
        "csvfile_6.close()"
      ],
      "execution_count": 0,
      "outputs": []
    },
    {
      "cell_type": "markdown",
      "metadata": {
        "id": "0uUbDyhLLLsQ",
        "colab_type": "text"
      },
      "source": [
        "# SVM - SVC 시도"
      ]
    },
    {
      "cell_type": "code",
      "metadata": {
        "id": "dUTxdDw2JGGx",
        "colab_type": "code",
        "colab": {
          "base_uri": "https://localhost:8080/",
          "height": 457
        },
        "outputId": "209e446f-ffb7-4238-a594-dc55cc99a585"
      },
      "source": [
        "from sklearn.svm import SVC  \n",
        "bestScore = 0\n",
        "for i in range(1,10):\n",
        "  for j in range(1,100):\n",
        "    svclassifier = SVC(degree=i, C= j*0.01)\n",
        "    svclassifier.fit(X_train_std, y_train)\n",
        "    y_pred = svclassifier.predict(X_val_std)\n",
        "    score = accuracy_score(y_val,y_pred)\n",
        "    if(bestScore < score):\n",
        "      bestScore = score\n",
        "      print(i,j, bestScore)"
      ],
      "execution_count": 130,
      "outputs": [
        {
          "output_type": "stream",
          "text": [
            "1 1 0.4230769230769231\n",
            "1 2 0.4776923076923077\n",
            "1 3 0.4930769230769231\n",
            "1 4 0.5107692307692308\n",
            "1 5 0.5161538461538462\n",
            "1 6 0.5215384615384615\n",
            "1 7 0.5276923076923077\n",
            "1 10 0.5292307692307693\n",
            "1 11 0.5323076923076923\n",
            "1 12 0.5346153846153846\n",
            "1 13 0.536923076923077\n",
            "1 15 0.5376923076923077\n",
            "1 16 0.5392307692307692\n",
            "1 17 0.54\n",
            "1 18 0.5438461538461539\n",
            "1 20 0.546923076923077\n",
            "1 22 0.5476923076923077\n",
            "1 23 0.5484615384615384\n",
            "1 24 0.55\n",
            "1 27 0.5515384615384615\n",
            "1 29 0.5546153846153846\n",
            "1 30 0.5553846153846154\n",
            "1 43 0.5561538461538461\n",
            "1 66 0.556923076923077\n",
            "1 67 0.5576923076923077\n"
          ],
          "name": "stdout"
        }
      ]
    },
    {
      "cell_type": "code",
      "metadata": {
        "id": "qrZQLYPPKej4",
        "colab_type": "code",
        "colab": {}
      },
      "source": [
        "y_pred = svclassifier.predict(X_val_std)"
      ],
      "execution_count": 0,
      "outputs": []
    },
    {
      "cell_type": "markdown",
      "metadata": {
        "id": "2wbumZ0KU2hm",
        "colab_type": "text"
      },
      "source": [
        "# val set 검사`"
      ]
    },
    {
      "cell_type": "code",
      "metadata": {
        "id": "lL3A_8i2LDdX",
        "colab_type": "code",
        "colab": {
          "base_uri": "https://localhost:8080/",
          "height": 52
        },
        "outputId": "cd0ddf70-a2a8-483c-cd0f-716d6ab6b650"
      },
      "source": [
        "from sklearn.metrics import classification_report, confusion_matrix,accuracy_score\n",
        "print(\"accuracy_score :\")\n",
        "print(accuracy_score(y_val,y_pred))"
      ],
      "execution_count": 44,
      "outputs": [
        {
          "output_type": "stream",
          "text": [
            "accuracy_score :\n",
            "0.5515384615384615\n"
          ],
          "name": "stdout"
        }
      ]
    },
    {
      "cell_type": "markdown",
      "metadata": {
        "id": "alQEcPN7VBw0",
        "colab_type": "text"
      },
      "source": [
        "# test set 검사"
      ]
    },
    {
      "cell_type": "code",
      "metadata": {
        "id": "MH5TL-3cVCll",
        "colab_type": "code",
        "colab": {
          "base_uri": "https://localhost:8080/",
          "height": 52
        },
        "outputId": "7b6e3a74-e351-4f88-a1ed-61e628fe6a93"
      },
      "source": [
        "y_pred = svclassifier.predict(X_test_std)\n",
        "print(\"accuracy_score :\")\n",
        "print(accuracy_score(y_test,y_pred))"
      ],
      "execution_count": 75,
      "outputs": [
        {
          "output_type": "stream",
          "text": [
            "accuracy_score :\n",
            "0.5723076923076923\n"
          ],
          "name": "stdout"
        }
      ]
    },
    {
      "cell_type": "markdown",
      "metadata": {
        "id": "9tEONf5UU7wE",
        "colab_type": "text"
      },
      "source": [
        ""
      ]
    },
    {
      "cell_type": "markdown",
      "metadata": {
        "id": "u4XMs-9bLnKa",
        "colab_type": "text"
      },
      "source": [
        "# SVM - SVC Linear 시도"
      ]
    },
    {
      "cell_type": "code",
      "metadata": {
        "id": "oSvlwjVDLsr5",
        "colab_type": "code",
        "colab": {
          "base_uri": "https://localhost:8080/",
          "height": 228
        },
        "outputId": "5dadb6de-a1d5-472a-c3aa-526fb6810bdc"
      },
      "source": [
        "from sklearn.svm import LinearSVC\n",
        "from sklearn.pipeline import make_pipeline\n",
        "from sklearn.preprocessing import StandardScaler\n",
        "from sklearn.datasets import make_classification\n",
        "clf = make_pipeline(StandardScaler(), LinearSVC(random_state=1, tol=1e-10))\n",
        "clf.fit(X_train_std, y_train)"
      ],
      "execution_count": 126,
      "outputs": [
        {
          "output_type": "stream",
          "text": [
            "/usr/local/lib/python3.6/dist-packages/sklearn/svm/_base.py:947: ConvergenceWarning: Liblinear failed to converge, increase the number of iterations.\n",
            "  \"the number of iterations.\", ConvergenceWarning)\n"
          ],
          "name": "stderr"
        },
        {
          "output_type": "execute_result",
          "data": {
            "text/plain": [
              "Pipeline(memory=None,\n",
              "         steps=[('standardscaler',\n",
              "                 StandardScaler(copy=True, with_mean=True, with_std=True)),\n",
              "                ('linearsvc',\n",
              "                 LinearSVC(C=1.0, class_weight=None, dual=True,\n",
              "                           fit_intercept=True, intercept_scaling=1,\n",
              "                           loss='squared_hinge', max_iter=1000,\n",
              "                           multi_class='ovr', penalty='l2', random_state=1,\n",
              "                           tol=1e-10, verbose=0))],\n",
              "         verbose=False)"
            ]
          },
          "metadata": {
            "tags": []
          },
          "execution_count": 126
        }
      ]
    },
    {
      "cell_type": "code",
      "metadata": {
        "id": "1m61eJq-Lvp3",
        "colab_type": "code",
        "colab": {
          "base_uri": "https://localhost:8080/",
          "height": 386
        },
        "outputId": "bf4be52e-774e-4e07-89ac-7994faabe38d"
      },
      "source": [
        "print(clf.named_steps['linearsvc'].coef_)"
      ],
      "execution_count": 127,
      "outputs": [
        {
          "output_type": "stream",
          "text": [
            "[[ 1.17762613e-01  2.87164974e-02  3.89103891e-03  7.40122484e-02\n",
            "   2.41429850e-02  6.05578512e-02 -3.32677363e-02 -1.66271867e-01\n",
            "   7.37215269e-02 -2.32919276e-02 -7.73848349e-02]\n",
            " [ 4.85880959e-02  8.87605241e-02  1.13524620e-02  5.90907139e-02\n",
            "   4.62264944e-03 -6.58778927e-02  3.24141008e-02 -1.42421622e-01\n",
            "   3.23250791e-02 -2.28679529e-02 -9.95519611e-02]\n",
            " [-1.00586706e-01  2.11809566e-01  2.34721902e-02 -2.24888805e-01\n",
            "  -2.04957917e-02 -8.74975868e-02  1.50540446e-01  1.92999868e-01\n",
            "  -7.71989493e-02 -9.31302699e-02 -3.17269898e-01]\n",
            " [-6.01566071e-02 -2.02510391e-01 -3.11641076e-02 -4.21593433e-02\n",
            "   2.98208905e-02  3.98746793e-02 -6.44330162e-02  1.89844361e-01\n",
            "  -2.89391199e-02 -1.60120070e-04  1.70164830e-01]\n",
            " [ 1.10406967e-01 -1.50440043e-01 -2.47160774e-02  1.79881642e-01\n",
            "  -2.44959610e-02  4.96926015e-02 -9.94753759e-02 -2.11109156e-01\n",
            "   7.05760092e-02  1.12451109e-01  1.77334226e-01]\n",
            " [ 2.05201999e-02 -7.59903337e-03  1.68887854e-02  7.73826069e-02\n",
            "  -4.85370786e-03  3.36599296e-02 -1.88784453e-02 -7.51148949e-02\n",
            "   1.96708553e-02  9.77088996e-03  5.80151965e-02]\n",
            " [ 1.01081777e-01  9.22100329e-03  3.07626074e-03  9.38947234e-02\n",
            "  -1.33473004e-01 -5.94499152e-03 -4.53667610e-03 -1.39284082e-01\n",
            "   7.12645125e-02  2.09305696e-02 -5.47602831e-02]]\n"
          ],
          "name": "stdout"
        }
      ]
    },
    {
      "cell_type": "code",
      "metadata": {
        "id": "QVxJn_3bREKY",
        "colab_type": "code",
        "colab": {
          "base_uri": "https://localhost:8080/",
          "height": 52
        },
        "outputId": "49d7ced7-7bdb-4501-bf0e-26b27785e782"
      },
      "source": [
        "print(clf.named_steps['linearsvc'].intercept_)"
      ],
      "execution_count": 67,
      "outputs": [
        {
          "output_type": "stream",
          "text": [
            "[-1.06686236 -0.9535458  -0.35447904 -0.1279092  -0.70250111 -0.96769435\n",
            " -1.14968969]\n"
          ],
          "name": "stdout"
        }
      ]
    },
    {
      "cell_type": "markdown",
      "metadata": {
        "id": "ufPUpAmuUTcH",
        "colab_type": "text"
      },
      "source": [
        "# val set 검사"
      ]
    },
    {
      "cell_type": "code",
      "metadata": {
        "id": "rgZGJE0LcPJa",
        "colab_type": "code",
        "colab": {
          "base_uri": "https://localhost:8080/",
          "height": 34
        },
        "outputId": "c3caefff-423e-428c-a916-f20ffe207335"
      },
      "source": [
        "y_pred = clf.predict(X_val_std)\n",
        "print(y_pred)"
      ],
      "execution_count": 118,
      "outputs": [
        {
          "output_type": "stream",
          "text": [
            "[5. 5. 6. ... 6. 6. 6.]\n"
          ],
          "name": "stdout"
        }
      ]
    },
    {
      "cell_type": "code",
      "metadata": {
        "id": "TomyEz49RPBE",
        "colab_type": "code",
        "colab": {
          "base_uri": "https://localhost:8080/",
          "height": 52
        },
        "outputId": "0213bfb6-2cb2-4665-94ac-c3d8e8579937"
      },
      "source": [
        "#print(clf.score(X_val_std,y_val))\n",
        "y_pred = clf.predict(X_val_std)\n",
        "print(\"accuracy_score :\")\n",
        "print(accuracy_score(y_val,y_pred))"
      ],
      "execution_count": 128,
      "outputs": [
        {
          "output_type": "stream",
          "text": [
            "accuracy_score :\n",
            "0.5276923076923077\n"
          ],
          "name": "stdout"
        }
      ]
    },
    {
      "cell_type": "markdown",
      "metadata": {
        "id": "9dHT0ClDUav8",
        "colab_type": "text"
      },
      "source": [
        "# test set 검사"
      ]
    },
    {
      "cell_type": "code",
      "metadata": {
        "id": "5qifBiIQLxGt",
        "colab_type": "code",
        "colab": {
          "base_uri": "https://localhost:8080/",
          "height": 52
        },
        "outputId": "4b89e1e3-d234-4497-c793-220edf5de53a"
      },
      "source": [
        "#print(clf.score(X_test_std,y_test))\n",
        "y_pred = clf.predict(X_test_std)\n",
        "print(\"accuracy_score :\")\n",
        "print(accuracy_score(y_test,y_pred))"
      ],
      "execution_count": 80,
      "outputs": [
        {
          "output_type": "stream",
          "text": [
            "accuracy_score :\n",
            "0.5330769230769231\n"
          ],
          "name": "stdout"
        }
      ]
    },
    {
      "cell_type": "markdown",
      "metadata": {
        "id": "y-oNXDVLL73O",
        "colab_type": "text"
      },
      "source": [
        "SVM - SVC Nu 시도"
      ]
    },
    {
      "cell_type": "code",
      "metadata": {
        "id": "c8Cp03w9ME5s",
        "colab_type": "code",
        "colab": {
          "base_uri": "https://localhost:8080/",
          "height": 158
        },
        "outputId": "4b1e5917-6bd4-4162-8303-0f7e2bc31925"
      },
      "source": [
        "from sklearn.svm import NuSVR\n",
        "from sklearn.pipeline import make_pipeline\n",
        "from sklearn.preprocessing import StandardScaler\n",
        "regr = make_pipeline(StandardScaler(), NuSVR(C=1.0, nu=0.99))\n",
        "regr.fit(X_train_std, y_train)"
      ],
      "execution_count": 102,
      "outputs": [
        {
          "output_type": "execute_result",
          "data": {
            "text/plain": [
              "Pipeline(memory=None,\n",
              "         steps=[('standardscaler',\n",
              "                 StandardScaler(copy=True, with_mean=True, with_std=True)),\n",
              "                ('nusvr',\n",
              "                 NuSVR(C=1.0, cache_size=200, coef0=0.0, degree=3,\n",
              "                       gamma='scale', kernel='rbf', max_iter=-1, nu=0.99,\n",
              "                       shrinking=True, tol=0.001, verbose=False))],\n",
              "         verbose=False)"
            ]
          },
          "metadata": {
            "tags": []
          },
          "execution_count": 102
        }
      ]
    },
    {
      "cell_type": "code",
      "metadata": {
        "id": "9dxLE0wVMFBL",
        "colab_type": "code",
        "colab": {
          "base_uri": "https://localhost:8080/",
          "height": 386
        },
        "outputId": "619f513b-b988-424e-d7ef-fe626e3fb034"
      },
      "source": [
        "bestScore = 0\n",
        "for x in range(0,99):\n",
        "  \n",
        "  regr = make_pipeline(StandardScaler(), NuSVR(C=1.0, nu=(0.01+x*0.01)))\n",
        "  regr.fit(X_train_std, y_train)\n",
        "  y_pred = regr.predict(X_val_std)\n",
        "  for i in range(0,len(y_pred)):\n",
        "  #if(i%50==0):\n",
        "    y_pred[i] = round(y_pred[i])\n",
        "  score = accuracy_score(y_val,y_pred)\n",
        "  if(bestScore < score):\n",
        "    bestScore = score\n",
        "    print(x, bestScore)"
      ],
      "execution_count": 111,
      "outputs": [
        {
          "output_type": "stream",
          "text": [
            "0 0.4746153846153846\n",
            "1 0.5123076923076924\n",
            "2 0.5161538461538462\n",
            "3 0.53\n",
            "4 0.5376923076923077\n",
            "7 0.5384615384615384\n",
            "40 0.5415384615384615\n",
            "41 0.5446153846153846\n",
            "43 0.5476923076923077\n",
            "44 0.5492307692307692\n",
            "45 0.55\n",
            "46 0.553076923076923\n",
            "51 0.5546153846153846\n",
            "53 0.5584615384615385\n",
            "56 0.5607692307692308\n",
            "58 0.5623076923076923\n",
            "59 0.5638461538461539\n",
            "64 0.566923076923077\n",
            "69 0.5692307692307692\n",
            "70 0.5715384615384616\n",
            "81 0.573076923076923\n"
          ],
          "name": "stdout"
        }
      ]
    },
    {
      "cell_type": "markdown",
      "metadata": {
        "id": "JQVnjVeVUq8I",
        "colab_type": "text"
      },
      "source": [
        "# val set 검사"
      ]
    },
    {
      "cell_type": "code",
      "metadata": {
        "id": "Q6FtQhTAMFJi",
        "colab_type": "code",
        "colab": {
          "base_uri": "https://localhost:8080/",
          "height": 263
        },
        "outputId": "0b8a4d81-dd11-4337-d835-6133d6753886"
      },
      "source": [
        "regr = make_pipeline(StandardScaler(), NuSVR(C=1.0, nu=(0.82)))\n",
        "regr.fit(X_train_std, y_train)\n",
        "print(\"accuracy_score :\")\n",
        "#print(regr.score(X_val_std,y_val))\n",
        "y_pred = regr.predict(X_val_std)\n",
        "print(y_pred[0:50])\n",
        "for i in range(0,len(y_pred)):\n",
        "  #if(i%50==0):\n",
        "    y_pred[i] = round(y_pred[i])\n",
        "print(y_pred[0:50])\n",
        "print(accuracy_score(y_val,y_pred))"
      ],
      "execution_count": 112,
      "outputs": [
        {
          "output_type": "stream",
          "text": [
            "accuracy_score :\n",
            "[5.91499989 4.8819981  6.0822238  6.25548288 6.45804692 6.24245172\n",
            " 5.77099698 6.39913881 5.77508349 5.39789853 5.78186195 6.47619088\n",
            " 5.81458854 5.95922802 5.06566537 5.24917816 5.6203624  4.9513624\n",
            " 5.92075449 5.07087014 5.36698152 5.92630062 5.37685318 5.09407401\n",
            " 5.48425046 6.76028369 5.02585815 6.80855292 5.02800417 6.09668454\n",
            " 6.79202512 5.61420067 5.23721839 5.13342147 5.89928277 6.0535265\n",
            " 5.42593826 6.30284652 6.52334408 6.86270987 6.24908198 5.58684384\n",
            " 5.8040543  5.82706983 6.27476686 6.46197131 5.97745015 5.76353798\n",
            " 6.66768005 6.75923684]\n",
            "[6. 5. 6. 6. 6. 6. 6. 6. 6. 5. 6. 6. 6. 6. 5. 5. 6. 5. 6. 5. 5. 6. 5. 5.\n",
            " 5. 7. 5. 7. 5. 6. 7. 6. 5. 5. 6. 6. 5. 6. 7. 7. 6. 6. 6. 6. 6. 6. 6. 6.\n",
            " 7. 7.]\n",
            "0.573076923076923\n"
          ],
          "name": "stdout"
        }
      ]
    },
    {
      "cell_type": "markdown",
      "metadata": {
        "id": "85z67uR2Usua",
        "colab_type": "text"
      },
      "source": [
        "# test set 검사\n"
      ]
    },
    {
      "cell_type": "code",
      "metadata": {
        "id": "W4ywTzueUvak",
        "colab_type": "code",
        "colab": {
          "base_uri": "https://localhost:8080/",
          "height": 52
        },
        "outputId": "ff7c82d2-b1d1-4ccf-a57d-7e6238b9e58f"
      },
      "source": [
        "#print(regr.score(X_test_std,y_test))\n",
        "y_pred = regr.predict(X_test_std)\n",
        "for i in range(0,len(y_pred)):\n",
        "  #if(i%50==0):\n",
        "    y_pred[i] = round(y_pred[i])\n",
        "print(\"accuracy_score :\")\n",
        "print(accuracy_score(y_test,y_pred))"
      ],
      "execution_count": 114,
      "outputs": [
        {
          "output_type": "stream",
          "text": [
            "accuracy_score :\n",
            "0.5784615384615385\n"
          ],
          "name": "stdout"
        }
      ]
    },
    {
      "cell_type": "code",
      "metadata": {
        "id": "G0xtcidCpGhn",
        "colab_type": "code",
        "colab": {
          "base_uri": "https://localhost:8080/",
          "height": 380
        },
        "outputId": "9a183a79-a89b-41a9-c668-be6eb47b64b9"
      },
      "source": [
        "from Tkinter import *\n",
        "\n",
        "window = Tk()\n",
        " \n",
        "btn3 = Button(window, text= '버튼3')\n",
        "label = Label(window, text= 'Hello World')\n",
        " \n",
        "btn3.pack(side = LEFT)\n",
        "label.pack(side = RIGHT)\n",
        " \n",
        "window.mainloop()\n",
        "\n"
      ],
      "execution_count": 133,
      "outputs": [
        {
          "output_type": "error",
          "ename": "ModuleNotFoundError",
          "evalue": "ignored",
          "traceback": [
            "\u001b[0;31m---------------------------------------------------------------------------\u001b[0m",
            "\u001b[0;31mModuleNotFoundError\u001b[0m                       Traceback (most recent call last)",
            "\u001b[0;32m<ipython-input-133-80d0e96f05e5>\u001b[0m in \u001b[0;36m<module>\u001b[0;34m()\u001b[0m\n\u001b[0;32m----> 1\u001b[0;31m \u001b[0;32mfrom\u001b[0m \u001b[0mTkinter\u001b[0m \u001b[0;32mimport\u001b[0m \u001b[0;34m*\u001b[0m\u001b[0;34m\u001b[0m\u001b[0;34m\u001b[0m\u001b[0m\n\u001b[0m\u001b[1;32m      2\u001b[0m \u001b[0;34m\u001b[0m\u001b[0m\n\u001b[1;32m      3\u001b[0m \u001b[0mwindow\u001b[0m \u001b[0;34m=\u001b[0m \u001b[0mTk\u001b[0m\u001b[0;34m(\u001b[0m\u001b[0;34m)\u001b[0m\u001b[0;34m\u001b[0m\u001b[0;34m\u001b[0m\u001b[0m\n\u001b[1;32m      4\u001b[0m \u001b[0;34m\u001b[0m\u001b[0m\n\u001b[1;32m      5\u001b[0m \u001b[0mbtn3\u001b[0m \u001b[0;34m=\u001b[0m \u001b[0mButton\u001b[0m\u001b[0;34m(\u001b[0m\u001b[0mwindow\u001b[0m\u001b[0;34m,\u001b[0m \u001b[0mtext\u001b[0m\u001b[0;34m=\u001b[0m \u001b[0;34m'버튼3'\u001b[0m\u001b[0;34m)\u001b[0m\u001b[0;34m\u001b[0m\u001b[0;34m\u001b[0m\u001b[0m\n",
            "\u001b[0;31mModuleNotFoundError\u001b[0m: No module named 'Tkinter'",
            "",
            "\u001b[0;31m---------------------------------------------------------------------------\u001b[0;32m\nNOTE: If your import is failing due to a missing package, you can\nmanually install dependencies using either !pip or !apt.\n\nTo view examples of installing some common dependencies, click the\n\"Open Examples\" button below.\n\u001b[0;31m---------------------------------------------------------------------------\u001b[0m\n"
          ]
        }
      ]
    }
  ]
}
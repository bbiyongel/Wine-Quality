{
 "cells": [
  {
   "cell_type": "code",
   "execution_count": 2,
   "metadata": {},
   "outputs": [],
   "source": [
    "import numpy as np\n",
    "import pandas as pd"
   ]
  },
  {
   "cell_type": "code",
   "execution_count": 3,
   "metadata": {},
   "outputs": [],
   "source": [
    "import csv\n",
    "f1=open('./data/X_train_std.csv','r',encoding='UTF-8')\n",
    "f2=open('./data/y_train.csv','r',encoding='UTF-8')\n",
    "\n",
    "f3=open('./data/X_val_std.csv','r',encoding='UTF-8')\n",
    "f4=open('./data/y_val.csv','r',encoding='UTF-8')\n",
    "\n",
    "f5=open('./data/X_test_std.csv','r',encoding='UTF-8')\n",
    "f6=open('./data/y_test.csv','r',encoding='UTF-8')\n",
    "\n",
    "X_train_std = []\n",
    "y_train = []\n",
    "\n",
    "X_val_std = []\n",
    "y_val = []\n",
    "\n",
    "X_test_std = []\n",
    "y_test = []\n",
    "\n",
    "for r in csv.reader(f1):\n",
    "    X_train_std.append(r)\n",
    "for r in csv.reader(f3):\n",
    "    X_val_std.append(r)\n",
    "for r in csv.reader(f5):\n",
    "    X_test_std.append(r)\n",
    "\n",
    "for r in csv.reader(f2):\n",
    "    r=r[0].split(',')\n",
    "    for i in r:\n",
    "        y_train.append(i)\n",
    "for r in csv.reader(f4):\n",
    "    r=r[0].split(',')\n",
    "    for i in r:\n",
    "        y_val.append(i)\n",
    "for r in csv.reader(f6):\n",
    "    r=r[0].split(',')\n",
    "    for i in r:\n",
    "        y_test.append(i)\n",
    "        \n",
    "X_train_std=np.array(X_train_std)\n",
    "X_train_std = X_train_std.astype(np.float64)\n",
    "y_train=np.array(y_train)\n",
    "y_train = y_train.astype(np.float64)\n",
    "\n",
    "X_val_std=np.array(X_val_std)\n",
    "X_val_std = X_val_std.astype(np.float64)\n",
    "y_val=np.array(y_val)\n",
    "y_val = y_val.astype(np.float64)\n",
    "\n",
    "X_test_std=np.array(X_test_std)\n",
    "X_test_std = X_test_std.astype(np.float64)\n",
    "y_test=np.array(y_test)\n",
    "y_test = y_test.astype(np.float64)"
   ]
  },
  {
   "cell_type": "code",
   "execution_count": 4,
   "metadata": {},
   "outputs": [
    {
     "data": {
      "text/plain": [
       "ExtraTreesClassifier(bootstrap=False, class_weight=None, criterion='entropy',\n",
       "           max_depth=None, max_features='auto', max_leaf_nodes=None,\n",
       "           min_impurity_decrease=0.0, min_impurity_split=None,\n",
       "           min_samples_leaf=1, min_samples_split=4,\n",
       "           min_weight_fraction_leaf=0.0, n_estimators=1500, n_jobs=None,\n",
       "           oob_score=False, random_state=42, verbose=0, warm_start=False)"
      ]
     },
     "execution_count": 4,
     "metadata": {},
     "output_type": "execute_result"
    }
   ],
   "source": [
    "from sklearn.ensemble import ExtraTreesClassifier\n",
    "extra_trees_clf = ExtraTreesClassifier(n_estimators=1500, min_samples_split=4, criterion='entropy',random_state=42)\n",
    "extra_trees_clf.fit(X_train_std, y_train)"
   ]
  },
  {
   "cell_type": "code",
   "execution_count": 5,
   "metadata": {},
   "outputs": [
    {
     "data": {
      "text/plain": [
       "0.6707692307692308"
      ]
     },
     "execution_count": 5,
     "metadata": {},
     "output_type": "execute_result"
    }
   ],
   "source": [
    "extra_trees_clf.score(X_val_std, y_val)"
   ]
  },
  {
   "cell_type": "code",
   "execution_count": 6,
   "metadata": {},
   "outputs": [
    {
     "data": {
      "text/plain": [
       "0.6538461538461539"
      ]
     },
     "execution_count": 6,
     "metadata": {},
     "output_type": "execute_result"
    }
   ],
   "source": [
    "extra_trees_clf.score(X_test_std, y_test)"
   ]
  },
  {
   "cell_type": "code",
   "execution_count": 7,
   "metadata": {},
   "outputs": [],
   "source": [
    "from sklearn.preprocessing import StandardScaler\n",
    "#입출력을 위한 함수\n",
    "#입력: 공백으로 구분된 11개의 특성\n",
    "#출력: 11개 특성 + 등급 결과\n",
    "def wine_grade_prediction(features):\n",
    "    #형태 가공\n",
    "    X = [str(features).split()]\n",
    "    \n",
    "    #특성 출력\n",
    "    feat = ['fixed acidity', 'volatile acidity', 'citric acid', 'residual sugar',\n",
    "            'chlorides', 'free sulfur dioxide', 'total sulfur dioxide', 'density',\n",
    "            'pH', 'sulphates', 'alcohol']\n",
    "    for i in range(0,11):\n",
    "        print(feat[i] + \": \" + str(X[0][i]))\n",
    "    \n",
    "    #정규화\n",
    "    X = np.array(X)\n",
    "    scaler = StandardScaler()\n",
    "    scaler.fit(X)\n",
    "    X_std = scaler.transform(X)\n",
    "    \n",
    "    print()\n",
    "    \n",
    "    return \"Your Wine Grade: \" + str(int(extra_trees_clf.predict(X)[0]))"
   ]
  },
  {
   "cell_type": "code",
   "execution_count": 10,
   "metadata": {},
   "outputs": [
    {
     "name": "stdout",
     "output_type": "stream",
     "text": [
      "\n",
      "Please Enter Features:  \n",
      "6.6 0.17 0.38 1.5 0.032 28 112 0.9914 3.25 0.55 11.4\n",
      "\n",
      "fixed acidity: 6.6\n",
      "volatile acidity: 0.17\n",
      "citric acid: 0.38\n",
      "residual sugar: 1.5\n",
      "chlorides: 0.032\n",
      "free sulfur dioxide: 28\n",
      "total sulfur dioxide: 112\n",
      "density: 0.9914\n",
      "pH: 3.25\n",
      "sulphates: 0.55\n",
      "alcohol: 11.4\n",
      "\n",
      "Your Wine Grade: 6\n",
      "\n"
     ]
    },
    {
     "name": "stderr",
     "output_type": "stream",
     "text": [
      "/home/ec2-user/anaconda3/envs/pytorch_p36/lib/python3.6/site-packages/sklearn/utils/validation.py:595: DataConversionWarning: Data with input dtype <U6 was converted to float64 by StandardScaler.\n",
      "  warnings.warn(msg, DataConversionWarning)\n",
      "/home/ec2-user/anaconda3/envs/pytorch_p36/lib/python3.6/site-packages/sklearn/utils/validation.py:595: DataConversionWarning: Data with input dtype <U6 was converted to float64 by StandardScaler.\n",
      "  warnings.warn(msg, DataConversionWarning)\n"
     ]
    }
   ],
   "source": [
    "if __name__ == \"__main__\" :\n",
    "    print()\n",
    "    F = input(\"Please Enter Features:  \\n\")\n",
    "    print()\n",
    "    print(wine_grade_prediction(F))\n",
    "    print()"
   ]
  },
  {
   "cell_type": "code",
   "execution_count": null,
   "metadata": {},
   "outputs": [],
   "source": []
  }
 ],
 "metadata": {
  "kernelspec": {
   "display_name": "conda_pytorch_p36",
   "language": "python",
   "name": "conda_pytorch_p36"
  }
 },
 "nbformat": 4,
 "nbformat_minor": 4
}
